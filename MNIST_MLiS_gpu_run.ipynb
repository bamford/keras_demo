{
 "cells": [
  {
   "cell_type": "markdown",
   "metadata": {
    "slideshow": {
     "slide_type": "slide"
    }
   },
   "source": [
    "# Training simple neural networks on the MNIST dataset using keras"
   ]
  },
  {
   "cell_type": "markdown",
   "metadata": {
    "slideshow": {
     "slide_type": "subslide"
    }
   },
   "source": [
    "You can create a suitable conda environment to run this notebook using:\n",
    "\n",
    "    conda create -n keras_demo python=3 tensorflow matplotlib ipykernel scikit-learn pandas\n",
    "    \n",
    "If you haven't got the latest cuda drivers, you may also need to specify `cudatoolkit=9.0` or similar."
   ]
  },
  {
   "cell_type": "markdown",
   "metadata": {
    "slideshow": {
     "slide_type": "slide"
    }
   },
   "source": [
    "### First some common imports..."
   ]
  },
  {
   "cell_type": "code",
   "execution_count": 1,
   "metadata": {
    "slideshow": {
     "slide_type": "fragment"
    }
   },
   "outputs": [],
   "source": [
    "%matplotlib inline\n",
    "from matplotlib import pyplot as plt\n",
    "import numpy as np\n",
    "import pandas as pd"
   ]
  },
  {
   "cell_type": "markdown",
   "metadata": {
    "slideshow": {
     "slide_type": "slide"
    }
   },
   "source": [
    "### Set up TensorFlow in a friendly manner"
   ]
  },
  {
   "cell_type": "code",
   "execution_count": 2,
   "metadata": {
    "slideshow": {
     "slide_type": "fragment"
    }
   },
   "outputs": [],
   "source": [
    "import tensorflow as tf\n",
    "\n",
    "# if multiple GPUs, only use one of them \n",
    "import os\n",
    "os.environ[\"CUDA_VISIBLE_DEVICES\"]=\"1\"\n",
    "\n",
    "# avoid hogging all the GPU memory\n",
    "config = tf.ConfigProto()\n",
    "config.gpu_options.allow_growth=True\n",
    "sess = tf.Session(config=config)"
   ]
  },
  {
   "cell_type": "code",
   "execution_count": 3,
   "metadata": {
    "scrolled": true,
    "slideshow": {
     "slide_type": "fragment"
    }
   },
   "outputs": [
    {
     "data": {
      "text/plain": [
       "[name: \"/device:CPU:0\"\n",
       " device_type: \"CPU\"\n",
       " memory_limit: 268435456\n",
       " locality {\n",
       " }\n",
       " incarnation: 5507629784551650354, name: \"/device:GPU:0\"\n",
       " device_type: \"GPU\"\n",
       " memory_limit: 10140218164\n",
       " locality {\n",
       "   bus_id: 1\n",
       "   links {\n",
       "   }\n",
       " }\n",
       " incarnation: 355808756133120134\n",
       " physical_device_desc: \"device: 0, name: GeForce GTX 1080 Ti, pci bus id: 0000:07:00.0, compute capability: 6.1\"]"
      ]
     },
     "execution_count": 3,
     "metadata": {},
     "output_type": "execute_result"
    }
   ],
   "source": [
    "# check that we have the devices we expect available\n",
    "from tensorflow.python.client import device_lib\n",
    "device_lib.list_local_devices()"
   ]
  },
  {
   "cell_type": "markdown",
   "metadata": {
    "slideshow": {
     "slide_type": "slide"
    }
   },
   "source": [
    "### Import keras bits and pieces"
   ]
  },
  {
   "cell_type": "code",
   "execution_count": 4,
   "metadata": {
    "slideshow": {
     "slide_type": "fragment"
    }
   },
   "outputs": [],
   "source": [
    "# if you have a recent version of tensorflow, keras is included\n",
    "from tensorflow import keras\n",
    "from tensorflow.keras.datasets import mnist\n",
    "from tensorflow.keras.models import Sequential\n",
    "from tensorflow.keras.layers import Dense, Dropout, Conv2D, MaxPooling2D, Flatten\n",
    "from tensorflow.keras.optimizers import RMSprop"
   ]
  },
  {
   "cell_type": "markdown",
   "metadata": {
    "slideshow": {
     "slide_type": "slide"
    }
   },
   "source": [
    "### We will use a standard demonstration data set: MNIST handwritten digits"
   ]
  },
  {
   "cell_type": "code",
   "execution_count": 5,
   "metadata": {
    "slideshow": {
     "slide_type": "fragment"
    }
   },
   "outputs": [],
   "source": [
    "# the data, split between train and test sets\n",
    "(x_train, y_train), (x_valtest, y_valtest) = mnist.load_data()"
   ]
  },
  {
   "cell_type": "code",
   "execution_count": 6,
   "metadata": {
    "slideshow": {
     "slide_type": "skip"
    }
   },
   "outputs": [],
   "source": [
    "# demo the effect of noisy data\n",
    "#x_train = (x_train/5 + np.random.poisson(200, size=x_train.shape)).clip(0, 255)\n",
    "#x_valtest = (x_valtest/5 + np.random.poisson(200, size=x_valtest.shape)).clip(0, 255)"
   ]
  },
  {
   "cell_type": "code",
   "execution_count": 7,
   "metadata": {
    "slideshow": {
     "slide_type": "skip"
    }
   },
   "outputs": [],
   "source": [
    "# if we wanted to test our model on limited data,\n",
    "# we could reduce the amount of training data like this...\n",
    "#idx = np.random.choice(len(x_train), size=len(x_train)//100)\n",
    "#x_train = x_train[idx]\n",
    "#y_train = y_train[idx]"
   ]
  },
  {
   "cell_type": "markdown",
   "metadata": {
    "slideshow": {
     "slide_type": "fragment"
    }
   },
   "source": [
    "If your data isn't split, or want a validation set, need to do split manually"
   ]
  },
  {
   "cell_type": "code",
   "execution_count": 8,
   "metadata": {
    "slideshow": {
     "slide_type": "fragment"
    }
   },
   "outputs": [],
   "source": [
    "from sklearn.model_selection import train_test_split\n",
    "x_test, x_val, y_test, y_val = train_test_split(x_valtest, y_valtest, test_size=0.5)"
   ]
  },
  {
   "cell_type": "code",
   "execution_count": 9,
   "metadata": {
    "slideshow": {
     "slide_type": "fragment"
    }
   },
   "outputs": [
    {
     "data": {
      "text/plain": [
       "((60000, 28, 28), (60000,))"
      ]
     },
     "execution_count": 9,
     "metadata": {},
     "output_type": "execute_result"
    }
   ],
   "source": [
    "x_train.shape, y_train.shape"
   ]
  },
  {
   "cell_type": "code",
   "execution_count": 10,
   "metadata": {
    "slideshow": {
     "slide_type": "fragment"
    }
   },
   "outputs": [
    {
     "data": {
      "text/plain": [
       "((5000, 28, 28), (5000,))"
      ]
     },
     "execution_count": 10,
     "metadata": {},
     "output_type": "execute_result"
    }
   ],
   "source": [
    "x_test.shape, y_test.shape"
   ]
  },
  {
   "cell_type": "code",
   "execution_count": 11,
   "metadata": {
    "slideshow": {
     "slide_type": "fragment"
    }
   },
   "outputs": [
    {
     "data": {
      "text/plain": [
       "((5000, 28, 28), (5000,))"
      ]
     },
     "execution_count": 11,
     "metadata": {},
     "output_type": "execute_result"
    }
   ],
   "source": [
    "x_val.shape, y_val.shape"
   ]
  },
  {
   "cell_type": "markdown",
   "metadata": {
    "slideshow": {
     "slide_type": "slide"
    }
   },
   "source": [
    "### Take a look at the data\n",
    "\n",
    "This is a very quick glance - you should carefully examine any new dataset"
   ]
  },
  {
   "cell_type": "code",
   "execution_count": 12,
   "metadata": {
    "slideshow": {
     "slide_type": "fragment"
    }
   },
   "outputs": [
    {
     "name": "stdout",
     "output_type": "stream",
     "text": [
      "class = 1\n"
     ]
    },
    {
     "data": {
      "image/png": "[encoded data removed]",
      "text/plain": [
       "<Figure size 432x288 with 1 Axes>"
      ]
     },
     "metadata": {
      "needs_background": "light"
     },
     "output_type": "display_data"
    }
   ],
   "source": [
    "i = 3\n",
    "plt.imshow(x_train[i], cmap='gray')\n",
    "print('class =', y_train[i])"
   ]
  },
  {
   "cell_type": "markdown",
   "metadata": {
    "slideshow": {
     "slide_type": "slide"
    }
   },
   "source": [
    "### Prepare the data"
   ]
  },
  {
   "cell_type": "code",
   "execution_count": 13,
   "metadata": {
    "slideshow": {
     "slide_type": "fragment"
    }
   },
   "outputs": [],
   "source": [
    "# convert class vectors to \"one-hot\" binary class matrices\n",
    "num_classes = 10\n",
    "y_train = keras.utils.to_categorical(y_train, num_classes)\n",
    "y_test = keras.utils.to_categorical(y_test, num_classes)\n",
    "y_val = keras.utils.to_categorical(y_val, num_classes)"
   ]
  },
  {
   "cell_type": "code",
   "execution_count": 14,
   "metadata": {
    "slideshow": {
     "slide_type": "fragment"
    }
   },
   "outputs": [
    {
     "data": {
      "text/plain": [
       "array([0., 1., 0., 0., 0., 0., 0., 0., 0., 0.], dtype=float32)"
      ]
     },
     "execution_count": 14,
     "metadata": {},
     "output_type": "execute_result"
    }
   ],
   "source": [
    "y_train[i]"
   ]
  },
  {
   "cell_type": "code",
   "execution_count": 15,
   "metadata": {
    "slideshow": {
     "slide_type": "fragment"
    }
   },
   "outputs": [],
   "source": [
    "def process_data(x):\n",
    "    x = x.reshape(-1, 784)\n",
    "    x = x.astype('float32')\n",
    "    x /= 255\n",
    "    return x"
   ]
  },
  {
   "cell_type": "code",
   "execution_count": 16,
   "metadata": {
    "slideshow": {
     "slide_type": "fragment"
    }
   },
   "outputs": [],
   "source": [
    "x_train = process_data(x_train)\n",
    "x_test = process_data(x_test)\n",
    "x_val = process_data(x_val)"
   ]
  },
  {
   "cell_type": "code",
   "execution_count": 17,
   "metadata": {
    "slideshow": {
     "slide_type": "fragment"
    }
   },
   "outputs": [
    {
     "name": "stdout",
     "output_type": "stream",
     "text": [
      "60000 train samples\n",
      "5000 test samples\n",
      "5000 validation samples\n"
     ]
    }
   ],
   "source": [
    "print(x_train.shape[0], 'train samples')\n",
    "print(x_test.shape[0], 'test samples')\n",
    "print(x_val.shape[0], 'validation samples')"
   ]
  },
  {
   "cell_type": "markdown",
   "metadata": {
    "slideshow": {
     "slide_type": "slide"
    }
   },
   "source": [
    "## Fully-connected NN"
   ]
  },
  {
   "cell_type": "markdown",
   "metadata": {
    "slideshow": {
     "slide_type": "slide"
    }
   },
   "source": [
    "### Construct the network"
   ]
  },
  {
   "cell_type": "code",
   "execution_count": 18,
   "metadata": {
    "slideshow": {
     "slide_type": "fragment"
    }
   },
   "outputs": [],
   "source": [
    "# a fairly small network for speed\n",
    "fcmodel = Sequential()\n",
    "fcmodel.add(Dense(32, activation='relu', input_shape=(784,)))\n",
    "fcmodel.add(Dense(32, activation='relu'))\n",
    "# could include dropout, regularisation, ...\n",
    "fcmodel.add(Dense(num_classes, activation='softmax'))"
   ]
  },
  {
   "cell_type": "code",
   "execution_count": 19,
   "metadata": {
    "slideshow": {
     "slide_type": "fragment"
    }
   },
   "outputs": [
    {
     "name": "stdout",
     "output_type": "stream",
     "text": [
      "_________________________________________________________________\n",
      "Layer (type)                 Output Shape              Param #   \n",
      "=================================================================\n",
      "dense (Dense)                (None, 32)                25120     \n",
      "_________________________________________________________________\n",
      "dense_1 (Dense)              (None, 32)                1056      \n",
      "_________________________________________________________________\n",
      "dense_2 (Dense)              (None, 10)                330       \n",
      "=================================================================\n",
      "Total params: 26,506\n",
      "Trainable params: 26,506\n",
      "Non-trainable params: 0\n",
      "_________________________________________________________________\n"
     ]
    }
   ],
   "source": [
    "fcmodel.summary()"
   ]
  },
  {
   "cell_type": "code",
   "execution_count": 20,
   "metadata": {
    "slideshow": {
     "slide_type": "fragment"
    }
   },
   "outputs": [],
   "source": [
    "fcmodel.compile(loss='categorical_crossentropy',\n",
    "                optimizer=RMSprop(),\n",
    "                metrics=['accuracy'])"
   ]
  },
  {
   "cell_type": "markdown",
   "metadata": {
    "slideshow": {
     "slide_type": "slide"
    }
   },
   "source": [
    "### Train the network"
   ]
  },
  {
   "cell_type": "code",
   "execution_count": 21,
   "metadata": {
    "slideshow": {
     "slide_type": "fragment"
    }
   },
   "outputs": [],
   "source": [
    "batch_size = 128\n",
    "epochs = 50"
   ]
  },
  {
   "cell_type": "code",
   "execution_count": 22,
   "metadata": {
    "scrolled": true,
    "slideshow": {
     "slide_type": "fragment"
    }
   },
   "outputs": [
    {
     "name": "stdout",
     "output_type": "stream",
     "text": [
      "Train on 60000 samples, validate on 5000 samples\n",
      "Epoch 1/50\n",
      " - 4s - loss: 0.4659 - acc: 0.8695 - val_loss: 0.2700 - val_acc: 0.9220\n",
      "Epoch 2/50\n",
      " - 3s - loss: 0.2261 - acc: 0.9342 - val_loss: 0.2040 - val_acc: 0.9366\n",
      "Epoch 3/50\n",
      " - 3s - loss: 0.1788 - acc: 0.9477 - val_loss: 0.1863 - val_acc: 0.9428\n",
      "Epoch 4/50\n",
      " - 3s - loss: 0.1499 - acc: 0.9559 - val_loss: 0.1536 - val_acc: 0.9518\n",
      "Epoch 5/50\n",
      " - 3s - loss: 0.1315 - acc: 0.9612 - val_loss: 0.1427 - val_acc: 0.9566\n",
      "Epoch 6/50\n",
      " - 3s - loss: 0.1178 - acc: 0.9646 - val_loss: 0.1350 - val_acc: 0.9576\n",
      "Epoch 7/50\n",
      " - 3s - loss: 0.1077 - acc: 0.9679 - val_loss: 0.1322 - val_acc: 0.9602\n",
      "Epoch 8/50\n",
      " - 3s - loss: 0.0996 - acc: 0.9706 - val_loss: 0.1243 - val_acc: 0.9620\n",
      "Epoch 9/50\n",
      " - 3s - loss: 0.0929 - acc: 0.9725 - val_loss: 0.1295 - val_acc: 0.9638\n",
      "Epoch 10/50\n",
      " - 3s - loss: 0.0868 - acc: 0.9740 - val_loss: 0.1190 - val_acc: 0.9626\n",
      "Epoch 11/50\n",
      " - 3s - loss: 0.0824 - acc: 0.9753 - val_loss: 0.1221 - val_acc: 0.9630\n",
      "Epoch 12/50\n",
      " - 3s - loss: 0.0769 - acc: 0.9775 - val_loss: 0.1336 - val_acc: 0.9610\n",
      "Epoch 13/50\n",
      " - 3s - loss: 0.0731 - acc: 0.9777 - val_loss: 0.1188 - val_acc: 0.9652\n",
      "Epoch 14/50\n",
      " - 3s - loss: 0.0698 - acc: 0.9792 - val_loss: 0.1137 - val_acc: 0.9674\n",
      "Epoch 15/50\n",
      " - 3s - loss: 0.0665 - acc: 0.9799 - val_loss: 0.1245 - val_acc: 0.9652\n",
      "Epoch 16/50\n",
      " - 3s - loss: 0.0639 - acc: 0.9805 - val_loss: 0.1175 - val_acc: 0.9668\n",
      "Epoch 17/50\n",
      " - 3s - loss: 0.0605 - acc: 0.9819 - val_loss: 0.1275 - val_acc: 0.9638\n",
      "Epoch 18/50\n",
      " - 3s - loss: 0.0581 - acc: 0.9823 - val_loss: 0.1220 - val_acc: 0.9662\n",
      "Epoch 19/50\n",
      " - 3s - loss: 0.0547 - acc: 0.9835 - val_loss: 0.1259 - val_acc: 0.9656\n",
      "Epoch 20/50\n",
      " - 3s - loss: 0.0526 - acc: 0.9836 - val_loss: 0.1297 - val_acc: 0.9648\n",
      "Epoch 21/50\n",
      " - 3s - loss: 0.0508 - acc: 0.9844 - val_loss: 0.1121 - val_acc: 0.9678\n",
      "Epoch 22/50\n",
      " - 3s - loss: 0.0486 - acc: 0.9849 - val_loss: 0.1317 - val_acc: 0.9658\n",
      "Epoch 23/50\n",
      " - 3s - loss: 0.0465 - acc: 0.9862 - val_loss: 0.1320 - val_acc: 0.9666\n",
      "Epoch 24/50\n",
      " - 3s - loss: 0.0449 - acc: 0.9863 - val_loss: 0.1229 - val_acc: 0.9666\n",
      "Epoch 25/50\n",
      " - 3s - loss: 0.0428 - acc: 0.9875 - val_loss: 0.1293 - val_acc: 0.9682\n",
      "Epoch 26/50\n",
      " - 3s - loss: 0.0415 - acc: 0.9874 - val_loss: 0.1421 - val_acc: 0.9642\n",
      "Epoch 27/50\n",
      " - 3s - loss: 0.0401 - acc: 0.9880 - val_loss: 0.1354 - val_acc: 0.9656\n",
      "Epoch 28/50\n",
      " - 3s - loss: 0.0385 - acc: 0.9881 - val_loss: 0.1394 - val_acc: 0.9658\n",
      "Epoch 29/50\n",
      " - 4s - loss: 0.0365 - acc: 0.9891 - val_loss: 0.1336 - val_acc: 0.9670\n",
      "Epoch 30/50\n",
      " - 3s - loss: 0.0353 - acc: 0.9898 - val_loss: 0.1395 - val_acc: 0.9656\n",
      "Epoch 31/50\n",
      " - 3s - loss: 0.0337 - acc: 0.9897 - val_loss: 0.1463 - val_acc: 0.9656\n",
      "Epoch 32/50\n",
      " - 3s - loss: 0.0328 - acc: 0.9896 - val_loss: 0.1440 - val_acc: 0.9684\n",
      "Epoch 33/50\n",
      " - 3s - loss: 0.0310 - acc: 0.9905 - val_loss: 0.1430 - val_acc: 0.9678\n",
      "Epoch 34/50\n",
      " - 3s - loss: 0.0304 - acc: 0.9908 - val_loss: 0.1615 - val_acc: 0.9630\n",
      "Epoch 35/50\n",
      " - 3s - loss: 0.0284 - acc: 0.9913 - val_loss: 0.1506 - val_acc: 0.9676\n",
      "Epoch 36/50\n",
      " - 3s - loss: 0.0278 - acc: 0.9915 - val_loss: 0.1551 - val_acc: 0.9648\n",
      "Epoch 37/50\n",
      " - 3s - loss: 0.0270 - acc: 0.9922 - val_loss: 0.1544 - val_acc: 0.9650\n",
      "Epoch 38/50\n",
      " - 3s - loss: 0.0255 - acc: 0.9924 - val_loss: 0.1546 - val_acc: 0.9658\n",
      "Epoch 39/50\n",
      " - 3s - loss: 0.0247 - acc: 0.9922 - val_loss: 0.1599 - val_acc: 0.9652\n",
      "Epoch 40/50\n",
      " - 3s - loss: 0.0238 - acc: 0.9933 - val_loss: 0.1619 - val_acc: 0.9660\n",
      "Epoch 41/50\n",
      " - 3s - loss: 0.0230 - acc: 0.9933 - val_loss: 0.1559 - val_acc: 0.9650\n",
      "Epoch 42/50\n",
      " - 3s - loss: 0.0220 - acc: 0.9933 - val_loss: 0.1657 - val_acc: 0.9650\n",
      "Epoch 43/50\n",
      " - 3s - loss: 0.0216 - acc: 0.9936 - val_loss: 0.1799 - val_acc: 0.9638\n",
      "Epoch 44/50\n",
      " - 3s - loss: 0.0200 - acc: 0.9940 - val_loss: 0.1837 - val_acc: 0.9632\n",
      "Epoch 45/50\n",
      " - 3s - loss: 0.0195 - acc: 0.9942 - val_loss: 0.1689 - val_acc: 0.9632\n",
      "Epoch 46/50\n",
      " - 3s - loss: 0.0188 - acc: 0.9945 - val_loss: 0.1701 - val_acc: 0.9650\n",
      "Epoch 47/50\n",
      " - 3s - loss: 0.0182 - acc: 0.9942 - val_loss: 0.1770 - val_acc: 0.9638\n",
      "Epoch 48/50\n",
      " - 3s - loss: 0.0176 - acc: 0.9947 - val_loss: 0.1776 - val_acc: 0.9634\n",
      "Epoch 49/50\n",
      " - 3s - loss: 0.0168 - acc: 0.9954 - val_loss: 0.1806 - val_acc: 0.9652\n",
      "Epoch 50/50\n",
      " - 3s - loss: 0.0161 - acc: 0.9953 - val_loss: 0.1752 - val_acc: 0.9658\n"
     ]
    }
   ],
   "source": [
    "history = fcmodel.fit(x_train, y_train,\n",
    "                      batch_size=batch_size,\n",
    "                      epochs=epochs,\n",
    "                      verbose=2,\n",
    "                      validation_data=(x_test, y_test))"
   ]
  },
  {
   "cell_type": "code",
   "execution_count": 23,
   "metadata": {
    "slideshow": {
     "slide_type": "subslide"
    }
   },
   "outputs": [
    {
     "name": "stdout",
     "output_type": "stream",
     "text": [
      "Test loss: 0.17520321746068077\n",
      "Test accuracy: 0.9658\n"
     ]
    }
   ],
   "source": [
    "score = fcmodel.evaluate(x_test, y_test, verbose=0)\n",
    "print('Test loss:', score[0])\n",
    "print('Test accuracy:', score[1])"
   ]
  },
  {
   "cell_type": "code",
   "execution_count": 24,
   "metadata": {
    "slideshow": {
     "slide_type": "subslide"
    }
   },
   "outputs": [
    {
     "name": "stdout",
     "output_type": "stream",
     "text": [
      "Test loss: 0.14310552990114667\n",
      "Test accuracy: 0.9702\n"
     ]
    }
   ],
   "source": [
    "# really we should not look at the score for this set of data\n",
    "# until we have finished tuning our model\n",
    "score = fcmodel.evaluate(x_val, y_val, verbose=0)\n",
    "print('Test loss:', score[0])\n",
    "print('Test accuracy:', score[1])"
   ]
  },
  {
   "cell_type": "code",
   "execution_count": 25,
   "metadata": {
    "slideshow": {
     "slide_type": "subslide"
    }
   },
   "outputs": [],
   "source": [
    "def histplot(history):\n",
    "    hist = pd.DataFrame(history.history)\n",
    "    fig, (ax1, ax2) = plt.subplots(1, 2, figsize=(15, 5))\n",
    "    hist.plot(y=['loss', 'val_loss'], ax=ax1)\n",
    "    min_loss = hist['val_loss'].min()\n",
    "    ax1.hlines(min_loss, 0, len(hist), linestyle='dotted',\n",
    "               label='min(val_loss) = {:.3f}'.format(min_loss))\n",
    "    ax1.legend(loc='upper right')\n",
    "    hist.plot(y=['acc', 'val_acc'], ax=ax2)\n",
    "    max_acc = hist['val_acc'].max()\n",
    "    ax2.hlines(max_acc, 0, len(hist), linestyle='dotted',\n",
    "               label='max(val_acc) = {:.3f}'.format(max_acc))\n",
    "    ax2.legend(loc='lower right', fontsize='large')"
   ]
  },
  {
   "cell_type": "code",
   "execution_count": 26,
   "metadata": {
    "scrolled": true,
    "slideshow": {
     "slide_type": "subslide"
    }
   },
   "outputs": [
    {
     "data": {
      "image/png": "[encoded data removed]",
      "text/plain": [
       "<Figure size 1080x360 with 2 Axes>"
      ]
     },
     "metadata": {
      "needs_background": "light"
     },
     "output_type": "display_data"
    }
   ],
   "source": [
    "histplot(history)"
   ]
  },
  {
   "cell_type": "markdown",
   "metadata": {
    "slideshow": {
     "slide_type": "slide"
    }
   },
   "source": [
    "## Convolutional Neural Network (CNN)"
   ]
  },
  {
   "cell_type": "markdown",
   "metadata": {
    "slideshow": {
     "slide_type": "slide"
    }
   },
   "source": [
    "### Reshape the data"
   ]
  },
  {
   "cell_type": "code",
   "execution_count": 27,
   "metadata": {
    "slideshow": {
     "slide_type": "fragment"
    }
   },
   "outputs": [],
   "source": [
    "x_train = x_train.reshape(-1, 28, 28, 1)\n",
    "x_test = x_test.reshape(-1, 28, 28, 1)"
   ]
  },
  {
   "cell_type": "markdown",
   "metadata": {
    "slideshow": {
     "slide_type": "slide"
    }
   },
   "source": [
    "### Construct the network"
   ]
  },
  {
   "cell_type": "code",
   "execution_count": 28,
   "metadata": {
    "slideshow": {
     "slide_type": "fragment"
    }
   },
   "outputs": [],
   "source": [
    "# a fairly small network for speed\n",
    "cnnmodel = Sequential()\n",
    "cnnmodel.add(Conv2D(8, (3, 3), activation='relu', input_shape=(28, 28, 1)))\n",
    "cnnmodel.add(MaxPooling2D((3, 3)))\n",
    "cnnmodel.add(Conv2D(16, (3, 3), activation='relu'))\n",
    "cnnmodel.add(MaxPooling2D((2, 2)))\n",
    "cnnmodel.add(Flatten())\n",
    "cnnmodel.add(Dense(num_classes, activation='softmax'))\n",
    "# could include dropout, regularisation, ..."
   ]
  },
  {
   "cell_type": "code",
   "execution_count": 29,
   "metadata": {
    "slideshow": {
     "slide_type": "fragment"
    }
   },
   "outputs": [],
   "source": [
    "cnnmodel.compile(loss='categorical_crossentropy',\n",
    "                optimizer=RMSprop(),\n",
    "                metrics=['accuracy'])"
   ]
  },
  {
   "cell_type": "code",
   "execution_count": 30,
   "metadata": {
    "slideshow": {
     "slide_type": "fragment"
    }
   },
   "outputs": [
    {
     "name": "stdout",
     "output_type": "stream",
     "text": [
      "_________________________________________________________________\n",
      "Layer (type)                 Output Shape              Param #   \n",
      "=================================================================\n",
      "conv2d (Conv2D)              (None, 26, 26, 8)         80        \n",
      "_________________________________________________________________\n",
      "max_pooling2d (MaxPooling2D) (None, 8, 8, 8)           0         \n",
      "_________________________________________________________________\n",
      "conv2d_1 (Conv2D)            (None, 6, 6, 16)          1168      \n",
      "_________________________________________________________________\n",
      "max_pooling2d_1 (MaxPooling2 (None, 3, 3, 16)          0         \n",
      "_________________________________________________________________\n",
      "flatten (Flatten)            (None, 144)               0         \n",
      "_________________________________________________________________\n",
      "dense_3 (Dense)              (None, 10)                1450      \n",
      "=================================================================\n",
      "Total params: 2,698\n",
      "Trainable params: 2,698\n",
      "Non-trainable params: 0\n",
      "_________________________________________________________________\n"
     ]
    }
   ],
   "source": [
    "cnnmodel.summary()"
   ]
  },
  {
   "cell_type": "code",
   "execution_count": 31,
   "metadata": {
    "slideshow": {
     "slide_type": "fragment"
    }
   },
   "outputs": [
    {
     "name": "stdout",
     "output_type": "stream",
     "text": [
      "WARNING:tensorflow:This model was compiled with a Keras optimizer (<tensorflow.python.keras.optimizers.RMSprop object at 0x7f447c4b35c0>) but is being saved in TensorFlow format with `save_weights`. The model's weights will be saved, but unlike with TensorFlow optimizers in the TensorFlow format the optimizer's state will not be saved.\n",
      "\n",
      "Consider using a TensorFlow optimizer from `tf.train`.\n"
     ]
    }
   ],
   "source": [
    "# save weights for reinitialising below\n",
    "cnnmodel.save_weights('/tmp/cnnmodel_init_weights.tf')"
   ]
  },
  {
   "cell_type": "markdown",
   "metadata": {
    "slideshow": {
     "slide_type": "slide"
    }
   },
   "source": [
    "### Train the network"
   ]
  },
  {
   "cell_type": "code",
   "execution_count": 32,
   "metadata": {
    "slideshow": {
     "slide_type": "fragment"
    }
   },
   "outputs": [
    {
     "name": "stdout",
     "output_type": "stream",
     "text": [
      "Train on 60000 samples, validate on 5000 samples\n",
      "Epoch 1/100\n",
      " - 5s - loss: 0.6546 - acc: 0.8228 - val_loss: 0.2619 - val_acc: 0.9216\n",
      "Epoch 2/100\n",
      " - 4s - loss: 0.2142 - acc: 0.9343 - val_loss: 0.1696 - val_acc: 0.9446\n",
      "Epoch 3/100\n",
      " - 4s - loss: 0.1496 - acc: 0.9548 - val_loss: 0.1206 - val_acc: 0.9596\n",
      "Epoch 4/100\n",
      " - 4s - loss: 0.1214 - acc: 0.9625 - val_loss: 0.1008 - val_acc: 0.9658\n",
      "Epoch 5/100\n",
      " - 4s - loss: 0.1042 - acc: 0.9678 - val_loss: 0.0817 - val_acc: 0.9766\n",
      "Epoch 6/100\n",
      " - 4s - loss: 0.0938 - acc: 0.9711 - val_loss: 0.0706 - val_acc: 0.9782\n",
      "Epoch 7/100\n",
      " - 4s - loss: 0.0857 - acc: 0.9732 - val_loss: 0.0681 - val_acc: 0.9778\n",
      "Epoch 8/100\n",
      " - 4s - loss: 0.0788 - acc: 0.9755 - val_loss: 0.0636 - val_acc: 0.9800\n",
      "Epoch 9/100\n",
      " - 4s - loss: 0.0743 - acc: 0.9766 - val_loss: 0.0575 - val_acc: 0.9808\n",
      "Epoch 10/100\n",
      " - 4s - loss: 0.0705 - acc: 0.9783 - val_loss: 0.0567 - val_acc: 0.9816\n",
      "Epoch 11/100\n",
      " - 4s - loss: 0.0667 - acc: 0.9795 - val_loss: 0.0577 - val_acc: 0.9824\n",
      "Epoch 12/100\n",
      " - 4s - loss: 0.0637 - acc: 0.9798 - val_loss: 0.0532 - val_acc: 0.9838\n",
      "Epoch 13/100\n",
      " - 4s - loss: 0.0615 - acc: 0.9808 - val_loss: 0.0534 - val_acc: 0.9836\n",
      "Epoch 14/100\n",
      " - 4s - loss: 0.0590 - acc: 0.9819 - val_loss: 0.0605 - val_acc: 0.9806\n",
      "Epoch 15/100\n",
      " - 4s - loss: 0.0578 - acc: 0.9823 - val_loss: 0.0521 - val_acc: 0.9840\n",
      "Epoch 16/100\n",
      " - 4s - loss: 0.0553 - acc: 0.9829 - val_loss: 0.0505 - val_acc: 0.9836\n",
      "Epoch 17/100\n",
      " - 4s - loss: 0.0538 - acc: 0.9835 - val_loss: 0.0480 - val_acc: 0.9844\n",
      "Epoch 18/100\n",
      " - 4s - loss: 0.0516 - acc: 0.9839 - val_loss: 0.0524 - val_acc: 0.9828\n",
      "Epoch 19/100\n",
      " - 4s - loss: 0.0508 - acc: 0.9842 - val_loss: 0.0500 - val_acc: 0.9836\n",
      "Epoch 20/100\n",
      " - 4s - loss: 0.0488 - acc: 0.9850 - val_loss: 0.0459 - val_acc: 0.9844\n",
      "Epoch 21/100\n",
      " - 4s - loss: 0.0478 - acc: 0.9851 - val_loss: 0.0460 - val_acc: 0.9852\n",
      "Epoch 22/100\n",
      " - 4s - loss: 0.0464 - acc: 0.9858 - val_loss: 0.0450 - val_acc: 0.9850\n",
      "Epoch 23/100\n",
      " - 4s - loss: 0.0458 - acc: 0.9859 - val_loss: 0.0426 - val_acc: 0.9856\n",
      "Epoch 24/100\n",
      " - 4s - loss: 0.0446 - acc: 0.9862 - val_loss: 0.0440 - val_acc: 0.9854\n",
      "Epoch 25/100\n",
      " - 4s - loss: 0.0436 - acc: 0.9867 - val_loss: 0.0444 - val_acc: 0.9836\n",
      "Epoch 26/100\n",
      " - 4s - loss: 0.0426 - acc: 0.9866 - val_loss: 0.0469 - val_acc: 0.9844\n",
      "Epoch 27/100\n",
      " - 4s - loss: 0.0413 - acc: 0.9871 - val_loss: 0.0480 - val_acc: 0.9848\n",
      "Epoch 28/100\n",
      " - 4s - loss: 0.0406 - acc: 0.9871 - val_loss: 0.0441 - val_acc: 0.9852\n",
      "Epoch 29/100\n",
      " - 4s - loss: 0.0400 - acc: 0.9871 - val_loss: 0.0453 - val_acc: 0.9842\n",
      "Epoch 30/100\n",
      " - 4s - loss: 0.0390 - acc: 0.9879 - val_loss: 0.0464 - val_acc: 0.9844\n",
      "Epoch 31/100\n",
      " - 4s - loss: 0.0387 - acc: 0.9882 - val_loss: 0.0445 - val_acc: 0.9862\n",
      "Epoch 32/100\n",
      " - 4s - loss: 0.0379 - acc: 0.9883 - val_loss: 0.0499 - val_acc: 0.9828\n",
      "Epoch 33/100\n",
      " - 4s - loss: 0.0369 - acc: 0.9890 - val_loss: 0.0469 - val_acc: 0.9830\n",
      "Epoch 34/100\n",
      " - 4s - loss: 0.0364 - acc: 0.9891 - val_loss: 0.0444 - val_acc: 0.9852\n",
      "Epoch 35/100\n",
      " - 4s - loss: 0.0364 - acc: 0.9891 - val_loss: 0.0408 - val_acc: 0.9864\n",
      "Epoch 36/100\n",
      " - 3s - loss: 0.0349 - acc: 0.9894 - val_loss: 0.0415 - val_acc: 0.9856\n",
      "Epoch 37/100\n",
      " - 4s - loss: 0.0350 - acc: 0.9892 - val_loss: 0.0436 - val_acc: 0.9858\n",
      "Epoch 38/100\n",
      " - 4s - loss: 0.0341 - acc: 0.9894 - val_loss: 0.0462 - val_acc: 0.9846\n",
      "Epoch 39/100\n",
      " - 4s - loss: 0.0336 - acc: 0.9895 - val_loss: 0.0432 - val_acc: 0.9844\n",
      "Epoch 40/100\n",
      " - 4s - loss: 0.0329 - acc: 0.9899 - val_loss: 0.0385 - val_acc: 0.9860\n",
      "Epoch 41/100\n",
      " - 4s - loss: 0.0327 - acc: 0.9901 - val_loss: 0.0444 - val_acc: 0.9844\n",
      "Epoch 42/100\n",
      " - 4s - loss: 0.0321 - acc: 0.9903 - val_loss: 0.0397 - val_acc: 0.9872\n",
      "Epoch 43/100\n",
      " - 4s - loss: 0.0316 - acc: 0.9903 - val_loss: 0.0410 - val_acc: 0.9874\n",
      "Epoch 44/100\n",
      " - 4s - loss: 0.0315 - acc: 0.9904 - val_loss: 0.0405 - val_acc: 0.9866\n",
      "Epoch 45/100\n",
      " - 4s - loss: 0.0305 - acc: 0.9909 - val_loss: 0.0401 - val_acc: 0.9862\n",
      "Epoch 46/100\n",
      " - 4s - loss: 0.0300 - acc: 0.9910 - val_loss: 0.0402 - val_acc: 0.9866\n",
      "Epoch 47/100\n",
      " - 4s - loss: 0.0300 - acc: 0.9905 - val_loss: 0.0432 - val_acc: 0.9866\n",
      "Epoch 48/100\n",
      " - 4s - loss: 0.0294 - acc: 0.9913 - val_loss: 0.0416 - val_acc: 0.9862\n",
      "Epoch 49/100\n",
      " - 4s - loss: 0.0288 - acc: 0.9913 - val_loss: 0.0442 - val_acc: 0.9864\n",
      "Epoch 50/100\n",
      " - 4s - loss: 0.0287 - acc: 0.9913 - val_loss: 0.0478 - val_acc: 0.9848\n",
      "Epoch 51/100\n",
      " - 4s - loss: 0.0281 - acc: 0.9914 - val_loss: 0.0439 - val_acc: 0.9854\n",
      "Epoch 52/100\n",
      " - 4s - loss: 0.0281 - acc: 0.9913 - val_loss: 0.0414 - val_acc: 0.9848\n",
      "Epoch 53/100\n",
      " - 4s - loss: 0.0275 - acc: 0.9912 - val_loss: 0.0411 - val_acc: 0.9864\n",
      "Epoch 54/100\n",
      " - 4s - loss: 0.0275 - acc: 0.9916 - val_loss: 0.0416 - val_acc: 0.9872\n",
      "Epoch 55/100\n",
      " - 4s - loss: 0.0273 - acc: 0.9916 - val_loss: 0.0423 - val_acc: 0.9860\n",
      "Epoch 56/100\n",
      " - 4s - loss: 0.0271 - acc: 0.9919 - val_loss: 0.0443 - val_acc: 0.9852\n",
      "Epoch 57/100\n",
      " - 4s - loss: 0.0267 - acc: 0.9920 - val_loss: 0.0448 - val_acc: 0.9848\n",
      "Epoch 58/100\n",
      " - 4s - loss: 0.0265 - acc: 0.9919 - val_loss: 0.0407 - val_acc: 0.9868\n",
      "Epoch 59/100\n",
      " - 4s - loss: 0.0261 - acc: 0.9919 - val_loss: 0.0383 - val_acc: 0.9870\n",
      "Epoch 60/100\n",
      " - 4s - loss: 0.0255 - acc: 0.9921 - val_loss: 0.0455 - val_acc: 0.9866\n",
      "Epoch 61/100\n",
      " - 4s - loss: 0.0255 - acc: 0.9922 - val_loss: 0.0420 - val_acc: 0.9868\n",
      "Epoch 62/100\n",
      " - 4s - loss: 0.0252 - acc: 0.9921 - val_loss: 0.0442 - val_acc: 0.9850\n",
      "Epoch 63/100\n",
      " - 4s - loss: 0.0250 - acc: 0.9923 - val_loss: 0.0400 - val_acc: 0.9868\n",
      "Epoch 64/100\n",
      " - 4s - loss: 0.0244 - acc: 0.9925 - val_loss: 0.0406 - val_acc: 0.9858\n",
      "Epoch 65/100\n",
      " - 4s - loss: 0.0244 - acc: 0.9920 - val_loss: 0.0433 - val_acc: 0.9862\n",
      "Epoch 66/100\n",
      " - 4s - loss: 0.0240 - acc: 0.9926 - val_loss: 0.0602 - val_acc: 0.9818\n",
      "Epoch 67/100\n",
      " - 3s - loss: 0.0241 - acc: 0.9924 - val_loss: 0.0494 - val_acc: 0.9850\n",
      "Epoch 68/100\n",
      " - 4s - loss: 0.0236 - acc: 0.9930 - val_loss: 0.0428 - val_acc: 0.9862\n",
      "Epoch 69/100\n",
      " - 4s - loss: 0.0235 - acc: 0.9928 - val_loss: 0.0435 - val_acc: 0.9864\n",
      "Epoch 70/100\n",
      " - 4s - loss: 0.0234 - acc: 0.9929 - val_loss: 0.0428 - val_acc: 0.9862\n",
      "Epoch 71/100\n",
      " - 4s - loss: 0.0229 - acc: 0.9927 - val_loss: 0.0462 - val_acc: 0.9864\n",
      "Epoch 72/100\n",
      " - 4s - loss: 0.0228 - acc: 0.9931 - val_loss: 0.0473 - val_acc: 0.9852\n",
      "Epoch 73/100\n",
      " - 4s - loss: 0.0226 - acc: 0.9931 - val_loss: 0.0445 - val_acc: 0.9868\n",
      "Epoch 74/100\n",
      " - 4s - loss: 0.0222 - acc: 0.9930 - val_loss: 0.0413 - val_acc: 0.9884\n",
      "Epoch 75/100\n",
      " - 4s - loss: 0.0221 - acc: 0.9929 - val_loss: 0.0467 - val_acc: 0.9872\n",
      "Epoch 76/100\n",
      " - 4s - loss: 0.0216 - acc: 0.9938 - val_loss: 0.0415 - val_acc: 0.9876\n",
      "Epoch 77/100\n",
      " - 4s - loss: 0.0215 - acc: 0.9933 - val_loss: 0.0498 - val_acc: 0.9846\n",
      "Epoch 78/100\n",
      " - 4s - loss: 0.0213 - acc: 0.9933 - val_loss: 0.0453 - val_acc: 0.9870\n",
      "Epoch 79/100\n",
      " - 4s - loss: 0.0215 - acc: 0.9935 - val_loss: 0.0519 - val_acc: 0.9850\n",
      "Epoch 80/100\n",
      " - 4s - loss: 0.0207 - acc: 0.9935 - val_loss: 0.0516 - val_acc: 0.9842\n",
      "Epoch 81/100\n",
      " - 4s - loss: 0.0205 - acc: 0.9938 - val_loss: 0.0473 - val_acc: 0.9846\n",
      "Epoch 82/100\n",
      " - 4s - loss: 0.0203 - acc: 0.9933 - val_loss: 0.0498 - val_acc: 0.9856\n",
      "Epoch 83/100\n",
      " - 4s - loss: 0.0200 - acc: 0.9940 - val_loss: 0.0455 - val_acc: 0.9868\n",
      "Epoch 84/100\n",
      " - 4s - loss: 0.0199 - acc: 0.9937 - val_loss: 0.0456 - val_acc: 0.9856\n",
      "Epoch 85/100\n",
      " - 4s - loss: 0.0200 - acc: 0.9938 - val_loss: 0.0436 - val_acc: 0.9870\n",
      "Epoch 86/100\n",
      " - 4s - loss: 0.0192 - acc: 0.9941 - val_loss: 0.0531 - val_acc: 0.9842\n",
      "Epoch 87/100\n",
      " - 4s - loss: 0.0198 - acc: 0.9936 - val_loss: 0.0447 - val_acc: 0.9856\n",
      "Epoch 88/100\n",
      " - 4s - loss: 0.0192 - acc: 0.9939 - val_loss: 0.0493 - val_acc: 0.9866\n",
      "Epoch 89/100\n",
      " - 4s - loss: 0.0186 - acc: 0.9942 - val_loss: 0.0474 - val_acc: 0.9858\n",
      "Epoch 90/100\n",
      " - 4s - loss: 0.0188 - acc: 0.9941 - val_loss: 0.0456 - val_acc: 0.9860\n",
      "Epoch 91/100\n",
      " - 4s - loss: 0.0187 - acc: 0.9941 - val_loss: 0.0539 - val_acc: 0.9834\n",
      "Epoch 92/100\n",
      " - 4s - loss: 0.0184 - acc: 0.9942 - val_loss: 0.0581 - val_acc: 0.9834\n",
      "Epoch 93/100\n",
      " - 4s - loss: 0.0183 - acc: 0.9940 - val_loss: 0.0507 - val_acc: 0.9846\n",
      "Epoch 94/100\n",
      " - 4s - loss: 0.0182 - acc: 0.9943 - val_loss: 0.0492 - val_acc: 0.9862\n",
      "Epoch 95/100\n",
      " - 4s - loss: 0.0180 - acc: 0.9946 - val_loss: 0.0484 - val_acc: 0.9854\n",
      "Epoch 96/100\n",
      " - 4s - loss: 0.0182 - acc: 0.9943 - val_loss: 0.0485 - val_acc: 0.9846\n"
     ]
    },
    {
     "name": "stdout",
     "output_type": "stream",
     "text": [
      "Epoch 97/100\n",
      " - 4s - loss: 0.0178 - acc: 0.9945 - val_loss: 0.0486 - val_acc: 0.9852\n",
      "Epoch 98/100\n",
      " - 4s - loss: 0.0177 - acc: 0.9943 - val_loss: 0.0513 - val_acc: 0.9844\n",
      "Epoch 99/100\n",
      " - 3s - loss: 0.0178 - acc: 0.9942 - val_loss: 0.0538 - val_acc: 0.9840\n",
      "Epoch 100/100\n",
      " - 4s - loss: 0.0174 - acc: 0.9943 - val_loss: 0.0489 - val_acc: 0.9862\n"
     ]
    }
   ],
   "source": [
    "history = cnnmodel.fit(x_train, y_train,\n",
    "                       batch_size=batch_size, \n",
    "                       epochs=2*epochs,\n",
    "                       verbose=2,\n",
    "                       validation_data=(x_test, y_test))"
   ]
  },
  {
   "cell_type": "code",
   "execution_count": 33,
   "metadata": {
    "scrolled": true,
    "slideshow": {
     "slide_type": "subslide"
    }
   },
   "outputs": [
    {
     "data": {
      "image/png": "[encoded data removed]",
      "text/plain": [
       "<Figure size 1080x360 with 2 Axes>"
      ]
     },
     "metadata": {
      "needs_background": "light"
     },
     "output_type": "display_data"
    }
   ],
   "source": [
    "histplot(history)"
   ]
  },
  {
   "cell_type": "markdown",
   "metadata": {
    "slideshow": {
     "slide_type": "fragment"
    }
   },
   "source": [
    "Data augmentation reduced number of misclassifications by half."
   ]
  }
 ],
 "metadata": {
  "anaconda-cloud": {},
  "celltoolbar": "Slideshow",
  "hide_input": false,
  "kernelspec": {
   "display_name": "Python [conda env:keras_demo]",
   "language": "python",
   "name": "conda-env-keras_demo-py"
  },
  "language_info": {
   "codemirror_mode": {
    "name": "ipython",
    "version": 3
   },
   "file_extension": ".py",
   "mimetype": "text/x-python",
   "name": "python",
   "nbconvert_exporter": "python",
   "pygments_lexer": "ipython3",
   "version": "3.6.6"
  },
  "latex_envs": {
   "LaTeX_envs_menu_present": true,
   "autocomplete": true,
   "bibliofile": "biblio.bib",
   "cite_by": "apalike",
   "current_citInitial": 1,
   "eqLabelWithNumbers": true,
   "eqNumInitial": 1,
   "hotkeys": {
    "equation": "Ctrl-E",
    "itemize": "Ctrl-I"
   },
   "labels_anchors": false,
   "latex_user_defs": false,
   "report_style_numbering": false,
   "user_envs_cfg": false
  }
 },
 "nbformat": 4,
 "nbformat_minor": 2
}
