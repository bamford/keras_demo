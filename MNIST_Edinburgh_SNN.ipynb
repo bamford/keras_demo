{
 "cells": [
  {
   "cell_type": "markdown",
   "metadata": {
    "slideshow": {
     "slide_type": "slide"
    }
   },
   "source": [
    "# Training simple neural networks on the MNIST dataset using keras"
   ]
  },
  {
   "cell_type": "markdown",
   "metadata": {
    "slideshow": {
     "slide_type": "subslide"
    }
   },
   "source": [
    "You can create a suitable conda environment to run this notebook using:\n",
    "\n",
    "    conda create -n keras_demo python=3 tensorflow matplotlib ipykernel scikit-learn pandas\n",
    "    \n",
    "If you haven't got the latest cuda drivers, you may also need to specify `cudatoolkit=9.0` or similar."
   ]
  },
  {
   "cell_type": "markdown",
   "metadata": {
    "slideshow": {
     "slide_type": "slide"
    }
   },
   "source": [
    "### First some common imports..."
   ]
  },
  {
   "cell_type": "code",
   "execution_count": 1,
   "metadata": {
    "slideshow": {
     "slide_type": "fragment"
    }
   },
   "outputs": [],
   "source": [
    "%matplotlib inline\n",
    "from matplotlib import pyplot as plt\n",
    "import numpy as np\n",
    "import pandas as pd"
   ]
  },
  {
   "cell_type": "markdown",
   "metadata": {
    "slideshow": {
     "slide_type": "slide"
    }
   },
   "source": [
    "### Set up TensorFlow in a friendly manner"
   ]
  },
  {
   "cell_type": "code",
   "execution_count": 2,
   "metadata": {
    "slideshow": {
     "slide_type": "fragment"
    }
   },
   "outputs": [],
   "source": [
    "import tensorflow as tf\n",
    "\n",
    "# if multiple GPUs, only use one of them \n",
    "import os\n",
    "os.environ[\"CUDA_VISIBLE_DEVICES\"]=\"1\"\n",
    "\n",
    "# avoid hogging all the GPU memory\n",
    "config = tf.ConfigProto()\n",
    "config.gpu_options.allow_growth=True\n",
    "sess = tf.Session(config=config)"
   ]
  },
  {
   "cell_type": "code",
   "execution_count": 3,
   "metadata": {
    "scrolled": true,
    "slideshow": {
     "slide_type": "fragment"
    }
   },
   "outputs": [
    {
     "data": {
      "text/plain": [
       "[name: \"/device:CPU:0\"\n",
       " device_type: \"CPU\"\n",
       " memory_limit: 268435456\n",
       " locality {\n",
       " }\n",
       " incarnation: 16422222170145712565]"
      ]
     },
     "execution_count": 3,
     "metadata": {},
     "output_type": "execute_result"
    }
   ],
   "source": [
    "# check that we have the devices we expect available\n",
    "from tensorflow.python.client import device_lib\n",
    "device_lib.list_local_devices()"
   ]
  },
  {
   "cell_type": "markdown",
   "metadata": {
    "slideshow": {
     "slide_type": "slide"
    }
   },
   "source": [
    "### Import keras bits and pieces"
   ]
  },
  {
   "cell_type": "code",
   "execution_count": 4,
   "metadata": {
    "slideshow": {
     "slide_type": "fragment"
    }
   },
   "outputs": [],
   "source": [
    "# if you have a recent version of tensorflow, keras is included\n",
    "from tensorflow import keras\n",
    "from tensorflow.keras.datasets import mnist\n",
    "from tensorflow.keras.models import Sequential, Model\n",
    "from tensorflow.keras.layers import (Dense, Dropout, Conv2D, Flatten,\n",
    "                                     AveragePooling2D, MaxPooling2D)\n",
    "from tensorflow.keras.optimizers import RMSprop"
   ]
  },
  {
   "cell_type": "markdown",
   "metadata": {
    "slideshow": {
     "slide_type": "slide"
    }
   },
   "source": [
    "### We will use a standard demonstration data set: MNIST handwritten digits"
   ]
  },
  {
   "cell_type": "code",
   "execution_count": 5,
   "metadata": {
    "slideshow": {
     "slide_type": "fragment"
    }
   },
   "outputs": [],
   "source": [
    "# the data, split between train and test sets\n",
    "(x_train, y_train), (x_valtest, y_valtest) = mnist.load_data()"
   ]
  },
  {
   "cell_type": "code",
   "execution_count": 6,
   "metadata": {
    "slideshow": {
     "slide_type": "skip"
    }
   },
   "outputs": [],
   "source": [
    "# demo the effect of noisy data\n",
    "#x_train = (x_train/5 + np.random.poisson(200, size=x_train.shape)).clip(0, 255)\n",
    "#x_valtest = (x_valtest/5 + np.random.poisson(200, size=x_valtest.shape)).clip(0, 255)"
   ]
  },
  {
   "cell_type": "code",
   "execution_count": 7,
   "metadata": {
    "slideshow": {
     "slide_type": "fragment"
    }
   },
   "outputs": [],
   "source": [
    "# if we wanted to test our model on limited data,\n",
    "# we could reduce the amount of training data like this...\n",
    "idx = np.random.choice(len(x_train), size=len(x_train)//100)\n",
    "x_train = x_train[idx]\n",
    "y_train = y_train[idx]"
   ]
  },
  {
   "cell_type": "markdown",
   "metadata": {
    "slideshow": {
     "slide_type": "fragment"
    }
   },
   "source": [
    "If your data isn't split, or want a validation set, need to do split manually"
   ]
  },
  {
   "cell_type": "code",
   "execution_count": 8,
   "metadata": {
    "slideshow": {
     "slide_type": "fragment"
    }
   },
   "outputs": [],
   "source": [
    "from sklearn.model_selection import train_test_split\n",
    "x_test, x_val, y_test, y_val = train_test_split(x_valtest, y_valtest, test_size=0.5)"
   ]
  },
  {
   "cell_type": "code",
   "execution_count": 9,
   "metadata": {
    "slideshow": {
     "slide_type": "fragment"
    }
   },
   "outputs": [
    {
     "data": {
      "text/plain": [
       "((600, 28, 28), (600,))"
      ]
     },
     "execution_count": 9,
     "metadata": {},
     "output_type": "execute_result"
    }
   ],
   "source": [
    "x_train.shape, y_train.shape"
   ]
  },
  {
   "cell_type": "code",
   "execution_count": 10,
   "metadata": {
    "slideshow": {
     "slide_type": "fragment"
    }
   },
   "outputs": [
    {
     "data": {
      "text/plain": [
       "((5000, 28, 28), (5000,))"
      ]
     },
     "execution_count": 10,
     "metadata": {},
     "output_type": "execute_result"
    }
   ],
   "source": [
    "x_test.shape, y_test.shape"
   ]
  },
  {
   "cell_type": "code",
   "execution_count": 11,
   "metadata": {
    "slideshow": {
     "slide_type": "fragment"
    }
   },
   "outputs": [
    {
     "data": {
      "text/plain": [
       "((5000, 28, 28), (5000,))"
      ]
     },
     "execution_count": 11,
     "metadata": {},
     "output_type": "execute_result"
    }
   ],
   "source": [
    "x_val.shape, y_val.shape"
   ]
  },
  {
   "cell_type": "markdown",
   "metadata": {
    "slideshow": {
     "slide_type": "slide"
    }
   },
   "source": [
    "### Take a look at the data\n",
    "\n",
    "This is a very quick glance - you should carefully examine any new dataset"
   ]
  },
  {
   "cell_type": "code",
   "execution_count": 12,
   "metadata": {
    "slideshow": {
     "slide_type": "fragment"
    }
   },
   "outputs": [
    {
     "name": "stdout",
     "output_type": "stream",
     "text": [
      "class = 8\n"
     ]
    },
    {
     "data": {
      "image/png": "[encoded data removed]",
      "text/plain": [
       "<Figure size 432x288 with 1 Axes>"
      ]
     },
     "metadata": {
      "needs_background": "light"
     },
     "output_type": "display_data"
    }
   ],
   "source": [
    "i = 3\n",
    "plt.imshow(x_train[i], cmap='gray')\n",
    "print('class =', y_train[i])"
   ]
  },
  {
   "cell_type": "markdown",
   "metadata": {
    "slideshow": {
     "slide_type": "slide"
    }
   },
   "source": [
    "### Prepare the data"
   ]
  },
  {
   "cell_type": "code",
   "execution_count": 13,
   "metadata": {
    "slideshow": {
     "slide_type": "fragment"
    }
   },
   "outputs": [],
   "source": [
    "# convert class vectors to \"one-hot\" binary class matrices\n",
    "num_classes = 10\n",
    "y_train = keras.utils.to_categorical(y_train, num_classes)\n",
    "y_test = keras.utils.to_categorical(y_test, num_classes)\n",
    "y_val = keras.utils.to_categorical(y_val, num_classes)"
   ]
  },
  {
   "cell_type": "code",
   "execution_count": 14,
   "metadata": {
    "slideshow": {
     "slide_type": "fragment"
    }
   },
   "outputs": [
    {
     "data": {
      "text/plain": [
       "array([0., 0., 0., 0., 0., 0., 0., 0., 1., 0.], dtype=float32)"
      ]
     },
     "execution_count": 14,
     "metadata": {},
     "output_type": "execute_result"
    }
   ],
   "source": [
    "y_train[i]"
   ]
  },
  {
   "cell_type": "code",
   "execution_count": 15,
   "metadata": {
    "slideshow": {
     "slide_type": "fragment"
    }
   },
   "outputs": [],
   "source": [
    "def process_data(x):\n",
    "    x = x.reshape(-1, 784)\n",
    "    x = x.astype('float32')\n",
    "    x /= 255\n",
    "    return x"
   ]
  },
  {
   "cell_type": "code",
   "execution_count": 16,
   "metadata": {
    "slideshow": {
     "slide_type": "fragment"
    }
   },
   "outputs": [],
   "source": [
    "x_train = process_data(x_train)\n",
    "x_test = process_data(x_test)\n",
    "x_val = process_data(x_val)"
   ]
  },
  {
   "cell_type": "code",
   "execution_count": 17,
   "metadata": {
    "slideshow": {
     "slide_type": "fragment"
    }
   },
   "outputs": [
    {
     "name": "stdout",
     "output_type": "stream",
     "text": [
      "600 train samples\n",
      "5000 test samples\n",
      "5000 validation samples\n"
     ]
    }
   ],
   "source": [
    "print(x_train.shape[0], 'train samples')\n",
    "print(x_test.shape[0], 'test samples')\n",
    "print(x_val.shape[0], 'validation samples')"
   ]
  },
  {
   "cell_type": "markdown",
   "metadata": {},
   "source": [
    "## Constraints\n",
    "\n",
    "In order to convert to an SNN, we cannot have negative weights (nor initial inputs). We therefore constrain all biases to zero and use activations with only positive outputs. We also use average (rather than max) pooling in the CNN."
   ]
  },
  {
   "cell_type": "code",
   "execution_count": 18,
   "metadata": {},
   "outputs": [],
   "source": [
    "from tensorflow.keras.constraints import Constraint\n",
    "from tensorflow.keras import backend as K\n",
    "\n",
    "class FixToZero(Constraint):\n",
    "    \"\"\"Constrains the bias/weights to be zero.\n",
    "    \"\"\"\n",
    "\n",
    "    def __call__(self, w):\n",
    "        w *= K.cast(w * 0, K.floatx())\n",
    "        return w"
   ]
  },
  {
   "cell_type": "markdown",
   "metadata": {
    "slideshow": {
     "slide_type": "slide"
    }
   },
   "source": [
    "## Fully-connected NN"
   ]
  },
  {
   "cell_type": "markdown",
   "metadata": {
    "slideshow": {
     "slide_type": "slide"
    }
   },
   "source": [
    "### Construct the network"
   ]
  },
  {
   "cell_type": "code",
   "execution_count": 19,
   "metadata": {
    "slideshow": {
     "slide_type": "fragment"
    }
   },
   "outputs": [],
   "source": [
    "# a fairly small network for speed\n",
    "fcmodel = Sequential()\n",
    "fcmodel.add(Dense(32, activation='relu', input_shape=(784,), bias_constraint=FixToZero()))\n",
    "fcmodel.add(Dense(32, activation='relu', bias_constraint=FixToZero()))\n",
    "# could include dropout, regularisation, ...\n",
    "fcmodel.add(Dense(num_classes, activation='softmax', bias_constraint=FixToZero()))"
   ]
  },
  {
   "cell_type": "code",
   "execution_count": 20,
   "metadata": {
    "slideshow": {
     "slide_type": "fragment"
    }
   },
   "outputs": [
    {
     "name": "stdout",
     "output_type": "stream",
     "text": [
      "_________________________________________________________________\n",
      "Layer (type)                 Output Shape              Param #   \n",
      "=================================================================\n",
      "dense (Dense)                (None, 32)                25120     \n",
      "_________________________________________________________________\n",
      "dense_1 (Dense)              (None, 32)                1056      \n",
      "_________________________________________________________________\n",
      "dense_2 (Dense)              (None, 10)                330       \n",
      "=================================================================\n",
      "Total params: 26,506\n",
      "Trainable params: 26,506\n",
      "Non-trainable params: 0\n",
      "_________________________________________________________________\n"
     ]
    }
   ],
   "source": [
    "fcmodel.summary()"
   ]
  },
  {
   "cell_type": "code",
   "execution_count": 21,
   "metadata": {
    "slideshow": {
     "slide_type": "fragment"
    }
   },
   "outputs": [],
   "source": [
    "fcmodel.compile(loss='categorical_crossentropy',\n",
    "                optimizer=RMSprop(),\n",
    "                metrics=['accuracy'])"
   ]
  },
  {
   "cell_type": "markdown",
   "metadata": {
    "slideshow": {
     "slide_type": "slide"
    }
   },
   "source": [
    "### Train the network"
   ]
  },
  {
   "cell_type": "code",
   "execution_count": 22,
   "metadata": {
    "slideshow": {
     "slide_type": "fragment"
    }
   },
   "outputs": [],
   "source": [
    "batch_size = 32\n",
    "epochs = 50"
   ]
  },
  {
   "cell_type": "code",
   "execution_count": 23,
   "metadata": {
    "scrolled": true,
    "slideshow": {
     "slide_type": "fragment"
    }
   },
   "outputs": [
    {
     "name": "stdout",
     "output_type": "stream",
     "text": [
      "Train on 600 samples, validate on 5000 samples\n",
      "Epoch 1/50\n",
      " - 1s - loss: 2.0152 - acc: 0.3467 - val_loss: 1.7143 - val_acc: 0.4992\n",
      "Epoch 2/50\n",
      " - 0s - loss: 1.4827 - acc: 0.5950 - val_loss: 1.3289 - val_acc: 0.6466\n",
      "Epoch 3/50\n",
      " - 0s - loss: 1.1335 - acc: 0.7017 - val_loss: 1.0571 - val_acc: 0.7042\n",
      "Epoch 4/50\n",
      " - 0s - loss: 0.8812 - acc: 0.7800 - val_loss: 0.8867 - val_acc: 0.7672\n",
      "Epoch 5/50\n",
      " - 0s - loss: 0.7208 - acc: 0.8283 - val_loss: 0.7542 - val_acc: 0.8026\n",
      "Epoch 6/50\n",
      " - 0s - loss: 0.5970 - acc: 0.8467 - val_loss: 0.6722 - val_acc: 0.8326\n",
      "Epoch 7/50\n",
      " - 0s - loss: 0.5126 - acc: 0.8767 - val_loss: 0.6109 - val_acc: 0.8344\n",
      "Epoch 8/50\n",
      " - 0s - loss: 0.4340 - acc: 0.8883 - val_loss: 0.5889 - val_acc: 0.8380\n",
      "Epoch 9/50\n",
      " - 0s - loss: 0.3902 - acc: 0.9050 - val_loss: 0.5847 - val_acc: 0.8340\n",
      "Epoch 10/50\n",
      " - 0s - loss: 0.3402 - acc: 0.9167 - val_loss: 0.5210 - val_acc: 0.8530\n",
      "Epoch 11/50\n",
      " - 0s - loss: 0.3027 - acc: 0.9333 - val_loss: 0.5300 - val_acc: 0.8446\n",
      "Epoch 12/50\n",
      " - 0s - loss: 0.2630 - acc: 0.9367 - val_loss: 0.5025 - val_acc: 0.8562\n",
      "Epoch 13/50\n",
      " - 0s - loss: 0.2363 - acc: 0.9417 - val_loss: 0.4996 - val_acc: 0.8534\n",
      "Epoch 14/50\n",
      " - 0s - loss: 0.2083 - acc: 0.9550 - val_loss: 0.4795 - val_acc: 0.8610\n",
      "Epoch 15/50\n",
      " - 0s - loss: 0.1837 - acc: 0.9667 - val_loss: 0.4728 - val_acc: 0.8614\n",
      "Epoch 16/50\n",
      " - 0s - loss: 0.1630 - acc: 0.9733 - val_loss: 0.4685 - val_acc: 0.8670\n",
      "Epoch 17/50\n",
      " - 0s - loss: 0.1417 - acc: 0.9767 - val_loss: 0.4804 - val_acc: 0.8658\n",
      "Epoch 18/50\n",
      " - 0s - loss: 0.1287 - acc: 0.9817 - val_loss: 0.4648 - val_acc: 0.8670\n",
      "Epoch 19/50\n",
      " - 0s - loss: 0.1145 - acc: 0.9783 - val_loss: 0.4588 - val_acc: 0.8708\n",
      "Epoch 20/50\n",
      " - 0s - loss: 0.0969 - acc: 0.9900 - val_loss: 0.4760 - val_acc: 0.8646\n",
      "Epoch 21/50\n",
      " - 0s - loss: 0.0829 - acc: 0.9917 - val_loss: 0.4772 - val_acc: 0.8650\n",
      "Epoch 22/50\n",
      " - 0s - loss: 0.0739 - acc: 0.9933 - val_loss: 0.4835 - val_acc: 0.8678\n",
      "Epoch 23/50\n",
      " - 0s - loss: 0.0615 - acc: 0.9950 - val_loss: 0.4788 - val_acc: 0.8694\n",
      "Epoch 24/50\n",
      " - 0s - loss: 0.0554 - acc: 0.9967 - val_loss: 0.4851 - val_acc: 0.8670\n",
      "Epoch 25/50\n",
      " - 0s - loss: 0.0464 - acc: 0.9983 - val_loss: 0.5156 - val_acc: 0.8594\n",
      "Epoch 26/50\n",
      " - 0s - loss: 0.0423 - acc: 0.9983 - val_loss: 0.5114 - val_acc: 0.8676\n",
      "Epoch 27/50\n",
      " - 0s - loss: 0.0344 - acc: 1.0000 - val_loss: 0.5108 - val_acc: 0.8664\n",
      "Epoch 28/50\n",
      " - 0s - loss: 0.0287 - acc: 1.0000 - val_loss: 0.5243 - val_acc: 0.8644\n",
      "Epoch 29/50\n",
      " - 0s - loss: 0.0244 - acc: 1.0000 - val_loss: 0.5653 - val_acc: 0.8580\n",
      "Epoch 30/50\n",
      " - 0s - loss: 0.0207 - acc: 1.0000 - val_loss: 0.5432 - val_acc: 0.8660\n",
      "Epoch 31/50\n",
      " - 0s - loss: 0.0185 - acc: 1.0000 - val_loss: 0.5436 - val_acc: 0.8684\n",
      "Epoch 32/50\n",
      " - 0s - loss: 0.0151 - acc: 1.0000 - val_loss: 0.5256 - val_acc: 0.8706\n",
      "Epoch 33/50\n",
      " - 0s - loss: 0.0125 - acc: 1.0000 - val_loss: 0.5575 - val_acc: 0.8678\n",
      "Epoch 34/50\n",
      " - 0s - loss: 0.0107 - acc: 1.0000 - val_loss: 0.5703 - val_acc: 0.8692\n",
      "Epoch 35/50\n",
      " - 0s - loss: 0.0088 - acc: 1.0000 - val_loss: 0.5755 - val_acc: 0.8672\n",
      "Epoch 36/50\n",
      " - 0s - loss: 0.0072 - acc: 1.0000 - val_loss: 0.5851 - val_acc: 0.8714\n",
      "Epoch 37/50\n",
      " - 0s - loss: 0.0064 - acc: 1.0000 - val_loss: 0.6019 - val_acc: 0.8670\n",
      "Epoch 38/50\n",
      " - 0s - loss: 0.0055 - acc: 1.0000 - val_loss: 0.6023 - val_acc: 0.8676\n",
      "Epoch 39/50\n",
      " - 0s - loss: 0.0041 - acc: 1.0000 - val_loss: 0.6239 - val_acc: 0.8668\n",
      "Epoch 40/50\n",
      " - 0s - loss: 0.0035 - acc: 1.0000 - val_loss: 0.6326 - val_acc: 0.8676\n",
      "Epoch 41/50\n",
      " - 0s - loss: 0.0029 - acc: 1.0000 - val_loss: 0.6129 - val_acc: 0.8718\n",
      "Epoch 42/50\n",
      " - 0s - loss: 0.0022 - acc: 1.0000 - val_loss: 0.6575 - val_acc: 0.8670\n",
      "Epoch 43/50\n",
      " - 0s - loss: 0.0020 - acc: 1.0000 - val_loss: 0.6407 - val_acc: 0.8732\n",
      "Epoch 44/50\n",
      " - 0s - loss: 0.0017 - acc: 1.0000 - val_loss: 0.7456 - val_acc: 0.8542\n",
      "Epoch 45/50\n",
      " - 0s - loss: 0.0015 - acc: 1.0000 - val_loss: 0.6794 - val_acc: 0.8698\n",
      "Epoch 46/50\n",
      " - 0s - loss: 0.0011 - acc: 1.0000 - val_loss: 0.6876 - val_acc: 0.8684\n",
      "Epoch 47/50\n",
      " - 0s - loss: 7.7940e-04 - acc: 1.0000 - val_loss: 0.6897 - val_acc: 0.8702\n",
      "Epoch 48/50\n",
      " - 0s - loss: 8.5710e-04 - acc: 1.0000 - val_loss: 0.7273 - val_acc: 0.8660\n",
      "Epoch 49/50\n",
      " - 0s - loss: 4.9483e-04 - acc: 1.0000 - val_loss: 0.7079 - val_acc: 0.8724\n",
      "Epoch 50/50\n",
      " - 0s - loss: 4.6990e-04 - acc: 1.0000 - val_loss: 0.7567 - val_acc: 0.8630\n"
     ]
    }
   ],
   "source": [
    "history = fcmodel.fit(x_train, y_train,\n",
    "                      batch_size=batch_size,\n",
    "                      epochs=epochs,\n",
    "                      verbose=2,\n",
    "                      validation_data=(x_test, y_test))"
   ]
  },
  {
   "cell_type": "code",
   "execution_count": 24,
   "metadata": {
    "slideshow": {
     "slide_type": "subslide"
    }
   },
   "outputs": [
    {
     "name": "stdout",
     "output_type": "stream",
     "text": [
      "Test loss: 0.7566982478842139\n",
      "Test accuracy: 0.863\n"
     ]
    }
   ],
   "source": [
    "score = fcmodel.evaluate(x_test, y_test, verbose=0)\n",
    "print('Test loss:', score[0])\n",
    "print('Test accuracy:', score[1])"
   ]
  },
  {
   "cell_type": "code",
   "execution_count": 25,
   "metadata": {
    "slideshow": {
     "slide_type": "subslide"
    }
   },
   "outputs": [
    {
     "name": "stdout",
     "output_type": "stream",
     "text": [
      "Test loss: 0.8195701971463859\n",
      "Test accuracy: 0.8526\n"
     ]
    }
   ],
   "source": [
    "# really we should not look at the score for this set of data\n",
    "# until we have finished tuning our model\n",
    "score = fcmodel.evaluate(x_val, y_val, verbose=0)\n",
    "print('Test loss:', score[0])\n",
    "print('Test accuracy:', score[1])"
   ]
  },
  {
   "cell_type": "code",
   "execution_count": 26,
   "metadata": {
    "slideshow": {
     "slide_type": "subslide"
    }
   },
   "outputs": [],
   "source": [
    "def histplot(history):\n",
    "    hist = pd.DataFrame(history.history)\n",
    "    fig, (ax1, ax2) = plt.subplots(1, 2, figsize=(15, 5))\n",
    "    hist.plot(y=['loss', 'val_loss'], ax=ax1)\n",
    "    min_loss = hist['val_loss'].min()\n",
    "    ax1.hlines(min_loss, 0, len(hist), linestyle='dotted',\n",
    "               label='min(val_loss) = {:.3f}'.format(min_loss))\n",
    "    ax1.legend(loc='upper right')\n",
    "    hist.plot(y=['acc', 'val_acc'], ax=ax2)\n",
    "    max_acc = hist['val_acc'].max()\n",
    "    ax2.hlines(max_acc, 0, len(hist), linestyle='dotted',\n",
    "               label='max(val_acc) = {:.3f}'.format(max_acc))\n",
    "    ax2.legend(loc='lower right', fontsize='large')"
   ]
  },
  {
   "cell_type": "code",
   "execution_count": 27,
   "metadata": {
    "scrolled": true,
    "slideshow": {
     "slide_type": "subslide"
    }
   },
   "outputs": [
    {
     "data": {
      "image/png": "[encoded data removed]",
      "text/plain": [
       "<Figure size 1080x360 with 2 Axes>"
      ]
     },
     "metadata": {
      "needs_background": "light"
     },
     "output_type": "display_data"
    }
   ],
   "source": [
    "histplot(history)"
   ]
  },
  {
   "cell_type": "markdown",
   "metadata": {},
   "source": [
    "### Normalise weights for conversion to SNN"
   ]
  },
  {
   "cell_type": "code",
   "execution_count": 28,
   "metadata": {},
   "outputs": [],
   "source": [
    "def data_based_normalization(model, data):\n",
    "    # Normalize the weights by Algorithm 2 of Diehl, Neil et al. 2015\n",
    "    # get max activation in each layer across set of data\n",
    "    layer_outputs = [layer.output for layer in model.layers] \n",
    "    activation_model = Model(inputs=model.input, outputs=layer_outputs)\n",
    "    activations = activation_model.predict(data)\n",
    "    max_acts = [a.max() for a in activations]\n",
    "    # get current max weight in each layer\n",
    "    weights = model.get_weights()[::2]  # skip over biases\n",
    "    max_wts = [l.max() for l in weights]\n",
    "    previous_factor = 1.0\n",
    "    for layer, (max_wt, max_act) in enumerate(zip(max_wts, max_acts)):\n",
    "        scale_factor = max(max_wt, max_act)\n",
    "        applied_factor = scale_factor / previous_factor\n",
    "        weights[layer] /= applied_factor\n",
    "        print(max_wt, max_act)\n",
    "        print('Rescaling weights of layer {} by factor {}'.format(layer+1, 1/applied_factor))\n",
    "        previous_factor = scale_factor\n",
    "    return weights"
   ]
  },
  {
   "cell_type": "code",
   "execution_count": 29,
   "metadata": {},
   "outputs": [
    {
     "name": "stdout",
     "output_type": "stream",
     "text": [
      "0.47021794 15.394342\n",
      "Rescaling weights of layer 1 by factor 0.06495892923229872\n",
      "0.6206441 24.576706\n",
      "Rescaling weights of layer 2 by factor 0.6263793833671739\n",
      "0.61903554 1.0\n",
      "Rescaling weights of layer 3 by factor 24.576705770267633\n"
     ]
    }
   ],
   "source": [
    "snn_fcn_weights = data_based_normalization(fcmodel, x_train)"
   ]
  },
  {
   "cell_type": "markdown",
   "metadata": {
    "slideshow": {
     "slide_type": "slide"
    }
   },
   "source": [
    "## Convolutional Neural Network (CNN)"
   ]
  },
  {
   "cell_type": "markdown",
   "metadata": {
    "slideshow": {
     "slide_type": "slide"
    }
   },
   "source": [
    "### Reshape the data"
   ]
  },
  {
   "cell_type": "code",
   "execution_count": 30,
   "metadata": {
    "slideshow": {
     "slide_type": "fragment"
    }
   },
   "outputs": [],
   "source": [
    "x_train = x_train.reshape(-1, 28, 28, 1)\n",
    "x_test = x_test.reshape(-1, 28, 28, 1)"
   ]
  },
  {
   "cell_type": "markdown",
   "metadata": {
    "slideshow": {
     "slide_type": "slide"
    }
   },
   "source": [
    "### Construct the network"
   ]
  },
  {
   "cell_type": "code",
   "execution_count": 31,
   "metadata": {
    "slideshow": {
     "slide_type": "fragment"
    }
   },
   "outputs": [],
   "source": [
    "# a fairly small network for speed\n",
    "cnnmodel = Sequential()\n",
    "cnnmodel.add(Conv2D(8, (3, 3), activation='relu', input_shape=(28, 28, 1),\n",
    "                    bias_constraint=FixToZero()))\n",
    "cnnmodel.add(AveragePooling2D((3, 3)))\n",
    "cnnmodel.add(Conv2D(16, (3, 3), activation='relu',\n",
    "                    bias_constraint=FixToZero()))\n",
    "cnnmodel.add(AveragePooling2D((2, 2)))\n",
    "cnnmodel.add(Flatten())\n",
    "cnnmodel.add(Dense(num_classes, activation='softmax',\n",
    "                   bias_constraint=FixToZero()))\n",
    "# could include dropout, regularisation, ..."
   ]
  },
  {
   "cell_type": "code",
   "execution_count": 32,
   "metadata": {
    "slideshow": {
     "slide_type": "fragment"
    }
   },
   "outputs": [],
   "source": [
    "cnnmodel.compile(loss='categorical_crossentropy',\n",
    "                optimizer=RMSprop(),\n",
    "                metrics=['accuracy'])"
   ]
  },
  {
   "cell_type": "code",
   "execution_count": 33,
   "metadata": {
    "slideshow": {
     "slide_type": "fragment"
    }
   },
   "outputs": [
    {
     "name": "stdout",
     "output_type": "stream",
     "text": [
      "_________________________________________________________________\n",
      "Layer (type)                 Output Shape              Param #   \n",
      "=================================================================\n",
      "conv2d (Conv2D)              (None, 26, 26, 8)         80        \n",
      "_________________________________________________________________\n",
      "average_pooling2d (AveragePo (None, 8, 8, 8)           0         \n",
      "_________________________________________________________________\n",
      "conv2d_1 (Conv2D)            (None, 6, 6, 16)          1168      \n",
      "_________________________________________________________________\n",
      "average_pooling2d_1 (Average (None, 3, 3, 16)          0         \n",
      "_________________________________________________________________\n",
      "flatten (Flatten)            (None, 144)               0         \n",
      "_________________________________________________________________\n",
      "dense_3 (Dense)              (None, 10)                1450      \n",
      "=================================================================\n",
      "Total params: 2,698\n",
      "Trainable params: 2,698\n",
      "Non-trainable params: 0\n",
      "_________________________________________________________________\n"
     ]
    }
   ],
   "source": [
    "cnnmodel.summary()"
   ]
  },
  {
   "cell_type": "code",
   "execution_count": 34,
   "metadata": {
    "slideshow": {
     "slide_type": "fragment"
    }
   },
   "outputs": [
    {
     "name": "stdout",
     "output_type": "stream",
     "text": [
      "WARNING:tensorflow:This model was compiled with a Keras optimizer (<tensorflow.python.keras.optimizers.RMSprop object at 0x1a4ac22518>) but is being saved in TensorFlow format with `save_weights`. The model's weights will be saved, but unlike with TensorFlow optimizers in the TensorFlow format the optimizer's state will not be saved.\n",
      "\n",
      "Consider using a TensorFlow optimizer from `tf.train`.\n"
     ]
    }
   ],
   "source": [
    "# save weights for reinitialising below\n",
    "cnnmodel.save_weights('/tmp/cnnmodel_init_weights.tf')"
   ]
  },
  {
   "cell_type": "markdown",
   "metadata": {
    "slideshow": {
     "slide_type": "slide"
    }
   },
   "source": [
    "### Train the network"
   ]
  },
  {
   "cell_type": "code",
   "execution_count": 35,
   "metadata": {
    "slideshow": {
     "slide_type": "fragment"
    }
   },
   "outputs": [
    {
     "name": "stdout",
     "output_type": "stream",
     "text": [
      "Train on 600 samples, validate on 5000 samples\n",
      "Epoch 1/150\n",
      " - 2s - loss: 2.2703 - acc: 0.1383 - val_loss: 2.2303 - val_acc: 0.1788\n",
      "Epoch 2/150\n",
      " - 0s - loss: 2.1592 - acc: 0.2867 - val_loss: 2.1059 - val_acc: 0.3108\n",
      "Epoch 3/150\n",
      " - 1s - loss: 1.9900 - acc: 0.4400 - val_loss: 1.9034 - val_acc: 0.4562\n",
      "Epoch 4/150\n",
      " - 1s - loss: 1.7599 - acc: 0.5567 - val_loss: 1.6415 - val_acc: 0.5828\n",
      "Epoch 5/150\n",
      " - 1s - loss: 1.4980 - acc: 0.6433 - val_loss: 1.3982 - val_acc: 0.6348\n",
      "Epoch 6/150\n",
      " - 1s - loss: 1.2663 - acc: 0.6717 - val_loss: 1.1954 - val_acc: 0.6688\n",
      "Epoch 7/150\n",
      " - 1s - loss: 1.0858 - acc: 0.7033 - val_loss: 0.9884 - val_acc: 0.7394\n",
      "Epoch 8/150\n",
      " - 0s - loss: 0.9450 - acc: 0.7383 - val_loss: 0.9056 - val_acc: 0.7288\n",
      "Epoch 9/150\n",
      " - 1s - loss: 0.8522 - acc: 0.7483 - val_loss: 0.7900 - val_acc: 0.7664\n",
      "Epoch 10/150\n",
      " - 1s - loss: 0.7807 - acc: 0.7700 - val_loss: 0.7525 - val_acc: 0.7748\n",
      "Epoch 11/150\n",
      " - 0s - loss: 0.7262 - acc: 0.7817 - val_loss: 0.7302 - val_acc: 0.7714\n",
      "Epoch 12/150\n",
      " - 0s - loss: 0.6805 - acc: 0.7950 - val_loss: 0.6727 - val_acc: 0.7914\n",
      "Epoch 13/150\n",
      " - 1s - loss: 0.6486 - acc: 0.8200 - val_loss: 0.6373 - val_acc: 0.8056\n",
      "Epoch 14/150\n",
      " - 1s - loss: 0.6136 - acc: 0.8133 - val_loss: 0.6430 - val_acc: 0.8000\n",
      "Epoch 15/150\n",
      " - 1s - loss: 0.5933 - acc: 0.8400 - val_loss: 0.6185 - val_acc: 0.8152\n",
      "Epoch 16/150\n",
      " - 1s - loss: 0.5675 - acc: 0.8300 - val_loss: 0.5936 - val_acc: 0.8224\n",
      "Epoch 17/150\n",
      " - 1s - loss: 0.5598 - acc: 0.8350 - val_loss: 0.5777 - val_acc: 0.8286\n",
      "Epoch 18/150\n",
      " - 0s - loss: 0.5363 - acc: 0.8467 - val_loss: 0.5455 - val_acc: 0.8336\n",
      "Epoch 19/150\n",
      " - 0s - loss: 0.5226 - acc: 0.8483 - val_loss: 0.5655 - val_acc: 0.8304\n",
      "Epoch 20/150\n",
      " - 0s - loss: 0.5059 - acc: 0.8583 - val_loss: 0.5341 - val_acc: 0.8430\n",
      "Epoch 21/150\n",
      " - 0s - loss: 0.5034 - acc: 0.8450 - val_loss: 0.5192 - val_acc: 0.8446\n",
      "Epoch 22/150\n",
      " - 0s - loss: 0.4816 - acc: 0.8633 - val_loss: 0.5058 - val_acc: 0.8506\n",
      "Epoch 23/150\n",
      " - 0s - loss: 0.4706 - acc: 0.8683 - val_loss: 0.5316 - val_acc: 0.8434\n",
      "Epoch 24/150\n",
      " - 0s - loss: 0.4626 - acc: 0.8600 - val_loss: 0.4894 - val_acc: 0.8540\n",
      "Epoch 25/150\n",
      " - 0s - loss: 0.4459 - acc: 0.8700 - val_loss: 0.5382 - val_acc: 0.8356\n",
      "Epoch 26/150\n",
      " - 1s - loss: 0.4396 - acc: 0.8717 - val_loss: 0.4811 - val_acc: 0.8532\n",
      "Epoch 27/150\n",
      " - 0s - loss: 0.4412 - acc: 0.8833 - val_loss: 0.4858 - val_acc: 0.8576\n",
      "Epoch 28/150\n",
      " - 0s - loss: 0.4149 - acc: 0.8883 - val_loss: 0.4670 - val_acc: 0.8630\n",
      "Epoch 29/150\n",
      " - 0s - loss: 0.4099 - acc: 0.8833 - val_loss: 0.4678 - val_acc: 0.8594\n",
      "Epoch 30/150\n",
      " - 1s - loss: 0.4073 - acc: 0.8867 - val_loss: 0.4664 - val_acc: 0.8632\n",
      "Epoch 31/150\n",
      " - 0s - loss: 0.3989 - acc: 0.8950 - val_loss: 0.4503 - val_acc: 0.8666\n",
      "Epoch 32/150\n",
      " - 1s - loss: 0.3940 - acc: 0.8950 - val_loss: 0.4592 - val_acc: 0.8636\n",
      "Epoch 33/150\n",
      " - 1s - loss: 0.3822 - acc: 0.8967 - val_loss: 0.4491 - val_acc: 0.8682\n",
      "Epoch 34/150\n",
      " - 0s - loss: 0.3707 - acc: 0.8967 - val_loss: 0.4539 - val_acc: 0.8648\n",
      "Epoch 35/150\n",
      " - 1s - loss: 0.3641 - acc: 0.8967 - val_loss: 0.4816 - val_acc: 0.8520\n",
      "Epoch 36/150\n",
      " - 1s - loss: 0.3575 - acc: 0.9033 - val_loss: 0.4380 - val_acc: 0.8698\n",
      "Epoch 37/150\n",
      " - 1s - loss: 0.3568 - acc: 0.8967 - val_loss: 0.4311 - val_acc: 0.8746\n",
      "Epoch 38/150\n",
      " - 1s - loss: 0.3401 - acc: 0.9083 - val_loss: 0.4647 - val_acc: 0.8668\n",
      "Epoch 39/150\n",
      " - 1s - loss: 0.3304 - acc: 0.9050 - val_loss: 0.4767 - val_acc: 0.8582\n",
      "Epoch 40/150\n",
      " - 1s - loss: 0.3282 - acc: 0.9083 - val_loss: 0.4316 - val_acc: 0.8718\n",
      "Epoch 41/150\n",
      " - 1s - loss: 0.3172 - acc: 0.9083 - val_loss: 0.4296 - val_acc: 0.8742\n",
      "Epoch 42/150\n",
      " - 1s - loss: 0.3159 - acc: 0.8967 - val_loss: 0.4319 - val_acc: 0.8744\n",
      "Epoch 43/150\n",
      " - 1s - loss: 0.3032 - acc: 0.9133 - val_loss: 0.4598 - val_acc: 0.8646\n",
      "Epoch 44/150\n",
      " - 1s - loss: 0.3106 - acc: 0.9067 - val_loss: 0.4647 - val_acc: 0.8676\n",
      "Epoch 45/150\n",
      " - 1s - loss: 0.3083 - acc: 0.9117 - val_loss: 0.4137 - val_acc: 0.8792\n",
      "Epoch 46/150\n",
      " - 1s - loss: 0.2887 - acc: 0.9150 - val_loss: 0.4302 - val_acc: 0.8694\n",
      "Epoch 47/150\n",
      " - 1s - loss: 0.2889 - acc: 0.9183 - val_loss: 0.4221 - val_acc: 0.8738\n",
      "Epoch 48/150\n",
      " - 1s - loss: 0.2889 - acc: 0.9017 - val_loss: 0.4146 - val_acc: 0.8782\n",
      "Epoch 49/150\n",
      " - 1s - loss: 0.2725 - acc: 0.9217 - val_loss: 0.4141 - val_acc: 0.8726\n",
      "Epoch 50/150\n",
      " - 1s - loss: 0.2757 - acc: 0.9133 - val_loss: 0.4498 - val_acc: 0.8650\n",
      "Epoch 51/150\n",
      " - 1s - loss: 0.2771 - acc: 0.9167 - val_loss: 0.3938 - val_acc: 0.8884\n",
      "Epoch 52/150\n",
      " - 1s - loss: 0.2593 - acc: 0.9233 - val_loss: 0.4038 - val_acc: 0.8810\n",
      "Epoch 53/150\n",
      " - 1s - loss: 0.2644 - acc: 0.9167 - val_loss: 0.4105 - val_acc: 0.8816\n",
      "Epoch 54/150\n",
      " - 1s - loss: 0.2515 - acc: 0.9217 - val_loss: 0.3913 - val_acc: 0.8876\n",
      "Epoch 55/150\n",
      " - 1s - loss: 0.2674 - acc: 0.9200 - val_loss: 0.3899 - val_acc: 0.8890\n",
      "Epoch 56/150\n",
      " - 1s - loss: 0.2495 - acc: 0.9233 - val_loss: 0.3963 - val_acc: 0.8852\n",
      "Epoch 57/150\n",
      " - 1s - loss: 0.2490 - acc: 0.9167 - val_loss: 0.3881 - val_acc: 0.8852\n",
      "Epoch 58/150\n",
      " - 1s - loss: 0.2377 - acc: 0.9267 - val_loss: 0.4130 - val_acc: 0.8820\n",
      "Epoch 59/150\n",
      " - 1s - loss: 0.2420 - acc: 0.9300 - val_loss: 0.4010 - val_acc: 0.8840\n",
      "Epoch 60/150\n",
      " - 1s - loss: 0.2280 - acc: 0.9333 - val_loss: 0.4027 - val_acc: 0.8874\n",
      "Epoch 61/150\n",
      " - 1s - loss: 0.2255 - acc: 0.9333 - val_loss: 0.4092 - val_acc: 0.8790\n",
      "Epoch 62/150\n",
      " - 1s - loss: 0.2225 - acc: 0.9317 - val_loss: 0.4333 - val_acc: 0.8712\n",
      "Epoch 63/150\n",
      " - 0s - loss: 0.2201 - acc: 0.9267 - val_loss: 0.3929 - val_acc: 0.8898\n",
      "Epoch 64/150\n",
      " - 0s - loss: 0.2177 - acc: 0.9317 - val_loss: 0.4148 - val_acc: 0.8848\n",
      "Epoch 65/150\n",
      " - 0s - loss: 0.2089 - acc: 0.9350 - val_loss: 0.4134 - val_acc: 0.8784\n",
      "Epoch 66/150\n",
      " - 0s - loss: 0.2044 - acc: 0.9383 - val_loss: 0.4005 - val_acc: 0.8860\n",
      "Epoch 67/150\n",
      " - 0s - loss: 0.1996 - acc: 0.9433 - val_loss: 0.4085 - val_acc: 0.8838\n",
      "Epoch 68/150\n",
      " - 0s - loss: 0.1979 - acc: 0.9383 - val_loss: 0.4122 - val_acc: 0.8786\n",
      "Epoch 69/150\n",
      " - 0s - loss: 0.1941 - acc: 0.9433 - val_loss: 0.3777 - val_acc: 0.8942\n",
      "Epoch 70/150\n",
      " - 0s - loss: 0.1896 - acc: 0.9433 - val_loss: 0.3906 - val_acc: 0.8878\n",
      "Epoch 71/150\n",
      " - 0s - loss: 0.1841 - acc: 0.9500 - val_loss: 0.3853 - val_acc: 0.8918\n",
      "Epoch 72/150\n",
      " - 0s - loss: 0.1779 - acc: 0.9467 - val_loss: 0.3861 - val_acc: 0.8956\n",
      "Epoch 73/150\n",
      " - 0s - loss: 0.1711 - acc: 0.9517 - val_loss: 0.3917 - val_acc: 0.8882\n",
      "Epoch 74/150\n",
      " - 0s - loss: 0.1746 - acc: 0.9483 - val_loss: 0.4113 - val_acc: 0.8880\n",
      "Epoch 75/150\n",
      " - 0s - loss: 0.1686 - acc: 0.9533 - val_loss: 0.4031 - val_acc: 0.8860\n",
      "Epoch 76/150\n",
      " - 1s - loss: 0.1683 - acc: 0.9500 - val_loss: 0.3876 - val_acc: 0.8954\n",
      "Epoch 77/150\n",
      " - 0s - loss: 0.1610 - acc: 0.9533 - val_loss: 0.4188 - val_acc: 0.8816\n",
      "Epoch 78/150\n",
      " - 0s - loss: 0.1648 - acc: 0.9483 - val_loss: 0.3798 - val_acc: 0.8952\n",
      "Epoch 79/150\n",
      " - 0s - loss: 0.1541 - acc: 0.9533 - val_loss: 0.3834 - val_acc: 0.8960\n",
      "Epoch 80/150\n",
      " - 0s - loss: 0.1510 - acc: 0.9517 - val_loss: 0.3956 - val_acc: 0.8906\n",
      "Epoch 81/150\n",
      " - 0s - loss: 0.1514 - acc: 0.9550 - val_loss: 0.3994 - val_acc: 0.8894\n",
      "Epoch 82/150\n",
      " - 0s - loss: 0.1426 - acc: 0.9567 - val_loss: 0.4174 - val_acc: 0.8908\n",
      "Epoch 83/150\n",
      " - 0s - loss: 0.1394 - acc: 0.9617 - val_loss: 0.4079 - val_acc: 0.8888\n",
      "Epoch 84/150\n",
      " - 0s - loss: 0.1400 - acc: 0.9617 - val_loss: 0.4024 - val_acc: 0.8898\n",
      "Epoch 85/150\n",
      " - 0s - loss: 0.1347 - acc: 0.9650 - val_loss: 0.3883 - val_acc: 0.8964\n",
      "Epoch 86/150\n",
      " - 0s - loss: 0.1271 - acc: 0.9600 - val_loss: 0.3964 - val_acc: 0.8932\n",
      "Epoch 87/150\n",
      " - 0s - loss: 0.1376 - acc: 0.9583 - val_loss: 0.4164 - val_acc: 0.8886\n",
      "Epoch 88/150\n",
      " - 0s - loss: 0.1194 - acc: 0.9667 - val_loss: 0.4155 - val_acc: 0.8910\n",
      "Epoch 89/150\n",
      " - 0s - loss: 0.1267 - acc: 0.9600 - val_loss: 0.3999 - val_acc: 0.8914\n",
      "Epoch 90/150\n",
      " - 0s - loss: 0.1233 - acc: 0.9650 - val_loss: 0.4154 - val_acc: 0.8902\n",
      "Epoch 91/150\n",
      " - 0s - loss: 0.1237 - acc: 0.9633 - val_loss: 0.4027 - val_acc: 0.8944\n",
      "Epoch 92/150\n",
      " - 0s - loss: 0.1117 - acc: 0.9717 - val_loss: 0.3995 - val_acc: 0.8948\n",
      "Epoch 93/150\n",
      " - 0s - loss: 0.1187 - acc: 0.9617 - val_loss: 0.3953 - val_acc: 0.8978\n",
      "Epoch 94/150\n",
      " - 0s - loss: 0.1021 - acc: 0.9683 - val_loss: 0.4123 - val_acc: 0.8964\n",
      "Epoch 95/150\n",
      " - 0s - loss: 0.1126 - acc: 0.9650 - val_loss: 0.4021 - val_acc: 0.8968\n",
      "Epoch 96/150\n",
      " - 0s - loss: 0.1034 - acc: 0.9700 - val_loss: 0.3981 - val_acc: 0.8970\n"
     ]
    },
    {
     "name": "stdout",
     "output_type": "stream",
     "text": [
      "Epoch 97/150\n",
      " - 0s - loss: 0.1053 - acc: 0.9733 - val_loss: 0.3952 - val_acc: 0.8998\n",
      "Epoch 98/150\n",
      " - 0s - loss: 0.0974 - acc: 0.9683 - val_loss: 0.4359 - val_acc: 0.8880\n",
      "Epoch 99/150\n",
      " - 0s - loss: 0.0942 - acc: 0.9767 - val_loss: 0.4335 - val_acc: 0.8900\n",
      "Epoch 100/150\n",
      " - 0s - loss: 0.0919 - acc: 0.9717 - val_loss: 0.4057 - val_acc: 0.9000\n",
      "Epoch 101/150\n",
      " - 0s - loss: 0.0880 - acc: 0.9767 - val_loss: 0.4255 - val_acc: 0.8910\n",
      "Epoch 102/150\n",
      " - 0s - loss: 0.0870 - acc: 0.9817 - val_loss: 0.4259 - val_acc: 0.8944\n",
      "Epoch 103/150\n",
      " - 0s - loss: 0.0911 - acc: 0.9700 - val_loss: 0.4220 - val_acc: 0.8964\n",
      "Epoch 104/150\n",
      " - 0s - loss: 0.0823 - acc: 0.9733 - val_loss: 0.4378 - val_acc: 0.8950\n",
      "Epoch 105/150\n",
      " - 0s - loss: 0.0818 - acc: 0.9833 - val_loss: 0.4394 - val_acc: 0.8910\n",
      "Epoch 106/150\n",
      " - 0s - loss: 0.0824 - acc: 0.9750 - val_loss: 0.4165 - val_acc: 0.8984\n",
      "Epoch 107/150\n",
      " - 0s - loss: 0.0777 - acc: 0.9817 - val_loss: 0.4413 - val_acc: 0.8906\n",
      "Epoch 108/150\n",
      " - 0s - loss: 0.0802 - acc: 0.9717 - val_loss: 0.4161 - val_acc: 0.9012\n",
      "Epoch 109/150\n",
      " - 0s - loss: 0.0725 - acc: 0.9783 - val_loss: 0.4317 - val_acc: 0.8976\n",
      "Epoch 110/150\n",
      " - 0s - loss: 0.0701 - acc: 0.9817 - val_loss: 0.4446 - val_acc: 0.8936\n",
      "Epoch 111/150\n",
      " - 0s - loss: 0.0715 - acc: 0.9800 - val_loss: 0.4460 - val_acc: 0.8932\n",
      "Epoch 112/150\n",
      " - 0s - loss: 0.0663 - acc: 0.9833 - val_loss: 0.4477 - val_acc: 0.8950\n",
      "Epoch 113/150\n",
      " - 0s - loss: 0.0618 - acc: 0.9833 - val_loss: 0.4287 - val_acc: 0.8996\n",
      "Epoch 114/150\n",
      " - 0s - loss: 0.0696 - acc: 0.9833 - val_loss: 0.4412 - val_acc: 0.8976\n",
      "Epoch 115/150\n",
      " - 0s - loss: 0.0667 - acc: 0.9817 - val_loss: 0.4435 - val_acc: 0.8970\n",
      "Epoch 116/150\n",
      " - 0s - loss: 0.0569 - acc: 0.9867 - val_loss: 0.4407 - val_acc: 0.8996\n",
      "Epoch 117/150\n",
      " - 0s - loss: 0.0611 - acc: 0.9833 - val_loss: 0.4413 - val_acc: 0.8988\n",
      "Epoch 118/150\n",
      " - 0s - loss: 0.0568 - acc: 0.9867 - val_loss: 0.4596 - val_acc: 0.8980\n",
      "Epoch 119/150\n",
      " - 0s - loss: 0.0582 - acc: 0.9867 - val_loss: 0.4386 - val_acc: 0.9000\n",
      "Epoch 120/150\n",
      " - 0s - loss: 0.0556 - acc: 0.9883 - val_loss: 0.4654 - val_acc: 0.8940\n",
      "Epoch 121/150\n",
      " - 1s - loss: 0.0560 - acc: 0.9850 - val_loss: 0.4631 - val_acc: 0.8974\n",
      "Epoch 122/150\n",
      " - 0s - loss: 0.0549 - acc: 0.9867 - val_loss: 0.4728 - val_acc: 0.8966\n",
      "Epoch 123/150\n",
      " - 0s - loss: 0.0447 - acc: 0.9883 - val_loss: 0.4836 - val_acc: 0.8904\n",
      "Epoch 124/150\n",
      " - 0s - loss: 0.0476 - acc: 0.9917 - val_loss: 0.4653 - val_acc: 0.8994\n",
      "Epoch 125/150\n",
      " - 0s - loss: 0.0464 - acc: 0.9883 - val_loss: 0.4735 - val_acc: 0.8968\n",
      "Epoch 126/150\n",
      " - 0s - loss: 0.0448 - acc: 0.9900 - val_loss: 0.4706 - val_acc: 0.8990\n",
      "Epoch 127/150\n",
      " - 0s - loss: 0.0449 - acc: 0.9883 - val_loss: 0.5019 - val_acc: 0.8892\n",
      "Epoch 128/150\n",
      " - 0s - loss: 0.0422 - acc: 0.9833 - val_loss: 0.5060 - val_acc: 0.8928\n",
      "Epoch 129/150\n",
      " - 0s - loss: 0.0433 - acc: 0.9883 - val_loss: 0.4856 - val_acc: 0.8960\n",
      "Epoch 130/150\n",
      " - 0s - loss: 0.0374 - acc: 0.9883 - val_loss: 0.4827 - val_acc: 0.8962\n",
      "Epoch 131/150\n",
      " - 0s - loss: 0.0382 - acc: 0.9933 - val_loss: 0.4706 - val_acc: 0.8986\n",
      "Epoch 132/150\n",
      " - 0s - loss: 0.0354 - acc: 0.9917 - val_loss: 0.4881 - val_acc: 0.8968\n",
      "Epoch 133/150\n",
      " - 0s - loss: 0.0305 - acc: 0.9950 - val_loss: 0.4893 - val_acc: 0.8982\n",
      "Epoch 134/150\n",
      " - 0s - loss: 0.0313 - acc: 0.9950 - val_loss: 0.5062 - val_acc: 0.8942\n",
      "Epoch 135/150\n",
      " - 0s - loss: 0.0344 - acc: 0.9950 - val_loss: 0.4991 - val_acc: 0.8992\n",
      "Epoch 136/150\n",
      " - 0s - loss: 0.0338 - acc: 0.9933 - val_loss: 0.5047 - val_acc: 0.8942\n",
      "Epoch 137/150\n",
      " - 0s - loss: 0.0286 - acc: 0.9950 - val_loss: 0.5478 - val_acc: 0.8886\n",
      "Epoch 138/150\n",
      " - 0s - loss: 0.0289 - acc: 0.9950 - val_loss: 0.4979 - val_acc: 0.8958\n",
      "Epoch 139/150\n",
      " - 0s - loss: 0.0311 - acc: 0.9967 - val_loss: 0.5151 - val_acc: 0.8944\n",
      "Epoch 140/150\n",
      " - 0s - loss: 0.0373 - acc: 0.9867 - val_loss: 0.5220 - val_acc: 0.8970\n",
      "Epoch 141/150\n",
      " - 0s - loss: 0.0244 - acc: 0.9950 - val_loss: 0.5379 - val_acc: 0.8924\n",
      "Epoch 142/150\n",
      " - 0s - loss: 0.0316 - acc: 0.9917 - val_loss: 0.5232 - val_acc: 0.8956\n",
      "Epoch 143/150\n",
      " - 0s - loss: 0.0245 - acc: 0.9967 - val_loss: 0.4934 - val_acc: 0.9006\n",
      "Epoch 144/150\n",
      " - 1s - loss: 0.0250 - acc: 0.9967 - val_loss: 0.5094 - val_acc: 0.9012\n",
      "Epoch 145/150\n",
      " - 0s - loss: 0.0213 - acc: 0.9967 - val_loss: 0.5150 - val_acc: 0.9002\n",
      "Epoch 146/150\n",
      " - 0s - loss: 0.0265 - acc: 0.9983 - val_loss: 0.5196 - val_acc: 0.8988\n",
      "Epoch 147/150\n",
      " - 0s - loss: 0.0197 - acc: 0.9967 - val_loss: 0.5223 - val_acc: 0.8988\n",
      "Epoch 148/150\n",
      " - 0s - loss: 0.0193 - acc: 0.9950 - val_loss: 0.5356 - val_acc: 0.8954\n",
      "Epoch 149/150\n",
      " - 0s - loss: 0.0206 - acc: 0.9967 - val_loss: 0.5077 - val_acc: 0.9008\n",
      "Epoch 150/150\n",
      " - 0s - loss: 0.0176 - acc: 1.0000 - val_loss: 0.5358 - val_acc: 0.8936\n"
     ]
    }
   ],
   "source": [
    "history = cnnmodel.fit(x_train, y_train,\n",
    "                       batch_size=batch_size, \n",
    "                       epochs=3*epochs,\n",
    "                       verbose=2,\n",
    "                       validation_data=(x_test, y_test))"
   ]
  },
  {
   "cell_type": "code",
   "execution_count": 36,
   "metadata": {
    "scrolled": true,
    "slideshow": {
     "slide_type": "subslide"
    }
   },
   "outputs": [
    {
     "data": {
      "image/png": "[encoded data removed]",
      "text/plain": [
       "<Figure size 1080x360 with 2 Axes>"
      ]
     },
     "metadata": {
      "needs_background": "light"
     },
     "output_type": "display_data"
    }
   ],
   "source": [
    "histplot(history)"
   ]
  },
  {
   "cell_type": "code",
   "execution_count": 37,
   "metadata": {},
   "outputs": [
    {
     "name": "stdout",
     "output_type": "stream",
     "text": [
      "1.5517428 8.942634\n",
      "Rescaling weights of layer 1 by factor 0.11182388114105626\n",
      "0.44019738 8.942634\n",
      "Rescaling weights of layer 2 by factor 1.0\n",
      "0.5908108 41.147625\n",
      "Rescaling weights of layer 3 by factor 0.2173305043381082\n"
     ]
    }
   ],
   "source": [
    "snn_cnn_weights = data_based_normalization(cnnmodel, x_train)"
   ]
  }
 ],
 "metadata": {
  "anaconda-cloud": {},
  "hide_input": false,
  "kernelspec": {
   "display_name": "Python [conda env:keras_demo]",
   "language": "python",
   "name": "conda-env-keras_demo-py"
  },
  "language_info": {
   "codemirror_mode": {
    "name": "ipython",
    "version": 3
   },
   "file_extension": ".py",
   "mimetype": "text/x-python",
   "name": "python",
   "nbconvert_exporter": "python",
   "pygments_lexer": "ipython3",
   "version": "3.6.7"
  },
  "latex_envs": {
   "LaTeX_envs_menu_present": true,
   "autocomplete": true,
   "bibliofile": "biblio.bib",
   "cite_by": "apalike",
   "current_citInitial": 1,
   "eqLabelWithNumbers": true,
   "eqNumInitial": 1,
   "hotkeys": {
    "equation": "Ctrl-E",
    "itemize": "Ctrl-I"
   },
   "labels_anchors": false,
   "latex_user_defs": false,
   "report_style_numbering": false,
   "user_envs_cfg": false
  }
 },
 "nbformat": 4,
 "nbformat_minor": 2
}
