{
 "cells": [
  {
   "cell_type": "markdown",
   "metadata": {
    "slideshow": {
     "slide_type": "slide"
    }
   },
   "source": [
    "# Training simple neural networks on the MNIST dataset using keras"
   ]
  },
  {
   "cell_type": "markdown",
   "metadata": {
    "slideshow": {
     "slide_type": "subslide"
    }
   },
   "source": [
    "You can create a suitable conda environment to run this notebook using:\n",
    "\n",
    "    conda create -n keras_demo python=3 tensorflow matplotlib ipykernel scikit-learn pandas\n",
    "    \n",
    "If you haven't got the latest cuda drivers, you may also need to specify `cudatoolkit=9.0` or similar."
   ]
  },
  {
   "cell_type": "markdown",
   "metadata": {
    "slideshow": {
     "slide_type": "slide"
    }
   },
   "source": [
    "### First some common imports..."
   ]
  },
  {
   "cell_type": "code",
   "execution_count": 1,
   "metadata": {
    "slideshow": {
     "slide_type": "fragment"
    }
   },
   "outputs": [],
   "source": [
    "%matplotlib inline\n",
    "from matplotlib import pyplot as plt\n",
    "import numpy as np\n",
    "import pandas as pd"
   ]
  },
  {
   "cell_type": "markdown",
   "metadata": {
    "slideshow": {
     "slide_type": "slide"
    }
   },
   "source": [
    "### Set up TensorFlow in a friendly manner"
   ]
  },
  {
   "cell_type": "code",
   "execution_count": 2,
   "metadata": {
    "slideshow": {
     "slide_type": "fragment"
    }
   },
   "outputs": [],
   "source": [
    "import tensorflow as tf\n",
    "\n",
    "# if multiple GPUs, only use one of them \n",
    "import os\n",
    "os.environ[\"CUDA_VISIBLE_DEVICES\"]=\"1\"\n",
    "\n",
    "# avoid hogging all the GPU memory\n",
    "config = tf.ConfigProto()\n",
    "config.gpu_options.allow_growth=True\n",
    "sess = tf.Session(config=config)"
   ]
  },
  {
   "cell_type": "code",
   "execution_count": 3,
   "metadata": {
    "scrolled": true,
    "slideshow": {
     "slide_type": "fragment"
    }
   },
   "outputs": [
    {
     "data": {
      "text/plain": [
       "[name: \"/device:CPU:0\"\n",
       " device_type: \"CPU\"\n",
       " memory_limit: 268435456\n",
       " locality {\n",
       " }\n",
       " incarnation: 7523402726697974993, name: \"/device:GPU:0\"\n",
       " device_type: \"GPU\"\n",
       " memory_limit: 10903142400\n",
       " locality {\n",
       "   bus_id: 1\n",
       "   links {\n",
       "   }\n",
       " }\n",
       " incarnation: 17001153544636143689\n",
       " physical_device_desc: \"device: 0, name: GeForce GTX 1080 Ti, pci bus id: 0000:07:00.0, compute capability: 6.1\"]"
      ]
     },
     "execution_count": 3,
     "metadata": {},
     "output_type": "execute_result"
    }
   ],
   "source": [
    "# check that we have the devices we expect available\n",
    "from tensorflow.python.client import device_lib\n",
    "device_lib.list_local_devices()"
   ]
  },
  {
   "cell_type": "markdown",
   "metadata": {
    "slideshow": {
     "slide_type": "slide"
    }
   },
   "source": [
    "### Import keras bits and pieces"
   ]
  },
  {
   "cell_type": "code",
   "execution_count": 4,
   "metadata": {
    "slideshow": {
     "slide_type": "fragment"
    }
   },
   "outputs": [],
   "source": [
    "# if you have a recent version of tensorflow, keras is included\n",
    "from tensorflow import keras\n",
    "from tensorflow.keras.datasets import mnist\n",
    "from tensorflow.keras.models import Sequential\n",
    "from tensorflow.keras.layers import Dense, Dropout, Conv2D, MaxPooling2D, Flatten\n",
    "from tensorflow.keras.optimizers import RMSprop"
   ]
  },
  {
   "cell_type": "markdown",
   "metadata": {
    "slideshow": {
     "slide_type": "slide"
    }
   },
   "source": [
    "### We will use a standard demonstration data set: MNIST handwritten digits"
   ]
  },
  {
   "cell_type": "code",
   "execution_count": 5,
   "metadata": {
    "slideshow": {
     "slide_type": "fragment"
    }
   },
   "outputs": [],
   "source": [
    "# the data, split between train and test sets\n",
    "(x_train, y_train), (x_valtest, y_valtest) = mnist.load_data()"
   ]
  },
  {
   "cell_type": "code",
   "execution_count": 6,
   "metadata": {
    "slideshow": {
     "slide_type": "skip"
    }
   },
   "outputs": [],
   "source": [
    "# demo the effect of noisy data\n",
    "#x_train = (x_train/5 + np.random.poisson(200, size=x_train.shape)).clip(0, 255)\n",
    "#x_valtest = (x_valtest/5 + np.random.poisson(200, size=x_valtest.shape)).clip(0, 255)"
   ]
  },
  {
   "cell_type": "code",
   "execution_count": 7,
   "metadata": {
    "slideshow": {
     "slide_type": "fragment"
    }
   },
   "outputs": [],
   "source": [
    "# if we wanted to test our model on limited data,\n",
    "# we could reduce the amount of training data like this...\n",
    "idx = np.random.choice(len(x_train), size=len(x_train)//100)\n",
    "x_train = x_train[idx]\n",
    "y_train = y_train[idx]"
   ]
  },
  {
   "cell_type": "markdown",
   "metadata": {
    "slideshow": {
     "slide_type": "fragment"
    }
   },
   "source": [
    "If your data isn't split, or want a validation set, need to do split manually"
   ]
  },
  {
   "cell_type": "code",
   "execution_count": 8,
   "metadata": {
    "slideshow": {
     "slide_type": "fragment"
    }
   },
   "outputs": [],
   "source": [
    "from sklearn.model_selection import train_test_split\n",
    "x_test, x_val, y_test, y_val = train_test_split(x_valtest, y_valtest, test_size=0.5)"
   ]
  },
  {
   "cell_type": "code",
   "execution_count": 9,
   "metadata": {
    "slideshow": {
     "slide_type": "fragment"
    }
   },
   "outputs": [
    {
     "data": {
      "text/plain": [
       "((600, 28, 28), (600,))"
      ]
     },
     "execution_count": 9,
     "metadata": {},
     "output_type": "execute_result"
    }
   ],
   "source": [
    "x_train.shape, y_train.shape"
   ]
  },
  {
   "cell_type": "code",
   "execution_count": 10,
   "metadata": {
    "slideshow": {
     "slide_type": "fragment"
    }
   },
   "outputs": [
    {
     "data": {
      "text/plain": [
       "((5000, 28, 28), (5000,))"
      ]
     },
     "execution_count": 10,
     "metadata": {},
     "output_type": "execute_result"
    }
   ],
   "source": [
    "x_test.shape, y_test.shape"
   ]
  },
  {
   "cell_type": "code",
   "execution_count": 11,
   "metadata": {
    "slideshow": {
     "slide_type": "fragment"
    }
   },
   "outputs": [
    {
     "data": {
      "text/plain": [
       "((5000, 28, 28), (5000,))"
      ]
     },
     "execution_count": 11,
     "metadata": {},
     "output_type": "execute_result"
    }
   ],
   "source": [
    "x_val.shape, y_val.shape"
   ]
  },
  {
   "cell_type": "markdown",
   "metadata": {
    "slideshow": {
     "slide_type": "slide"
    }
   },
   "source": [
    "### Take a look at the data\n",
    "\n",
    "This is a very quick glance - you should carefully examine any new dataset"
   ]
  },
  {
   "cell_type": "code",
   "execution_count": 12,
   "metadata": {
    "slideshow": {
     "slide_type": "fragment"
    }
   },
   "outputs": [
    {
     "name": "stdout",
     "output_type": "stream",
     "text": [
      "class = 6\n"
     ]
    },
    {
     "data": {
      "image/png": "[encoded data removed]",
      "text/plain": [
       "<Figure size 432x288 with 1 Axes>"
      ]
     },
     "metadata": {
      "needs_background": "light"
     },
     "output_type": "display_data"
    }
   ],
   "source": [
    "i = 3\n",
    "plt.imshow(x_train[i], cmap='gray')\n",
    "print('class =', y_train[i])"
   ]
  },
  {
   "cell_type": "markdown",
   "metadata": {
    "slideshow": {
     "slide_type": "slide"
    }
   },
   "source": [
    "### Prepare the data"
   ]
  },
  {
   "cell_type": "code",
   "execution_count": 13,
   "metadata": {
    "slideshow": {
     "slide_type": "fragment"
    }
   },
   "outputs": [],
   "source": [
    "# convert class vectors to \"one-hot\" binary class matrices\n",
    "num_classes = 10\n",
    "y_train = keras.utils.to_categorical(y_train, num_classes)\n",
    "y_test = keras.utils.to_categorical(y_test, num_classes)\n",
    "y_val = keras.utils.to_categorical(y_val, num_classes)"
   ]
  },
  {
   "cell_type": "code",
   "execution_count": 14,
   "metadata": {
    "slideshow": {
     "slide_type": "fragment"
    }
   },
   "outputs": [
    {
     "data": {
      "text/plain": [
       "array([0., 0., 0., 0., 0., 0., 1., 0., 0., 0.], dtype=float32)"
      ]
     },
     "execution_count": 14,
     "metadata": {},
     "output_type": "execute_result"
    }
   ],
   "source": [
    "y_train[i]"
   ]
  },
  {
   "cell_type": "code",
   "execution_count": 15,
   "metadata": {
    "slideshow": {
     "slide_type": "fragment"
    }
   },
   "outputs": [],
   "source": [
    "def process_data(x):\n",
    "    x = x.reshape(-1, 784)\n",
    "    x = x.astype('float32')\n",
    "    x /= 255\n",
    "    return x"
   ]
  },
  {
   "cell_type": "code",
   "execution_count": 16,
   "metadata": {
    "slideshow": {
     "slide_type": "fragment"
    }
   },
   "outputs": [],
   "source": [
    "x_train = process_data(x_train)\n",
    "x_test = process_data(x_test)\n",
    "x_val = process_data(x_val)"
   ]
  },
  {
   "cell_type": "code",
   "execution_count": 17,
   "metadata": {
    "slideshow": {
     "slide_type": "fragment"
    }
   },
   "outputs": [
    {
     "name": "stdout",
     "output_type": "stream",
     "text": [
      "600 train samples\n",
      "5000 test samples\n",
      "5000 validation samples\n"
     ]
    }
   ],
   "source": [
    "print(x_train.shape[0], 'train samples')\n",
    "print(x_test.shape[0], 'test samples')\n",
    "print(x_val.shape[0], 'validation samples')"
   ]
  },
  {
   "cell_type": "markdown",
   "metadata": {
    "slideshow": {
     "slide_type": "slide"
    }
   },
   "source": [
    "## Fully-connected NN"
   ]
  },
  {
   "cell_type": "markdown",
   "metadata": {
    "slideshow": {
     "slide_type": "slide"
    }
   },
   "source": [
    "### Construct the network"
   ]
  },
  {
   "cell_type": "code",
   "execution_count": 18,
   "metadata": {
    "slideshow": {
     "slide_type": "fragment"
    }
   },
   "outputs": [],
   "source": [
    "# a fairly small network for speed\n",
    "fcmodel = Sequential()\n",
    "fcmodel.add(Dense(32, activation='relu', input_shape=(784,)))\n",
    "fcmodel.add(Dense(32, activation='relu'))\n",
    "# could include dropout, regularisation, ...\n",
    "fcmodel.add(Dense(num_classes, activation='softmax'))"
   ]
  },
  {
   "cell_type": "code",
   "execution_count": 19,
   "metadata": {
    "slideshow": {
     "slide_type": "fragment"
    }
   },
   "outputs": [
    {
     "name": "stdout",
     "output_type": "stream",
     "text": [
      "_________________________________________________________________\n",
      "Layer (type)                 Output Shape              Param #   \n",
      "=================================================================\n",
      "dense (Dense)                (None, 32)                25120     \n",
      "_________________________________________________________________\n",
      "dense_1 (Dense)              (None, 32)                1056      \n",
      "_________________________________________________________________\n",
      "dense_2 (Dense)              (None, 10)                330       \n",
      "=================================================================\n",
      "Total params: 26,506\n",
      "Trainable params: 26,506\n",
      "Non-trainable params: 0\n",
      "_________________________________________________________________\n"
     ]
    }
   ],
   "source": [
    "fcmodel.summary()"
   ]
  },
  {
   "cell_type": "code",
   "execution_count": 20,
   "metadata": {
    "slideshow": {
     "slide_type": "fragment"
    }
   },
   "outputs": [],
   "source": [
    "fcmodel.compile(loss='categorical_crossentropy',\n",
    "                optimizer=RMSprop(),\n",
    "                metrics=['accuracy'])"
   ]
  },
  {
   "cell_type": "markdown",
   "metadata": {
    "slideshow": {
     "slide_type": "slide"
    }
   },
   "source": [
    "### Train the network"
   ]
  },
  {
   "cell_type": "code",
   "execution_count": 21,
   "metadata": {
    "slideshow": {
     "slide_type": "fragment"
    }
   },
   "outputs": [],
   "source": [
    "batch_size = 32\n",
    "epochs = 50"
   ]
  },
  {
   "cell_type": "code",
   "execution_count": 22,
   "metadata": {
    "scrolled": true,
    "slideshow": {
     "slide_type": "fragment"
    }
   },
   "outputs": [
    {
     "name": "stdout",
     "output_type": "stream",
     "text": [
      "Train on 600 samples, validate on 5000 samples\n",
      "Epoch 1/50\n",
      " - 1s - loss: 2.0637 - acc: 0.3483 - val_loss: 1.7996 - val_acc: 0.5368\n",
      "Epoch 2/50\n",
      " - 0s - loss: 1.5774 - acc: 0.6067 - val_loss: 1.4344 - val_acc: 0.6654\n",
      "Epoch 3/50\n",
      " - 0s - loss: 1.2276 - acc: 0.6933 - val_loss: 1.1661 - val_acc: 0.7062\n",
      "Epoch 4/50\n",
      " - 0s - loss: 0.9801 - acc: 0.7783 - val_loss: 0.9583 - val_acc: 0.7556\n",
      "Epoch 5/50\n",
      " - 0s - loss: 0.7660 - acc: 0.8300 - val_loss: 0.7892 - val_acc: 0.7922\n",
      "Epoch 6/50\n",
      " - 1s - loss: 0.5974 - acc: 0.8783 - val_loss: 0.6783 - val_acc: 0.8226\n",
      "Epoch 7/50\n",
      " - 1s - loss: 0.4878 - acc: 0.9083 - val_loss: 0.5936 - val_acc: 0.8394\n",
      "Epoch 8/50\n",
      " - 0s - loss: 0.4055 - acc: 0.9183 - val_loss: 0.5620 - val_acc: 0.8486\n",
      "Epoch 9/50\n",
      " - 0s - loss: 0.3460 - acc: 0.9400 - val_loss: 0.5208 - val_acc: 0.8538\n",
      "Epoch 10/50\n",
      " - 0s - loss: 0.2965 - acc: 0.9400 - val_loss: 0.4877 - val_acc: 0.8612\n",
      "Epoch 11/50\n",
      " - 0s - loss: 0.2552 - acc: 0.9483 - val_loss: 0.4849 - val_acc: 0.8610\n",
      "Epoch 12/50\n",
      " - 0s - loss: 0.2236 - acc: 0.9633 - val_loss: 0.4701 - val_acc: 0.8640\n",
      "Epoch 13/50\n",
      " - 0s - loss: 0.1998 - acc: 0.9667 - val_loss: 0.4536 - val_acc: 0.8654\n",
      "Epoch 14/50\n",
      " - 0s - loss: 0.1746 - acc: 0.9667 - val_loss: 0.4511 - val_acc: 0.8698\n",
      "Epoch 15/50\n",
      " - 0s - loss: 0.1496 - acc: 0.9750 - val_loss: 0.4399 - val_acc: 0.8712\n",
      "Epoch 16/50\n",
      " - 1s - loss: 0.1320 - acc: 0.9800 - val_loss: 0.4647 - val_acc: 0.8658\n",
      "Epoch 17/50\n",
      " - 0s - loss: 0.1152 - acc: 0.9817 - val_loss: 0.4593 - val_acc: 0.8678\n",
      "Epoch 18/50\n",
      " - 0s - loss: 0.0998 - acc: 0.9900 - val_loss: 0.4453 - val_acc: 0.8750\n",
      "Epoch 19/50\n",
      " - 0s - loss: 0.0897 - acc: 0.9867 - val_loss: 0.4567 - val_acc: 0.8714\n",
      "Epoch 20/50\n",
      " - 0s - loss: 0.0758 - acc: 0.9933 - val_loss: 0.4694 - val_acc: 0.8682\n",
      "Epoch 21/50\n",
      " - 1s - loss: 0.0669 - acc: 0.9933 - val_loss: 0.4580 - val_acc: 0.8720\n",
      "Epoch 22/50\n",
      " - 0s - loss: 0.0596 - acc: 0.9933 - val_loss: 0.4602 - val_acc: 0.8742\n",
      "Epoch 23/50\n",
      " - 0s - loss: 0.0479 - acc: 0.9950 - val_loss: 0.4791 - val_acc: 0.8718\n",
      "Epoch 24/50\n",
      " - 0s - loss: 0.0416 - acc: 0.9967 - val_loss: 0.4903 - val_acc: 0.8716\n",
      "Epoch 25/50\n",
      " - 0s - loss: 0.0339 - acc: 0.9983 - val_loss: 0.5075 - val_acc: 0.8674\n",
      "Epoch 26/50\n",
      " - 0s - loss: 0.0273 - acc: 0.9983 - val_loss: 0.4921 - val_acc: 0.8700\n",
      "Epoch 27/50\n",
      " - 0s - loss: 0.0260 - acc: 0.9983 - val_loss: 0.4951 - val_acc: 0.8746\n",
      "Epoch 28/50\n",
      " - 0s - loss: 0.0197 - acc: 1.0000 - val_loss: 0.5103 - val_acc: 0.8750\n",
      "Epoch 29/50\n",
      " - 0s - loss: 0.0189 - acc: 0.9983 - val_loss: 0.5113 - val_acc: 0.8760\n",
      "Epoch 30/50\n",
      " - 0s - loss: 0.0130 - acc: 1.0000 - val_loss: 0.5376 - val_acc: 0.8728\n",
      "Epoch 31/50\n",
      " - 0s - loss: 0.0110 - acc: 1.0000 - val_loss: 0.5564 - val_acc: 0.8684\n",
      "Epoch 32/50\n",
      " - 0s - loss: 0.0086 - acc: 1.0000 - val_loss: 0.5527 - val_acc: 0.8748\n",
      "Epoch 33/50\n",
      " - 0s - loss: 0.0085 - acc: 1.0000 - val_loss: 0.5699 - val_acc: 0.8702\n",
      "Epoch 34/50\n",
      " - 0s - loss: 0.0060 - acc: 1.0000 - val_loss: 0.5847 - val_acc: 0.8708\n",
      "Epoch 35/50\n",
      " - 0s - loss: 0.0047 - acc: 1.0000 - val_loss: 0.6110 - val_acc: 0.8684\n",
      "Epoch 36/50\n",
      " - 0s - loss: 0.0040 - acc: 1.0000 - val_loss: 0.6639 - val_acc: 0.8608\n",
      "Epoch 37/50\n",
      " - 0s - loss: 0.0034 - acc: 1.0000 - val_loss: 0.6200 - val_acc: 0.8718\n",
      "Epoch 38/50\n",
      " - 0s - loss: 0.0027 - acc: 1.0000 - val_loss: 0.6195 - val_acc: 0.8746\n",
      "Epoch 39/50\n",
      " - 0s - loss: 0.0021 - acc: 1.0000 - val_loss: 0.6424 - val_acc: 0.8760\n",
      "Epoch 40/50\n",
      " - 0s - loss: 0.0016 - acc: 1.0000 - val_loss: 0.6593 - val_acc: 0.8718\n",
      "Epoch 41/50\n",
      " - 0s - loss: 0.0013 - acc: 1.0000 - val_loss: 0.6865 - val_acc: 0.8692\n",
      "Epoch 42/50\n",
      " - 0s - loss: 0.0011 - acc: 1.0000 - val_loss: 0.6834 - val_acc: 0.8738\n",
      "Epoch 43/50\n",
      " - 0s - loss: 8.8236e-04 - acc: 1.0000 - val_loss: 0.6946 - val_acc: 0.8690\n",
      "Epoch 44/50\n",
      " - 0s - loss: 7.0889e-04 - acc: 1.0000 - val_loss: 0.7391 - val_acc: 0.8670\n",
      "Epoch 45/50\n",
      " - 0s - loss: 5.0377e-04 - acc: 1.0000 - val_loss: 0.7332 - val_acc: 0.8696\n",
      "Epoch 46/50\n",
      " - 0s - loss: 4.3481e-04 - acc: 1.0000 - val_loss: 0.7281 - val_acc: 0.8704\n",
      "Epoch 47/50\n",
      " - 0s - loss: 3.1686e-04 - acc: 1.0000 - val_loss: 0.7536 - val_acc: 0.8702\n",
      "Epoch 48/50\n",
      " - 0s - loss: 2.8777e-04 - acc: 1.0000 - val_loss: 0.8279 - val_acc: 0.8630\n",
      "Epoch 49/50\n",
      " - 0s - loss: 2.3401e-04 - acc: 1.0000 - val_loss: 0.7719 - val_acc: 0.8714\n",
      "Epoch 50/50\n",
      " - 0s - loss: 1.6200e-04 - acc: 1.0000 - val_loss: 0.8040 - val_acc: 0.8684\n"
     ]
    }
   ],
   "source": [
    "history = fcmodel.fit(x_train, y_train,\n",
    "                      batch_size=batch_size,\n",
    "                      epochs=epochs,\n",
    "                      verbose=2,\n",
    "                      validation_data=(x_test, y_test))"
   ]
  },
  {
   "cell_type": "code",
   "execution_count": 23,
   "metadata": {
    "slideshow": {
     "slide_type": "subslide"
    }
   },
   "outputs": [
    {
     "name": "stdout",
     "output_type": "stream",
     "text": [
      "Test loss: 0.8039847173077985\n",
      "Test accuracy: 0.8684\n"
     ]
    }
   ],
   "source": [
    "score = fcmodel.evaluate(x_test, y_test, verbose=0)\n",
    "print('Test loss:', score[0])\n",
    "print('Test accuracy:', score[1])"
   ]
  },
  {
   "cell_type": "code",
   "execution_count": 24,
   "metadata": {
    "slideshow": {
     "slide_type": "subslide"
    }
   },
   "outputs": [
    {
     "name": "stdout",
     "output_type": "stream",
     "text": [
      "Test loss: 0.7418088316336274\n",
      "Test accuracy: 0.871\n"
     ]
    }
   ],
   "source": [
    "# really we should not look at the score for this set of data\n",
    "# until we have finished tuning our model\n",
    "score = fcmodel.evaluate(x_val, y_val, verbose=0)\n",
    "print('Test loss:', score[0])\n",
    "print('Test accuracy:', score[1])"
   ]
  },
  {
   "cell_type": "code",
   "execution_count": 25,
   "metadata": {
    "slideshow": {
     "slide_type": "subslide"
    }
   },
   "outputs": [],
   "source": [
    "def histplot(history):\n",
    "    hist = pd.DataFrame(history.history)\n",
    "    fig, (ax1, ax2) = plt.subplots(1, 2, figsize=(15, 5))\n",
    "    hist.plot(y=['loss', 'val_loss'], ax=ax1)\n",
    "    min_loss = hist['val_loss'].min()\n",
    "    ax1.hlines(min_loss, 0, len(hist), linestyle='dotted',\n",
    "               label='min(val_loss) = {:.3f}'.format(min_loss))\n",
    "    ax1.legend(loc='upper right')\n",
    "    hist.plot(y=['acc', 'val_acc'], ax=ax2)\n",
    "    max_acc = hist['val_acc'].max()\n",
    "    ax2.hlines(max_acc, 0, len(hist), linestyle='dotted',\n",
    "               label='max(val_acc) = {:.3f}'.format(max_acc))\n",
    "    ax2.legend(loc='lower right', fontsize='large')"
   ]
  },
  {
   "cell_type": "code",
   "execution_count": 26,
   "metadata": {
    "scrolled": true,
    "slideshow": {
     "slide_type": "subslide"
    }
   },
   "outputs": [
    {
     "data": {
      "image/png": "[encoded data removed]",
      "text/plain": [
       "<Figure size 1080x360 with 2 Axes>"
      ]
     },
     "metadata": {
      "needs_background": "light"
     },
     "output_type": "display_data"
    }
   ],
   "source": [
    "histplot(history)"
   ]
  },
  {
   "cell_type": "markdown",
   "metadata": {
    "slideshow": {
     "slide_type": "slide"
    }
   },
   "source": [
    "## Convolutional Neural Network (CNN)"
   ]
  },
  {
   "cell_type": "markdown",
   "metadata": {
    "slideshow": {
     "slide_type": "slide"
    }
   },
   "source": [
    "### Reshape the data"
   ]
  },
  {
   "cell_type": "code",
   "execution_count": 27,
   "metadata": {
    "slideshow": {
     "slide_type": "fragment"
    }
   },
   "outputs": [],
   "source": [
    "x_train = x_train.reshape(-1, 28, 28, 1)\n",
    "x_test = x_test.reshape(-1, 28, 28, 1)"
   ]
  },
  {
   "cell_type": "markdown",
   "metadata": {
    "slideshow": {
     "slide_type": "slide"
    }
   },
   "source": [
    "### Construct the network"
   ]
  },
  {
   "cell_type": "code",
   "execution_count": 28,
   "metadata": {
    "slideshow": {
     "slide_type": "fragment"
    }
   },
   "outputs": [],
   "source": [
    "# a fairly small network for speed\n",
    "cnnmodel = Sequential()\n",
    "cnnmodel.add(Conv2D(8, (3, 3), activation='relu', input_shape=(28, 28, 1)))\n",
    "cnnmodel.add(MaxPooling2D((3, 3)))\n",
    "cnnmodel.add(Conv2D(16, (3, 3), activation='relu'))\n",
    "cnnmodel.add(MaxPooling2D((2, 2)))\n",
    "cnnmodel.add(Flatten())\n",
    "cnnmodel.add(Dense(num_classes, activation='softmax'))\n",
    "# could include dropout, regularisation, ..."
   ]
  },
  {
   "cell_type": "code",
   "execution_count": 29,
   "metadata": {
    "slideshow": {
     "slide_type": "fragment"
    }
   },
   "outputs": [],
   "source": [
    "cnnmodel.compile(loss='categorical_crossentropy',\n",
    "                optimizer=RMSprop(),\n",
    "                metrics=['accuracy'])"
   ]
  },
  {
   "cell_type": "code",
   "execution_count": 30,
   "metadata": {
    "slideshow": {
     "slide_type": "fragment"
    }
   },
   "outputs": [
    {
     "name": "stdout",
     "output_type": "stream",
     "text": [
      "_________________________________________________________________\n",
      "Layer (type)                 Output Shape              Param #   \n",
      "=================================================================\n",
      "conv2d (Conv2D)              (None, 26, 26, 8)         80        \n",
      "_________________________________________________________________\n",
      "max_pooling2d (MaxPooling2D) (None, 8, 8, 8)           0         \n",
      "_________________________________________________________________\n",
      "conv2d_1 (Conv2D)            (None, 6, 6, 16)          1168      \n",
      "_________________________________________________________________\n",
      "max_pooling2d_1 (MaxPooling2 (None, 3, 3, 16)          0         \n",
      "_________________________________________________________________\n",
      "flatten (Flatten)            (None, 144)               0         \n",
      "_________________________________________________________________\n",
      "dense_3 (Dense)              (None, 10)                1450      \n",
      "=================================================================\n",
      "Total params: 2,698\n",
      "Trainable params: 2,698\n",
      "Non-trainable params: 0\n",
      "_________________________________________________________________\n"
     ]
    }
   ],
   "source": [
    "cnnmodel.summary()"
   ]
  },
  {
   "cell_type": "code",
   "execution_count": 31,
   "metadata": {
    "slideshow": {
     "slide_type": "fragment"
    }
   },
   "outputs": [
    {
     "name": "stdout",
     "output_type": "stream",
     "text": [
      "WARNING:tensorflow:This model was compiled with a Keras optimizer (<tensorflow.python.keras.optimizers.RMSprop object at 0x7ff890194940>) but is being saved in TensorFlow format with `save_weights`. The model's weights will be saved, but unlike with TensorFlow optimizers in the TensorFlow format the optimizer's state will not be saved.\n",
      "\n",
      "Consider using a TensorFlow optimizer from `tf.train`.\n"
     ]
    }
   ],
   "source": [
    "# save weights for reinitialising below\n",
    "cnnmodel.save_weights('/tmp/cnnmodel_init_weights.tf')"
   ]
  },
  {
   "cell_type": "markdown",
   "metadata": {
    "slideshow": {
     "slide_type": "slide"
    }
   },
   "source": [
    "### Train the network"
   ]
  },
  {
   "cell_type": "code",
   "execution_count": 32,
   "metadata": {
    "slideshow": {
     "slide_type": "fragment"
    }
   },
   "outputs": [
    {
     "name": "stdout",
     "output_type": "stream",
     "text": [
      "Train on 600 samples, validate on 5000 samples\n",
      "Epoch 1/150\n",
      " - 2s - loss: 2.2625 - acc: 0.1533 - val_loss: 2.2041 - val_acc: 0.2552\n",
      "Epoch 2/150\n",
      " - 1s - loss: 2.1362 - acc: 0.3467 - val_loss: 2.0669 - val_acc: 0.4164\n",
      "Epoch 3/150\n",
      " - 1s - loss: 1.9653 - acc: 0.5217 - val_loss: 1.8720 - val_acc: 0.5170\n",
      "Epoch 4/150\n",
      " - 0s - loss: 1.7305 - acc: 0.6000 - val_loss: 1.6147 - val_acc: 0.6706\n",
      "Epoch 5/150\n",
      " - 0s - loss: 1.4768 - acc: 0.6917 - val_loss: 1.3634 - val_acc: 0.7144\n",
      "Epoch 6/150\n",
      " - 1s - loss: 1.2326 - acc: 0.7300 - val_loss: 1.1375 - val_acc: 0.7560\n",
      "Epoch 7/150\n",
      " - 1s - loss: 1.0206 - acc: 0.7783 - val_loss: 0.9437 - val_acc: 0.7830\n",
      "Epoch 8/150\n",
      " - 1s - loss: 0.8502 - acc: 0.7800 - val_loss: 0.7996 - val_acc: 0.8064\n",
      "Epoch 9/150\n",
      " - 1s - loss: 0.7298 - acc: 0.8217 - val_loss: 0.6915 - val_acc: 0.8246\n",
      "Epoch 10/150\n",
      " - 1s - loss: 0.6398 - acc: 0.8383 - val_loss: 0.6273 - val_acc: 0.8316\n",
      "Epoch 11/150\n",
      " - 1s - loss: 0.5670 - acc: 0.8533 - val_loss: 0.5588 - val_acc: 0.8508\n",
      "Epoch 12/150\n",
      " - 1s - loss: 0.5155 - acc: 0.8700 - val_loss: 0.5142 - val_acc: 0.8612\n",
      "Epoch 13/150\n",
      " - 1s - loss: 0.4643 - acc: 0.8700 - val_loss: 0.4768 - val_acc: 0.8578\n",
      "Epoch 14/150\n",
      " - 0s - loss: 0.4352 - acc: 0.8783 - val_loss: 0.4374 - val_acc: 0.8752\n",
      "Epoch 15/150\n",
      " - 0s - loss: 0.3983 - acc: 0.8833 - val_loss: 0.4286 - val_acc: 0.8736\n",
      "Epoch 16/150\n",
      " - 1s - loss: 0.3685 - acc: 0.9000 - val_loss: 0.4037 - val_acc: 0.8806\n",
      "Epoch 17/150\n",
      " - 0s - loss: 0.3536 - acc: 0.8833 - val_loss: 0.3740 - val_acc: 0.8888\n",
      "Epoch 18/150\n",
      " - 1s - loss: 0.3294 - acc: 0.9050 - val_loss: 0.3666 - val_acc: 0.8976\n",
      "Epoch 19/150\n",
      " - 1s - loss: 0.3144 - acc: 0.9067 - val_loss: 0.3463 - val_acc: 0.8996\n",
      "Epoch 20/150\n",
      " - 1s - loss: 0.2987 - acc: 0.9067 - val_loss: 0.3342 - val_acc: 0.9036\n",
      "Epoch 21/150\n",
      " - 1s - loss: 0.2808 - acc: 0.9150 - val_loss: 0.3230 - val_acc: 0.9070\n",
      "Epoch 22/150\n",
      " - 1s - loss: 0.2734 - acc: 0.9133 - val_loss: 0.3159 - val_acc: 0.9104\n",
      "Epoch 23/150\n",
      " - 1s - loss: 0.2562 - acc: 0.9183 - val_loss: 0.3028 - val_acc: 0.9112\n",
      "Epoch 24/150\n",
      " - 1s - loss: 0.2383 - acc: 0.9400 - val_loss: 0.3014 - val_acc: 0.9128\n",
      "Epoch 25/150\n",
      " - 0s - loss: 0.2358 - acc: 0.9233 - val_loss: 0.2917 - val_acc: 0.9156\n",
      "Epoch 26/150\n",
      " - 0s - loss: 0.2236 - acc: 0.9400 - val_loss: 0.2906 - val_acc: 0.9138\n",
      "Epoch 27/150\n",
      " - 1s - loss: 0.2088 - acc: 0.9417 - val_loss: 0.2798 - val_acc: 0.9208\n",
      "Epoch 28/150\n",
      " - 1s - loss: 0.2011 - acc: 0.9400 - val_loss: 0.2727 - val_acc: 0.9190\n",
      "Epoch 29/150\n",
      " - 1s - loss: 0.1882 - acc: 0.9417 - val_loss: 0.2769 - val_acc: 0.9182\n",
      "Epoch 30/150\n",
      " - 1s - loss: 0.1800 - acc: 0.9450 - val_loss: 0.2806 - val_acc: 0.9144\n",
      "Epoch 31/150\n",
      " - 1s - loss: 0.1733 - acc: 0.9583 - val_loss: 0.2645 - val_acc: 0.9230\n",
      "Epoch 32/150\n",
      " - 1s - loss: 0.1708 - acc: 0.9567 - val_loss: 0.2606 - val_acc: 0.9206\n",
      "Epoch 33/150\n",
      " - 1s - loss: 0.1513 - acc: 0.9650 - val_loss: 0.2543 - val_acc: 0.9226\n",
      "Epoch 34/150\n",
      " - 1s - loss: 0.1505 - acc: 0.9633 - val_loss: 0.2699 - val_acc: 0.9176\n",
      "Epoch 35/150\n",
      " - 1s - loss: 0.1459 - acc: 0.9583 - val_loss: 0.2501 - val_acc: 0.9264\n",
      "Epoch 36/150\n",
      " - 0s - loss: 0.1358 - acc: 0.9650 - val_loss: 0.2670 - val_acc: 0.9162\n",
      "Epoch 37/150\n",
      " - 1s - loss: 0.1335 - acc: 0.9650 - val_loss: 0.2527 - val_acc: 0.9220\n",
      "Epoch 38/150\n",
      " - 1s - loss: 0.1201 - acc: 0.9683 - val_loss: 0.2614 - val_acc: 0.9196\n",
      "Epoch 39/150\n",
      " - 1s - loss: 0.1229 - acc: 0.9667 - val_loss: 0.2517 - val_acc: 0.9190\n",
      "Epoch 40/150\n",
      " - 1s - loss: 0.1081 - acc: 0.9750 - val_loss: 0.2598 - val_acc: 0.9206\n",
      "Epoch 41/150\n",
      " - 1s - loss: 0.1081 - acc: 0.9750 - val_loss: 0.2478 - val_acc: 0.9250\n",
      "Epoch 42/150\n",
      " - 0s - loss: 0.1072 - acc: 0.9750 - val_loss: 0.2392 - val_acc: 0.9258\n",
      "Epoch 43/150\n",
      " - 0s - loss: 0.0946 - acc: 0.9767 - val_loss: 0.2380 - val_acc: 0.9282\n",
      "Epoch 44/150\n",
      " - 0s - loss: 0.0897 - acc: 0.9800 - val_loss: 0.2463 - val_acc: 0.9252\n",
      "Epoch 45/150\n",
      " - 0s - loss: 0.0877 - acc: 0.9817 - val_loss: 0.2333 - val_acc: 0.9288\n",
      "Epoch 46/150\n",
      " - 0s - loss: 0.0850 - acc: 0.9833 - val_loss: 0.2305 - val_acc: 0.9296\n",
      "Epoch 47/150\n",
      " - 0s - loss: 0.0774 - acc: 0.9850 - val_loss: 0.2489 - val_acc: 0.9200\n",
      "Epoch 48/150\n",
      " - 0s - loss: 0.0752 - acc: 0.9767 - val_loss: 0.2399 - val_acc: 0.9252\n",
      "Epoch 49/150\n",
      " - 0s - loss: 0.0723 - acc: 0.9833 - val_loss: 0.2329 - val_acc: 0.9290\n",
      "Epoch 50/150\n",
      " - 0s - loss: 0.0676 - acc: 0.9850 - val_loss: 0.2377 - val_acc: 0.9300\n",
      "Epoch 51/150\n",
      " - 0s - loss: 0.0654 - acc: 0.9867 - val_loss: 0.2399 - val_acc: 0.9288\n",
      "Epoch 52/150\n",
      " - 0s - loss: 0.0593 - acc: 0.9850 - val_loss: 0.2444 - val_acc: 0.9278\n",
      "Epoch 53/150\n",
      " - 0s - loss: 0.0581 - acc: 0.9917 - val_loss: 0.2312 - val_acc: 0.9316\n",
      "Epoch 54/150\n",
      " - 0s - loss: 0.0534 - acc: 0.9900 - val_loss: 0.2298 - val_acc: 0.9306\n",
      "Epoch 55/150\n",
      " - 0s - loss: 0.0501 - acc: 0.9967 - val_loss: 0.2397 - val_acc: 0.9288\n",
      "Epoch 56/150\n",
      " - 0s - loss: 0.0437 - acc: 0.9950 - val_loss: 0.2307 - val_acc: 0.9304\n",
      "Epoch 57/150\n",
      " - 0s - loss: 0.0456 - acc: 0.9933 - val_loss: 0.2457 - val_acc: 0.9266\n",
      "Epoch 58/150\n",
      " - 0s - loss: 0.0412 - acc: 0.9933 - val_loss: 0.2540 - val_acc: 0.9272\n",
      "Epoch 59/150\n",
      " - 0s - loss: 0.0363 - acc: 0.9967 - val_loss: 0.2373 - val_acc: 0.9306\n",
      "Epoch 60/150\n",
      " - 0s - loss: 0.0360 - acc: 0.9933 - val_loss: 0.2309 - val_acc: 0.9308\n",
      "Epoch 61/150\n",
      " - 0s - loss: 0.0345 - acc: 0.9983 - val_loss: 0.2378 - val_acc: 0.9298\n",
      "Epoch 62/150\n",
      " - 0s - loss: 0.0314 - acc: 0.9983 - val_loss: 0.2372 - val_acc: 0.9282\n",
      "Epoch 63/150\n",
      " - 0s - loss: 0.0296 - acc: 0.9983 - val_loss: 0.2367 - val_acc: 0.9330\n",
      "Epoch 64/150\n",
      " - 0s - loss: 0.0251 - acc: 0.9983 - val_loss: 0.2553 - val_acc: 0.9242\n",
      "Epoch 65/150\n",
      " - 1s - loss: 0.0283 - acc: 0.9983 - val_loss: 0.2410 - val_acc: 0.9272\n",
      "Epoch 66/150\n",
      " - 1s - loss: 0.0231 - acc: 1.0000 - val_loss: 0.2339 - val_acc: 0.9334\n",
      "Epoch 67/150\n",
      " - 1s - loss: 0.0205 - acc: 1.0000 - val_loss: 0.2412 - val_acc: 0.9342\n",
      "Epoch 68/150\n",
      " - 1s - loss: 0.0198 - acc: 1.0000 - val_loss: 0.2430 - val_acc: 0.9360\n",
      "Epoch 69/150\n",
      " - 1s - loss: 0.0180 - acc: 1.0000 - val_loss: 0.2424 - val_acc: 0.9324\n",
      "Epoch 70/150\n",
      " - 1s - loss: 0.0175 - acc: 1.0000 - val_loss: 0.2384 - val_acc: 0.9334\n",
      "Epoch 71/150\n",
      " - 1s - loss: 0.0155 - acc: 1.0000 - val_loss: 0.2357 - val_acc: 0.9336\n",
      "Epoch 72/150\n",
      " - 1s - loss: 0.0141 - acc: 1.0000 - val_loss: 0.2628 - val_acc: 0.9316\n",
      "Epoch 73/150\n",
      " - 0s - loss: 0.0145 - acc: 1.0000 - val_loss: 0.2381 - val_acc: 0.9356\n",
      "Epoch 74/150\n",
      " - 1s - loss: 0.0129 - acc: 1.0000 - val_loss: 0.2497 - val_acc: 0.9346\n",
      "Epoch 75/150\n",
      " - 1s - loss: 0.0107 - acc: 1.0000 - val_loss: 0.2576 - val_acc: 0.9300\n",
      "Epoch 76/150\n",
      " - 1s - loss: 0.0116 - acc: 1.0000 - val_loss: 0.2496 - val_acc: 0.9346\n",
      "Epoch 77/150\n",
      " - 1s - loss: 0.0092 - acc: 1.0000 - val_loss: 0.2620 - val_acc: 0.9310\n",
      "Epoch 78/150\n",
      " - 1s - loss: 0.0091 - acc: 1.0000 - val_loss: 0.2497 - val_acc: 0.9346\n",
      "Epoch 79/150\n",
      " - 1s - loss: 0.0107 - acc: 0.9967 - val_loss: 0.2638 - val_acc: 0.9312\n",
      "Epoch 80/150\n",
      " - 1s - loss: 0.0077 - acc: 1.0000 - val_loss: 0.2602 - val_acc: 0.9314\n",
      "Epoch 81/150\n",
      " - 1s - loss: 0.0079 - acc: 1.0000 - val_loss: 0.2566 - val_acc: 0.9346\n",
      "Epoch 82/150\n",
      " - 1s - loss: 0.0070 - acc: 1.0000 - val_loss: 0.2628 - val_acc: 0.9320\n",
      "Epoch 83/150\n",
      " - 1s - loss: 0.0059 - acc: 1.0000 - val_loss: 0.2491 - val_acc: 0.9358\n",
      "Epoch 84/150\n",
      " - 0s - loss: 0.0072 - acc: 1.0000 - val_loss: 0.2491 - val_acc: 0.9378\n",
      "Epoch 85/150\n",
      " - 1s - loss: 0.0050 - acc: 1.0000 - val_loss: 0.2532 - val_acc: 0.9382\n",
      "Epoch 86/150\n",
      " - 1s - loss: 0.0054 - acc: 1.0000 - val_loss: 0.2572 - val_acc: 0.9374\n",
      "Epoch 87/150\n",
      " - 1s - loss: 0.0048 - acc: 1.0000 - val_loss: 0.2623 - val_acc: 0.9368\n",
      "Epoch 88/150\n",
      " - 1s - loss: 0.0041 - acc: 1.0000 - val_loss: 0.2621 - val_acc: 0.9352\n",
      "Epoch 89/150\n",
      " - 1s - loss: 0.0035 - acc: 1.0000 - val_loss: 0.2702 - val_acc: 0.9356\n",
      "Epoch 90/150\n",
      " - 1s - loss: 0.0032 - acc: 1.0000 - val_loss: 0.2662 - val_acc: 0.9346\n",
      "Epoch 91/150\n",
      " - 1s - loss: 0.0032 - acc: 1.0000 - val_loss: 0.2735 - val_acc: 0.9362\n",
      "Epoch 92/150\n",
      " - 1s - loss: 0.0028 - acc: 1.0000 - val_loss: 0.2660 - val_acc: 0.9366\n",
      "Epoch 93/150\n",
      " - 0s - loss: 0.0028 - acc: 1.0000 - val_loss: 0.2864 - val_acc: 0.9332\n",
      "Epoch 94/150\n",
      " - 0s - loss: 0.0028 - acc: 1.0000 - val_loss: 0.2868 - val_acc: 0.9306\n",
      "Epoch 95/150\n",
      " - 1s - loss: 0.0021 - acc: 1.0000 - val_loss: 0.2711 - val_acc: 0.9382\n",
      "Epoch 96/150\n",
      " - 1s - loss: 0.0019 - acc: 1.0000 - val_loss: 0.2739 - val_acc: 0.9380\n"
     ]
    },
    {
     "name": "stdout",
     "output_type": "stream",
     "text": [
      "Epoch 97/150\n",
      " - 1s - loss: 0.0024 - acc: 1.0000 - val_loss: 0.2813 - val_acc: 0.9378\n",
      "Epoch 98/150\n",
      " - 1s - loss: 0.0014 - acc: 1.0000 - val_loss: 0.2813 - val_acc: 0.9382\n",
      "Epoch 99/150\n",
      " - 1s - loss: 0.0017 - acc: 1.0000 - val_loss: 0.2894 - val_acc: 0.9380\n",
      "Epoch 100/150\n",
      " - 1s - loss: 0.0012 - acc: 1.0000 - val_loss: 0.2860 - val_acc: 0.9370\n",
      "Epoch 101/150\n",
      " - 0s - loss: 0.0017 - acc: 1.0000 - val_loss: 0.2886 - val_acc: 0.9364\n",
      "Epoch 102/150\n",
      " - 0s - loss: 9.7953e-04 - acc: 1.0000 - val_loss: 0.2995 - val_acc: 0.9368\n",
      "Epoch 103/150\n",
      " - 0s - loss: 0.0011 - acc: 1.0000 - val_loss: 0.3238 - val_acc: 0.9318\n",
      "Epoch 104/150\n",
      " - 0s - loss: 9.7872e-04 - acc: 1.0000 - val_loss: 0.3005 - val_acc: 0.9366\n",
      "Epoch 105/150\n",
      " - 0s - loss: 8.8567e-04 - acc: 1.0000 - val_loss: 0.3012 - val_acc: 0.9392\n",
      "Epoch 106/150\n",
      " - 0s - loss: 0.0010 - acc: 1.0000 - val_loss: 0.2925 - val_acc: 0.9348\n",
      "Epoch 107/150\n",
      " - 0s - loss: 7.3574e-04 - acc: 1.0000 - val_loss: 0.2846 - val_acc: 0.9374\n",
      "Epoch 108/150\n",
      " - 0s - loss: 6.3517e-04 - acc: 1.0000 - val_loss: 0.2958 - val_acc: 0.9388\n",
      "Epoch 109/150\n",
      " - 0s - loss: 7.3943e-04 - acc: 1.0000 - val_loss: 0.2974 - val_acc: 0.9392\n",
      "Epoch 110/150\n",
      " - 0s - loss: 5.8805e-04 - acc: 1.0000 - val_loss: 0.3271 - val_acc: 0.9346\n",
      "Epoch 111/150\n",
      " - 0s - loss: 4.4074e-04 - acc: 1.0000 - val_loss: 0.3093 - val_acc: 0.9390\n",
      "Epoch 112/150\n",
      " - 0s - loss: 5.9346e-04 - acc: 1.0000 - val_loss: 0.3215 - val_acc: 0.9346\n",
      "Epoch 113/150\n",
      " - 0s - loss: 4.9092e-04 - acc: 1.0000 - val_loss: 0.2953 - val_acc: 0.9390\n",
      "Epoch 114/150\n",
      " - 0s - loss: 4.9560e-04 - acc: 1.0000 - val_loss: 0.3153 - val_acc: 0.9370\n",
      "Epoch 115/150\n",
      " - 0s - loss: 3.9847e-04 - acc: 1.0000 - val_loss: 0.3123 - val_acc: 0.9400\n",
      "Epoch 116/150\n",
      " - 0s - loss: 4.7564e-04 - acc: 1.0000 - val_loss: 0.3435 - val_acc: 0.9358\n",
      "Epoch 117/150\n",
      " - 0s - loss: 2.8663e-04 - acc: 1.0000 - val_loss: 0.3077 - val_acc: 0.9392\n",
      "Epoch 118/150\n",
      " - 0s - loss: 3.1502e-04 - acc: 1.0000 - val_loss: 0.3477 - val_acc: 0.9324\n",
      "Epoch 119/150\n",
      " - 0s - loss: 2.1864e-04 - acc: 1.0000 - val_loss: 0.3295 - val_acc: 0.9374\n",
      "Epoch 120/150\n",
      " - 0s - loss: 3.9218e-04 - acc: 1.0000 - val_loss: 0.3298 - val_acc: 0.9356\n",
      "Epoch 121/150\n",
      " - 1s - loss: 1.6717e-04 - acc: 1.0000 - val_loss: 0.3091 - val_acc: 0.9386\n",
      "Epoch 122/150\n",
      " - 0s - loss: 1.9285e-04 - acc: 1.0000 - val_loss: 0.3160 - val_acc: 0.9400\n",
      "Epoch 123/150\n",
      " - 1s - loss: 1.7401e-04 - acc: 1.0000 - val_loss: 0.3130 - val_acc: 0.9398\n",
      "Epoch 124/150\n",
      " - 0s - loss: 3.0996e-04 - acc: 1.0000 - val_loss: 0.3154 - val_acc: 0.9388\n",
      "Epoch 125/150\n",
      " - 0s - loss: 1.0956e-04 - acc: 1.0000 - val_loss: 0.3279 - val_acc: 0.9414\n",
      "Epoch 126/150\n",
      " - 0s - loss: 1.3123e-04 - acc: 1.0000 - val_loss: 0.3282 - val_acc: 0.9366\n",
      "Epoch 127/150\n",
      " - 0s - loss: 1.1823e-04 - acc: 1.0000 - val_loss: 0.3307 - val_acc: 0.9386\n",
      "Epoch 128/150\n",
      " - 0s - loss: 1.5209e-04 - acc: 1.0000 - val_loss: 0.3231 - val_acc: 0.9396\n",
      "Epoch 129/150\n",
      " - 1s - loss: 1.1361e-04 - acc: 1.0000 - val_loss: 0.3390 - val_acc: 0.9380\n",
      "Epoch 130/150\n",
      " - 0s - loss: 1.0223e-04 - acc: 1.0000 - val_loss: 0.3666 - val_acc: 0.9346\n",
      "Epoch 131/150\n",
      " - 0s - loss: 1.5725e-04 - acc: 1.0000 - val_loss: 0.3432 - val_acc: 0.9384\n",
      "Epoch 132/150\n",
      " - 0s - loss: 7.8703e-05 - acc: 1.0000 - val_loss: 0.3524 - val_acc: 0.9376\n",
      "Epoch 133/150\n",
      " - 0s - loss: 9.5187e-05 - acc: 1.0000 - val_loss: 0.3375 - val_acc: 0.9394\n",
      "Epoch 134/150\n",
      " - 0s - loss: 4.6473e-05 - acc: 1.0000 - val_loss: 0.3509 - val_acc: 0.9386\n",
      "Epoch 135/150\n",
      " - 0s - loss: 6.5657e-05 - acc: 1.0000 - val_loss: 0.3637 - val_acc: 0.9370\n",
      "Epoch 136/150\n",
      " - 0s - loss: 8.7050e-05 - acc: 1.0000 - val_loss: 0.3484 - val_acc: 0.9376\n",
      "Epoch 137/150\n",
      " - 0s - loss: 5.7949e-05 - acc: 1.0000 - val_loss: 0.3379 - val_acc: 0.9406\n",
      "Epoch 138/150\n",
      " - 1s - loss: 9.8338e-05 - acc: 1.0000 - val_loss: 0.3541 - val_acc: 0.9384\n",
      "Epoch 139/150\n",
      " - 1s - loss: 3.5825e-05 - acc: 1.0000 - val_loss: 0.3412 - val_acc: 0.9410\n",
      "Epoch 140/150\n",
      " - 1s - loss: 2.7293e-05 - acc: 1.0000 - val_loss: 0.3607 - val_acc: 0.9392\n",
      "Epoch 141/150\n",
      " - 0s - loss: 6.3879e-05 - acc: 1.0000 - val_loss: 0.3653 - val_acc: 0.9404\n",
      "Epoch 142/150\n",
      " - 1s - loss: 2.1572e-05 - acc: 1.0000 - val_loss: 0.3589 - val_acc: 0.9392\n",
      "Epoch 143/150\n",
      " - 1s - loss: 5.2155e-05 - acc: 1.0000 - val_loss: 0.3562 - val_acc: 0.9418\n",
      "Epoch 144/150\n",
      " - 1s - loss: 2.1878e-05 - acc: 1.0000 - val_loss: 0.3676 - val_acc: 0.9392\n",
      "Epoch 145/150\n",
      " - 0s - loss: 1.9221e-05 - acc: 1.0000 - val_loss: 0.3585 - val_acc: 0.9392\n",
      "Epoch 146/150\n",
      " - 0s - loss: 4.8464e-05 - acc: 1.0000 - val_loss: 0.3858 - val_acc: 0.9340\n",
      "Epoch 147/150\n",
      " - 0s - loss: 2.0251e-05 - acc: 1.0000 - val_loss: 0.3590 - val_acc: 0.9408\n",
      "Epoch 148/150\n",
      " - 1s - loss: 1.5265e-05 - acc: 1.0000 - val_loss: 0.3727 - val_acc: 0.9404\n",
      "Epoch 149/150\n",
      " - 1s - loss: 2.2710e-05 - acc: 1.0000 - val_loss: 0.3674 - val_acc: 0.9406\n",
      "Epoch 150/150\n",
      " - 1s - loss: 3.8886e-05 - acc: 1.0000 - val_loss: 0.3571 - val_acc: 0.9408\n"
     ]
    }
   ],
   "source": [
    "history = cnnmodel.fit(x_train, y_train,\n",
    "                       batch_size=batch_size, \n",
    "                       epochs=3*epochs,\n",
    "                       verbose=2,\n",
    "                       validation_data=(x_test, y_test))"
   ]
  },
  {
   "cell_type": "code",
   "execution_count": 33,
   "metadata": {
    "scrolled": true,
    "slideshow": {
     "slide_type": "subslide"
    }
   },
   "outputs": [
    {
     "data": {
      "image/png": "[encoded data removed]",
      "text/plain": [
       "<Figure size 1080x360 with 2 Axes>"
      ]
     },
     "metadata": {
      "needs_background": "light"
     },
     "output_type": "display_data"
    }
   ],
   "source": [
    "histplot(history)"
   ]
  },
  {
   "cell_type": "markdown",
   "metadata": {
    "slideshow": {
     "slide_type": "slide"
    }
   },
   "source": [
    "## Online data augmentation"
   ]
  },
  {
   "cell_type": "code",
   "execution_count": 34,
   "metadata": {
    "slideshow": {
     "slide_type": "fragment"
    }
   },
   "outputs": [],
   "source": [
    "from tensorflow.keras.preprocessing.image import ImageDataGenerator\n",
    "\n",
    "datagen = ImageDataGenerator(\n",
    "    rotation_range=10,\n",
    "    width_shift_range=0.05,\n",
    "    height_shift_range=0.05,\n",
    "    shear_range=20.0,\n",
    "    zoom_range=0.05)\n",
    "\n",
    "#datagen.fit(x_train)  # only required if normalizing"
   ]
  },
  {
   "cell_type": "code",
   "execution_count": 35,
   "metadata": {
    "slideshow": {
     "slide_type": "subslide"
    }
   },
   "outputs": [],
   "source": [
    "gen = datagen.flow(x_train, y_train, batch_size=1)"
   ]
  },
  {
   "cell_type": "code",
   "execution_count": 36,
   "metadata": {
    "slideshow": {
     "slide_type": "fragment"
    }
   },
   "outputs": [
    {
     "name": "stdout",
     "output_type": "stream",
     "text": [
      "label = 4\n"
     ]
    },
    {
     "data": {
      "image/png": "[encoded data removed]",
      "text/plain": [
       "<Figure size 432x288 with 5 Axes>"
      ]
     },
     "metadata": {
      "needs_background": "light"
     },
     "output_type": "display_data"
    }
   ],
   "source": [
    "# run this several times to see more augmented examples\n",
    "i = 3\n",
    "fig, axarr = plt.subplots(1, 5)\n",
    "for ax in axarr:\n",
    "    img = gen[i][0][0, : , :, 0]\n",
    "    ax.imshow(img, cmap='gray');\n",
    "    ax.axis('off')\n",
    "print('label =', gen[i][1][0].argmax())"
   ]
  },
  {
   "cell_type": "code",
   "execution_count": 37,
   "metadata": {
    "slideshow": {
     "slide_type": "subslide"
    }
   },
   "outputs": [
    {
     "data": {
      "text/plain": [
       "<tensorflow.python.training.checkpointable.util.CheckpointLoadStatus at 0x7ff87091f710>"
      ]
     },
     "execution_count": 37,
     "metadata": {},
     "output_type": "execute_result"
    }
   ],
   "source": [
    "# Reinitialise model\n",
    "cnnmodel.load_weights('/tmp/cnnmodel_init_weights.tf')"
   ]
  },
  {
   "cell_type": "code",
   "execution_count": 38,
   "metadata": {
    "slideshow": {
     "slide_type": "fragment"
    }
   },
   "outputs": [],
   "source": [
    "cnnmodel.compile(loss='categorical_crossentropy',\n",
    "                 optimizer=RMSprop(),\n",
    "                 metrics=['accuracy'])"
   ]
  },
  {
   "cell_type": "code",
   "execution_count": 39,
   "metadata": {
    "slideshow": {
     "slide_type": "subslide"
    }
   },
   "outputs": [
    {
     "name": "stdout",
     "output_type": "stream",
     "text": [
      "Epoch 1/500\n",
      " - 2s - loss: 2.2715 - acc: 0.1618 - val_loss: 2.2166 - val_acc: 0.2282\n",
      "Epoch 2/500\n",
      " - 1s - loss: 2.1789 - acc: 0.3180 - val_loss: 2.0932 - val_acc: 0.3650\n",
      "Epoch 3/500\n",
      " - 1s - loss: 2.0585 - acc: 0.4265 - val_loss: 1.9140 - val_acc: 0.5134\n",
      "Epoch 4/500\n",
      " - 1s - loss: 1.8751 - acc: 0.5399 - val_loss: 1.7001 - val_acc: 0.5750\n",
      "Epoch 5/500\n",
      " - 1s - loss: 1.6891 - acc: 0.5669 - val_loss: 1.4584 - val_acc: 0.6820\n",
      "Epoch 6/500\n",
      " - 1s - loss: 1.4920 - acc: 0.6365 - val_loss: 1.2327 - val_acc: 0.7502\n",
      "Epoch 7/500\n",
      " - 1s - loss: 1.3285 - acc: 0.6578 - val_loss: 1.0462 - val_acc: 0.7714\n",
      "Epoch 8/500\n",
      " - 1s - loss: 1.1600 - acc: 0.7193 - val_loss: 0.8947 - val_acc: 0.8150\n",
      "Epoch 9/500\n",
      " - 1s - loss: 1.0319 - acc: 0.7231 - val_loss: 0.7809 - val_acc: 0.8120\n",
      "Epoch 10/500\n",
      " - 0s - loss: 0.9308 - acc: 0.7238 - val_loss: 0.7019 - val_acc: 0.8204\n",
      "Epoch 11/500\n",
      " - 1s - loss: 0.8650 - acc: 0.7615 - val_loss: 0.6211 - val_acc: 0.8414\n",
      "Epoch 12/500\n",
      " - 1s - loss: 0.8600 - acc: 0.7303 - val_loss: 0.5711 - val_acc: 0.8446\n",
      "Epoch 13/500\n",
      " - 1s - loss: 0.7675 - acc: 0.7648 - val_loss: 0.5299 - val_acc: 0.8550\n",
      "Epoch 14/500\n",
      " - 1s - loss: 0.7455 - acc: 0.7867 - val_loss: 0.4788 - val_acc: 0.8740\n",
      "Epoch 15/500\n",
      " - 1s - loss: 0.6886 - acc: 0.8037 - val_loss: 0.4522 - val_acc: 0.8772\n",
      "Epoch 16/500\n",
      " - 1s - loss: 0.6788 - acc: 0.8065 - val_loss: 0.4344 - val_acc: 0.8778\n",
      "Epoch 17/500\n",
      " - 1s - loss: 0.6435 - acc: 0.8125 - val_loss: 0.4127 - val_acc: 0.8812\n",
      "Epoch 18/500\n",
      " - 1s - loss: 0.6069 - acc: 0.8322 - val_loss: 0.3975 - val_acc: 0.8974\n",
      "Epoch 19/500\n",
      " - 0s - loss: 0.5736 - acc: 0.8262 - val_loss: 0.3774 - val_acc: 0.8936\n",
      "Epoch 20/500\n",
      " - 1s - loss: 0.5391 - acc: 0.8410 - val_loss: 0.3602 - val_acc: 0.8936\n",
      "Epoch 21/500\n",
      " - 1s - loss: 0.5527 - acc: 0.8251 - val_loss: 0.3540 - val_acc: 0.8952\n",
      "Epoch 22/500\n",
      " - 1s - loss: 0.5565 - acc: 0.8327 - val_loss: 0.3298 - val_acc: 0.9072\n",
      "Epoch 23/500\n",
      " - 1s - loss: 0.5201 - acc: 0.8388 - val_loss: 0.3146 - val_acc: 0.9134\n",
      "Epoch 24/500\n",
      " - 1s - loss: 0.5375 - acc: 0.8520 - val_loss: 0.3132 - val_acc: 0.9090\n",
      "Epoch 25/500\n",
      " - 1s - loss: 0.5044 - acc: 0.8591 - val_loss: 0.2994 - val_acc: 0.9180\n",
      "Epoch 26/500\n",
      " - 1s - loss: 0.4759 - acc: 0.8448 - val_loss: 0.2939 - val_acc: 0.9152\n",
      "Epoch 27/500\n",
      " - 1s - loss: 0.4593 - acc: 0.8695 - val_loss: 0.2808 - val_acc: 0.9234\n",
      "Epoch 28/500\n",
      " - 1s - loss: 0.4612 - acc: 0.8509 - val_loss: 0.3127 - val_acc: 0.9068\n",
      "Epoch 29/500\n",
      " - 1s - loss: 0.4607 - acc: 0.8651 - val_loss: 0.2716 - val_acc: 0.9214\n",
      "Epoch 30/500\n",
      " - 1s - loss: 0.4528 - acc: 0.8684 - val_loss: 0.2713 - val_acc: 0.9202\n",
      "Epoch 31/500\n",
      " - 1s - loss: 0.4511 - acc: 0.8618 - val_loss: 0.2621 - val_acc: 0.9228\n",
      "Epoch 32/500\n",
      " - 1s - loss: 0.4118 - acc: 0.8706 - val_loss: 0.2945 - val_acc: 0.9040\n",
      "Epoch 33/500\n",
      " - 1s - loss: 0.3848 - acc: 0.8876 - val_loss: 0.2451 - val_acc: 0.9286\n",
      "Epoch 34/500\n",
      " - 1s - loss: 0.3996 - acc: 0.8870 - val_loss: 0.2561 - val_acc: 0.9184\n",
      "Epoch 35/500\n",
      " - 1s - loss: 0.3983 - acc: 0.8821 - val_loss: 0.2494 - val_acc: 0.9234\n",
      "Epoch 36/500\n",
      " - 1s - loss: 0.3713 - acc: 0.9024 - val_loss: 0.2478 - val_acc: 0.9258\n",
      "Epoch 37/500\n",
      " - 0s - loss: 0.3862 - acc: 0.8832 - val_loss: 0.2389 - val_acc: 0.9346\n",
      "Epoch 38/500\n",
      " - 1s - loss: 0.3751 - acc: 0.8805 - val_loss: 0.2256 - val_acc: 0.9372\n",
      "Epoch 39/500\n",
      " - 1s - loss: 0.3573 - acc: 0.8849 - val_loss: 0.2367 - val_acc: 0.9310\n",
      "Epoch 40/500\n",
      " - 1s - loss: 0.3432 - acc: 0.9063 - val_loss: 0.2175 - val_acc: 0.9370\n",
      "Epoch 41/500\n",
      " - 1s - loss: 0.3606 - acc: 0.9019 - val_loss: 0.2136 - val_acc: 0.9392\n",
      "Epoch 42/500\n",
      " - 1s - loss: 0.3805 - acc: 0.8799 - val_loss: 0.2201 - val_acc: 0.9348\n",
      "Epoch 43/500\n",
      " - 1s - loss: 0.3099 - acc: 0.9107 - val_loss: 0.2293 - val_acc: 0.9332\n",
      "Epoch 44/500\n",
      " - 1s - loss: 0.3183 - acc: 0.9090 - val_loss: 0.2043 - val_acc: 0.9428\n",
      "Epoch 45/500\n",
      " - 1s - loss: 0.3288 - acc: 0.8986 - val_loss: 0.2156 - val_acc: 0.9336\n",
      "Epoch 46/500\n",
      " - 1s - loss: 0.2968 - acc: 0.9150 - val_loss: 0.2048 - val_acc: 0.9380\n",
      "Epoch 47/500\n",
      " - 1s - loss: 0.3271 - acc: 0.9019 - val_loss: 0.2062 - val_acc: 0.9408\n",
      "Epoch 48/500\n",
      " - 1s - loss: 0.3113 - acc: 0.8964 - val_loss: 0.2012 - val_acc: 0.9380\n",
      "Epoch 49/500\n",
      " - 1s - loss: 0.3061 - acc: 0.8969 - val_loss: 0.1985 - val_acc: 0.9420\n",
      "Epoch 50/500\n",
      " - 1s - loss: 0.2923 - acc: 0.9140 - val_loss: 0.2116 - val_acc: 0.9346\n",
      "Epoch 51/500\n",
      " - 1s - loss: 0.3124 - acc: 0.8974 - val_loss: 0.1910 - val_acc: 0.9446\n",
      "Epoch 52/500\n",
      " - 1s - loss: 0.3153 - acc: 0.9019 - val_loss: 0.1910 - val_acc: 0.9374\n",
      "Epoch 53/500\n",
      " - 1s - loss: 0.2819 - acc: 0.9265 - val_loss: 0.2128 - val_acc: 0.9332\n",
      "Epoch 54/500\n",
      " - 1s - loss: 0.2720 - acc: 0.9254 - val_loss: 0.1983 - val_acc: 0.9378\n",
      "Epoch 55/500\n",
      " - 1s - loss: 0.2440 - acc: 0.9276 - val_loss: 0.1910 - val_acc: 0.9394\n",
      "Epoch 56/500\n",
      " - 1s - loss: 0.3184 - acc: 0.9051 - val_loss: 0.1873 - val_acc: 0.9432\n",
      "Epoch 57/500\n",
      " - 1s - loss: 0.2811 - acc: 0.9129 - val_loss: 0.2057 - val_acc: 0.9356\n",
      "Epoch 58/500\n",
      " - 1s - loss: 0.2983 - acc: 0.9106 - val_loss: 0.1889 - val_acc: 0.9444\n",
      "Epoch 59/500\n",
      " - 1s - loss: 0.2494 - acc: 0.9178 - val_loss: 0.1943 - val_acc: 0.9398\n",
      "Epoch 60/500\n",
      " - 1s - loss: 0.2631 - acc: 0.9150 - val_loss: 0.1768 - val_acc: 0.9470\n",
      "Epoch 61/500\n",
      " - 1s - loss: 0.2546 - acc: 0.9244 - val_loss: 0.1919 - val_acc: 0.9434\n",
      "Epoch 62/500\n",
      " - 1s - loss: 0.2409 - acc: 0.9325 - val_loss: 0.1778 - val_acc: 0.9438\n",
      "Epoch 63/500\n",
      " - 1s - loss: 0.2832 - acc: 0.9161 - val_loss: 0.1781 - val_acc: 0.9460\n",
      "Epoch 64/500\n",
      " - 1s - loss: 0.2257 - acc: 0.9326 - val_loss: 0.1861 - val_acc: 0.9402\n",
      "Epoch 65/500\n",
      " - 1s - loss: 0.2247 - acc: 0.9391 - val_loss: 0.1803 - val_acc: 0.9430\n",
      "Epoch 66/500\n",
      " - 1s - loss: 0.2714 - acc: 0.9200 - val_loss: 0.1783 - val_acc: 0.9462\n",
      "Epoch 67/500\n",
      " - 1s - loss: 0.2424 - acc: 0.9255 - val_loss: 0.1708 - val_acc: 0.9476\n",
      "Epoch 68/500\n",
      " - 1s - loss: 0.2457 - acc: 0.9216 - val_loss: 0.1830 - val_acc: 0.9476\n",
      "Epoch 69/500\n",
      " - 1s - loss: 0.2225 - acc: 0.9402 - val_loss: 0.1692 - val_acc: 0.9484\n",
      "Epoch 70/500\n",
      " - 1s - loss: 0.2456 - acc: 0.9254 - val_loss: 0.1693 - val_acc: 0.9506\n",
      "Epoch 71/500\n",
      " - 1s - loss: 0.2310 - acc: 0.9271 - val_loss: 0.1622 - val_acc: 0.9518\n",
      "Epoch 72/500\n",
      " - 1s - loss: 0.2371 - acc: 0.9353 - val_loss: 0.1706 - val_acc: 0.9486\n",
      "Epoch 73/500\n",
      " - 0s - loss: 0.2237 - acc: 0.9381 - val_loss: 0.1642 - val_acc: 0.9516\n",
      "Epoch 74/500\n",
      " - 1s - loss: 0.2474 - acc: 0.9325 - val_loss: 0.1624 - val_acc: 0.9482\n",
      "Epoch 75/500\n",
      " - 1s - loss: 0.2175 - acc: 0.9271 - val_loss: 0.1625 - val_acc: 0.9498\n",
      "Epoch 76/500\n",
      " - 1s - loss: 0.2474 - acc: 0.9326 - val_loss: 0.1802 - val_acc: 0.9456\n",
      "Epoch 77/500\n",
      " - 1s - loss: 0.2121 - acc: 0.9315 - val_loss: 0.1718 - val_acc: 0.9434\n",
      "Epoch 78/500\n",
      " - 1s - loss: 0.2591 - acc: 0.9107 - val_loss: 0.1571 - val_acc: 0.9514\n",
      "Epoch 79/500\n",
      " - 1s - loss: 0.2231 - acc: 0.9271 - val_loss: 0.1635 - val_acc: 0.9480\n",
      "Epoch 80/500\n",
      " - 1s - loss: 0.2269 - acc: 0.9386 - val_loss: 0.1590 - val_acc: 0.9494\n",
      "Epoch 81/500\n",
      " - 1s - loss: 0.2015 - acc: 0.9358 - val_loss: 0.1707 - val_acc: 0.9482\n",
      "Epoch 82/500\n",
      " - 1s - loss: 0.2061 - acc: 0.9402 - val_loss: 0.1558 - val_acc: 0.9504\n",
      "Epoch 83/500\n",
      " - 1s - loss: 0.1866 - acc: 0.9392 - val_loss: 0.1664 - val_acc: 0.9488\n",
      "Epoch 84/500\n",
      " - 1s - loss: 0.2212 - acc: 0.9364 - val_loss: 0.1871 - val_acc: 0.9422\n",
      "Epoch 85/500\n",
      " - 1s - loss: 0.2076 - acc: 0.9331 - val_loss: 0.1607 - val_acc: 0.9524\n",
      "Epoch 86/500\n",
      " - 1s - loss: 0.2198 - acc: 0.9440 - val_loss: 0.1569 - val_acc: 0.9496\n",
      "Epoch 87/500\n",
      " - 1s - loss: 0.2223 - acc: 0.9298 - val_loss: 0.1520 - val_acc: 0.9544\n",
      "Epoch 88/500\n",
      " - 1s - loss: 0.2334 - acc: 0.9249 - val_loss: 0.1676 - val_acc: 0.9474\n",
      "Epoch 89/500\n",
      " - 1s - loss: 0.2351 - acc: 0.9233 - val_loss: 0.1673 - val_acc: 0.9444\n",
      "Epoch 90/500\n",
      " - 1s - loss: 0.2217 - acc: 0.9425 - val_loss: 0.1670 - val_acc: 0.9470\n",
      "Epoch 91/500\n",
      " - 0s - loss: 0.1927 - acc: 0.9479 - val_loss: 0.1464 - val_acc: 0.9556\n",
      "Epoch 92/500\n",
      " - 1s - loss: 0.1926 - acc: 0.9485 - val_loss: 0.1530 - val_acc: 0.9508\n",
      "Epoch 93/500\n",
      " - 1s - loss: 0.1927 - acc: 0.9441 - val_loss: 0.1595 - val_acc: 0.9508\n",
      "Epoch 94/500\n",
      " - 1s - loss: 0.1726 - acc: 0.9506 - val_loss: 0.1718 - val_acc: 0.9464\n",
      "Epoch 95/500\n",
      " - 1s - loss: 0.2197 - acc: 0.9369 - val_loss: 0.1560 - val_acc: 0.9512\n",
      "Epoch 96/500\n",
      " - 1s - loss: 0.2024 - acc: 0.9414 - val_loss: 0.1567 - val_acc: 0.9486\n",
      "Epoch 97/500\n",
      " - 1s - loss: 0.1786 - acc: 0.9386 - val_loss: 0.1903 - val_acc: 0.9380\n"
     ]
    },
    {
     "name": "stdout",
     "output_type": "stream",
     "text": [
      "Epoch 98/500\n",
      " - 1s - loss: 0.2030 - acc: 0.9348 - val_loss: 0.1679 - val_acc: 0.9488\n",
      "Epoch 99/500\n",
      " - 1s - loss: 0.2252 - acc: 0.9271 - val_loss: 0.1476 - val_acc: 0.9514\n",
      "Epoch 100/500\n",
      " - 1s - loss: 0.1901 - acc: 0.9490 - val_loss: 0.1513 - val_acc: 0.9530\n",
      "Epoch 101/500\n",
      " - 1s - loss: 0.1814 - acc: 0.9517 - val_loss: 0.1510 - val_acc: 0.9528\n",
      "Epoch 102/500\n",
      " - 1s - loss: 0.1774 - acc: 0.9562 - val_loss: 0.1416 - val_acc: 0.9552\n",
      "Epoch 103/500\n",
      " - 1s - loss: 0.1646 - acc: 0.9529 - val_loss: 0.1594 - val_acc: 0.9488\n",
      "Epoch 104/500\n",
      " - 1s - loss: 0.1757 - acc: 0.9485 - val_loss: 0.1544 - val_acc: 0.9496\n",
      "Epoch 105/500\n",
      " - 1s - loss: 0.1829 - acc: 0.9403 - val_loss: 0.1507 - val_acc: 0.9518\n",
      "Epoch 106/500\n",
      " - 1s - loss: 0.1759 - acc: 0.9490 - val_loss: 0.1536 - val_acc: 0.9496\n",
      "Epoch 107/500\n",
      " - 1s - loss: 0.1442 - acc: 0.9731 - val_loss: 0.1389 - val_acc: 0.9546\n",
      "Epoch 108/500\n",
      " - 1s - loss: 0.1923 - acc: 0.9446 - val_loss: 0.1497 - val_acc: 0.9494\n",
      "Epoch 109/500\n",
      " - 1s - loss: 0.1755 - acc: 0.9364 - val_loss: 0.1407 - val_acc: 0.9556\n",
      "Epoch 110/500\n",
      " - 1s - loss: 0.1353 - acc: 0.9633 - val_loss: 0.1386 - val_acc: 0.9568\n",
      "Epoch 111/500\n",
      " - 1s - loss: 0.1577 - acc: 0.9496 - val_loss: 0.1494 - val_acc: 0.9526\n",
      "Epoch 112/500\n",
      " - 1s - loss: 0.1537 - acc: 0.9589 - val_loss: 0.1423 - val_acc: 0.9550\n",
      "Epoch 113/500\n",
      " - 1s - loss: 0.1532 - acc: 0.9512 - val_loss: 0.1495 - val_acc: 0.9530\n",
      "Epoch 114/500\n",
      " - 1s - loss: 0.1437 - acc: 0.9583 - val_loss: 0.1421 - val_acc: 0.9566\n",
      "Epoch 115/500\n",
      " - 1s - loss: 0.1943 - acc: 0.9304 - val_loss: 0.1423 - val_acc: 0.9560\n",
      "Epoch 116/500\n",
      " - 1s - loss: 0.1612 - acc: 0.9502 - val_loss: 0.1792 - val_acc: 0.9440\n",
      "Epoch 117/500\n",
      " - 0s - loss: 0.1693 - acc: 0.9474 - val_loss: 0.1406 - val_acc: 0.9556\n",
      "Epoch 118/500\n",
      " - 1s - loss: 0.1869 - acc: 0.9408 - val_loss: 0.1374 - val_acc: 0.9552\n",
      "Epoch 119/500\n",
      " - 1s - loss: 0.1360 - acc: 0.9628 - val_loss: 0.1371 - val_acc: 0.9568\n",
      "Epoch 120/500\n",
      " - 1s - loss: 0.1528 - acc: 0.9524 - val_loss: 0.1439 - val_acc: 0.9550\n",
      "Epoch 121/500\n",
      " - 1s - loss: 0.1365 - acc: 0.9600 - val_loss: 0.1427 - val_acc: 0.9538\n",
      "Epoch 122/500\n",
      " - 1s - loss: 0.1634 - acc: 0.9440 - val_loss: 0.1629 - val_acc: 0.9464\n",
      "Epoch 123/500\n",
      " - 1s - loss: 0.1323 - acc: 0.9649 - val_loss: 0.1581 - val_acc: 0.9494\n",
      "Epoch 124/500\n",
      " - 1s - loss: 0.1893 - acc: 0.9369 - val_loss: 0.1388 - val_acc: 0.9542\n",
      "Epoch 125/500\n",
      " - 1s - loss: 0.1529 - acc: 0.9523 - val_loss: 0.1331 - val_acc: 0.9576\n",
      "Epoch 126/500\n",
      " - 1s - loss: 0.1385 - acc: 0.9621 - val_loss: 0.1308 - val_acc: 0.9566\n",
      "Epoch 127/500\n",
      " - 1s - loss: 0.1334 - acc: 0.9649 - val_loss: 0.1346 - val_acc: 0.9570\n",
      "Epoch 128/500\n",
      " - 1s - loss: 0.1396 - acc: 0.9430 - val_loss: 0.1376 - val_acc: 0.9542\n",
      "Epoch 129/500\n",
      " - 1s - loss: 0.1337 - acc: 0.9550 - val_loss: 0.1467 - val_acc: 0.9542\n",
      "Epoch 130/500\n",
      " - 1s - loss: 0.1144 - acc: 0.9654 - val_loss: 0.1394 - val_acc: 0.9552\n",
      "Epoch 131/500\n",
      " - 1s - loss: 0.1518 - acc: 0.9496 - val_loss: 0.1281 - val_acc: 0.9604\n",
      "Epoch 132/500\n",
      " - 1s - loss: 0.1372 - acc: 0.9545 - val_loss: 0.1447 - val_acc: 0.9526\n",
      "Epoch 133/500\n",
      " - 1s - loss: 0.1498 - acc: 0.9463 - val_loss: 0.1359 - val_acc: 0.9556\n",
      "Epoch 134/500\n",
      " - 1s - loss: 0.1251 - acc: 0.9589 - val_loss: 0.1348 - val_acc: 0.9542\n",
      "Epoch 135/500\n",
      " - 1s - loss: 0.1520 - acc: 0.9562 - val_loss: 0.1294 - val_acc: 0.9606\n",
      "Epoch 136/500\n",
      " - 1s - loss: 0.1603 - acc: 0.9529 - val_loss: 0.1332 - val_acc: 0.9576\n",
      "Epoch 137/500\n",
      " - 1s - loss: 0.1290 - acc: 0.9517 - val_loss: 0.1326 - val_acc: 0.9556\n",
      "Epoch 138/500\n",
      " - 1s - loss: 0.1487 - acc: 0.9534 - val_loss: 0.1575 - val_acc: 0.9518\n",
      "Epoch 139/500\n",
      " - 1s - loss: 0.1338 - acc: 0.9605 - val_loss: 0.1379 - val_acc: 0.9568\n",
      "Epoch 140/500\n",
      " - 1s - loss: 0.1117 - acc: 0.9633 - val_loss: 0.1425 - val_acc: 0.9530\n",
      "Epoch 141/500\n",
      " - 1s - loss: 0.1643 - acc: 0.9556 - val_loss: 0.1386 - val_acc: 0.9564\n",
      "Epoch 142/500\n",
      " - 1s - loss: 0.1325 - acc: 0.9556 - val_loss: 0.1429 - val_acc: 0.9532\n",
      "Epoch 143/500\n",
      " - 1s - loss: 0.1358 - acc: 0.9583 - val_loss: 0.1450 - val_acc: 0.9522\n",
      "Epoch 144/500\n",
      " - 1s - loss: 0.1093 - acc: 0.9682 - val_loss: 0.1426 - val_acc: 0.9546\n",
      "Epoch 145/500\n",
      " - 1s - loss: 0.1529 - acc: 0.9523 - val_loss: 0.1416 - val_acc: 0.9528\n",
      "Epoch 146/500\n",
      " - 1s - loss: 0.1335 - acc: 0.9583 - val_loss: 0.1294 - val_acc: 0.9582\n",
      "Epoch 147/500\n",
      " - 1s - loss: 0.1492 - acc: 0.9556 - val_loss: 0.1372 - val_acc: 0.9546\n",
      "Epoch 148/500\n",
      " - 1s - loss: 0.1342 - acc: 0.9633 - val_loss: 0.1390 - val_acc: 0.9552\n",
      "Epoch 149/500\n",
      " - 1s - loss: 0.1122 - acc: 0.9600 - val_loss: 0.1430 - val_acc: 0.9538\n",
      "Epoch 150/500\n",
      " - 1s - loss: 0.1267 - acc: 0.9628 - val_loss: 0.1324 - val_acc: 0.9570\n",
      "Epoch 151/500\n",
      " - 1s - loss: 0.1732 - acc: 0.9369 - val_loss: 0.1324 - val_acc: 0.9586\n",
      "Epoch 152/500\n",
      " - 0s - loss: 0.1136 - acc: 0.9611 - val_loss: 0.1404 - val_acc: 0.9562\n",
      "Epoch 153/500\n",
      " - 1s - loss: 0.0984 - acc: 0.9699 - val_loss: 0.1565 - val_acc: 0.9508\n",
      "Epoch 154/500\n",
      " - 1s - loss: 0.1445 - acc: 0.9501 - val_loss: 0.1317 - val_acc: 0.9584\n",
      "Epoch 155/500\n",
      " - 1s - loss: 0.0998 - acc: 0.9704 - val_loss: 0.1324 - val_acc: 0.9582\n",
      "Epoch 156/500\n",
      " - 1s - loss: 0.1558 - acc: 0.9485 - val_loss: 0.1475 - val_acc: 0.9514\n",
      "Epoch 157/500\n",
      " - 1s - loss: 0.1425 - acc: 0.9529 - val_loss: 0.1235 - val_acc: 0.9614\n",
      "Epoch 158/500\n",
      " - 1s - loss: 0.1351 - acc: 0.9583 - val_loss: 0.1436 - val_acc: 0.9514\n",
      "Epoch 159/500\n",
      " - 1s - loss: 0.1061 - acc: 0.9650 - val_loss: 0.1463 - val_acc: 0.9542\n",
      "Epoch 160/500\n",
      " - 1s - loss: 0.1521 - acc: 0.9649 - val_loss: 0.1331 - val_acc: 0.9558\n",
      "Epoch 161/500\n",
      " - 0s - loss: 0.1137 - acc: 0.9737 - val_loss: 0.1222 - val_acc: 0.9632\n",
      "Epoch 162/500\n",
      " - 1s - loss: 0.0988 - acc: 0.9726 - val_loss: 0.1375 - val_acc: 0.9540\n",
      "Epoch 163/500\n",
      " - 1s - loss: 0.1038 - acc: 0.9699 - val_loss: 0.1302 - val_acc: 0.9592\n",
      "Epoch 164/500\n",
      " - 1s - loss: 0.1284 - acc: 0.9638 - val_loss: 0.1381 - val_acc: 0.9566\n",
      "Epoch 165/500\n",
      " - 1s - loss: 0.1058 - acc: 0.9687 - val_loss: 0.1227 - val_acc: 0.9600\n",
      "Epoch 166/500\n",
      " - 1s - loss: 0.0949 - acc: 0.9753 - val_loss: 0.1240 - val_acc: 0.9608\n",
      "Epoch 167/500\n",
      " - 1s - loss: 0.1209 - acc: 0.9567 - val_loss: 0.1518 - val_acc: 0.9526\n",
      "Epoch 168/500\n",
      " - 1s - loss: 0.1227 - acc: 0.9633 - val_loss: 0.1360 - val_acc: 0.9562\n",
      "Epoch 169/500\n",
      " - 1s - loss: 0.1236 - acc: 0.9671 - val_loss: 0.1420 - val_acc: 0.9536\n",
      "Epoch 170/500\n",
      " - 1s - loss: 0.1432 - acc: 0.9539 - val_loss: 0.1291 - val_acc: 0.9572\n",
      "Epoch 171/500\n",
      " - 1s - loss: 0.1119 - acc: 0.9605 - val_loss: 0.1250 - val_acc: 0.9610\n",
      "Epoch 172/500\n",
      " - 1s - loss: 0.0887 - acc: 0.9737 - val_loss: 0.1258 - val_acc: 0.9636\n",
      "Epoch 173/500\n",
      " - 1s - loss: 0.1283 - acc: 0.9600 - val_loss: 0.1300 - val_acc: 0.9596\n",
      "Epoch 174/500\n",
      " - 1s - loss: 0.1211 - acc: 0.9583 - val_loss: 0.1292 - val_acc: 0.9606\n",
      "Epoch 175/500\n",
      " - 1s - loss: 0.1081 - acc: 0.9726 - val_loss: 0.1388 - val_acc: 0.9550\n",
      "Epoch 176/500\n",
      " - 1s - loss: 0.1455 - acc: 0.9524 - val_loss: 0.1243 - val_acc: 0.9582\n",
      "Epoch 177/500\n",
      " - 1s - loss: 0.1201 - acc: 0.9628 - val_loss: 0.1291 - val_acc: 0.9586\n",
      "Epoch 178/500\n",
      " - 1s - loss: 0.1040 - acc: 0.9611 - val_loss: 0.1301 - val_acc: 0.9568\n",
      "Epoch 179/500\n",
      " - 1s - loss: 0.1004 - acc: 0.9666 - val_loss: 0.1202 - val_acc: 0.9602\n",
      "Epoch 180/500\n",
      " - 1s - loss: 0.1274 - acc: 0.9600 - val_loss: 0.1194 - val_acc: 0.9622\n",
      "Epoch 181/500\n",
      " - 1s - loss: 0.0975 - acc: 0.9671 - val_loss: 0.1225 - val_acc: 0.9604\n",
      "Epoch 182/500\n",
      " - 1s - loss: 0.1041 - acc: 0.9578 - val_loss: 0.1434 - val_acc: 0.9532\n",
      "Epoch 183/500\n",
      " - 1s - loss: 0.0949 - acc: 0.9699 - val_loss: 0.1295 - val_acc: 0.9588\n",
      "Epoch 184/500\n",
      " - 1s - loss: 0.1099 - acc: 0.9611 - val_loss: 0.1278 - val_acc: 0.9600\n",
      "Epoch 185/500\n",
      " - 1s - loss: 0.0984 - acc: 0.9731 - val_loss: 0.1340 - val_acc: 0.9582\n",
      "Epoch 186/500\n",
      " - 1s - loss: 0.0882 - acc: 0.9644 - val_loss: 0.1289 - val_acc: 0.9610\n",
      "Epoch 187/500\n",
      " - 1s - loss: 0.1128 - acc: 0.9621 - val_loss: 0.1307 - val_acc: 0.9574\n",
      "Epoch 188/500\n",
      " - 1s - loss: 0.1200 - acc: 0.9666 - val_loss: 0.1261 - val_acc: 0.9604\n",
      "Epoch 189/500\n",
      " - 1s - loss: 0.1306 - acc: 0.9600 - val_loss: 0.1321 - val_acc: 0.9570\n",
      "Epoch 190/500\n",
      " - 1s - loss: 0.1055 - acc: 0.9628 - val_loss: 0.1621 - val_acc: 0.9514\n",
      "Epoch 191/500\n",
      " - 1s - loss: 0.1425 - acc: 0.9611 - val_loss: 0.1245 - val_acc: 0.9618\n",
      "Epoch 192/500\n",
      " - 1s - loss: 0.1003 - acc: 0.9687 - val_loss: 0.1348 - val_acc: 0.9542\n",
      "Epoch 193/500\n",
      " - 1s - loss: 0.1106 - acc: 0.9682 - val_loss: 0.1376 - val_acc: 0.9536\n"
     ]
    },
    {
     "name": "stdout",
     "output_type": "stream",
     "text": [
      "Epoch 194/500\n",
      " - 1s - loss: 0.0986 - acc: 0.9649 - val_loss: 0.1303 - val_acc: 0.9604\n",
      "Epoch 195/500\n",
      " - 1s - loss: 0.1268 - acc: 0.9550 - val_loss: 0.1251 - val_acc: 0.9604\n",
      "Epoch 196/500\n",
      " - 1s - loss: 0.0928 - acc: 0.9682 - val_loss: 0.1240 - val_acc: 0.9616\n",
      "Epoch 197/500\n",
      " - 1s - loss: 0.1158 - acc: 0.9556 - val_loss: 0.1270 - val_acc: 0.9588\n",
      "Epoch 198/500\n",
      " - 1s - loss: 0.0959 - acc: 0.9720 - val_loss: 0.1300 - val_acc: 0.9594\n",
      "Epoch 199/500\n",
      " - 1s - loss: 0.0925 - acc: 0.9748 - val_loss: 0.1330 - val_acc: 0.9574\n",
      "Epoch 200/500\n",
      " - 1s - loss: 0.0964 - acc: 0.9737 - val_loss: 0.1309 - val_acc: 0.9592\n",
      "Epoch 201/500\n",
      " - 1s - loss: 0.0920 - acc: 0.9660 - val_loss: 0.1297 - val_acc: 0.9592\n",
      "Epoch 202/500\n",
      " - 1s - loss: 0.0894 - acc: 0.9644 - val_loss: 0.1276 - val_acc: 0.9606\n",
      "Epoch 203/500\n",
      " - 1s - loss: 0.1284 - acc: 0.9567 - val_loss: 0.1292 - val_acc: 0.9596\n",
      "Epoch 204/500\n",
      " - 1s - loss: 0.0851 - acc: 0.9682 - val_loss: 0.1162 - val_acc: 0.9626\n",
      "Epoch 205/500\n",
      " - 1s - loss: 0.1079 - acc: 0.9699 - val_loss: 0.1162 - val_acc: 0.9638\n",
      "Epoch 206/500\n",
      " - 0s - loss: 0.1008 - acc: 0.9677 - val_loss: 0.1455 - val_acc: 0.9536\n",
      "Epoch 207/500\n",
      " - 0s - loss: 0.1242 - acc: 0.9578 - val_loss: 0.1250 - val_acc: 0.9598\n",
      "Epoch 208/500\n",
      " - 1s - loss: 0.1192 - acc: 0.9605 - val_loss: 0.1333 - val_acc: 0.9576\n",
      "Epoch 209/500\n",
      " - 1s - loss: 0.1052 - acc: 0.9666 - val_loss: 0.1450 - val_acc: 0.9548\n",
      "Epoch 210/500\n",
      " - 1s - loss: 0.0971 - acc: 0.9654 - val_loss: 0.1301 - val_acc: 0.9570\n",
      "Epoch 211/500\n",
      " - 1s - loss: 0.0735 - acc: 0.9753 - val_loss: 0.1512 - val_acc: 0.9504\n",
      "Epoch 212/500\n",
      " - 1s - loss: 0.0830 - acc: 0.9770 - val_loss: 0.1282 - val_acc: 0.9578\n",
      "Epoch 213/500\n",
      " - 1s - loss: 0.0864 - acc: 0.9687 - val_loss: 0.1313 - val_acc: 0.9570\n",
      "Epoch 214/500\n",
      " - 1s - loss: 0.0821 - acc: 0.9764 - val_loss: 0.1299 - val_acc: 0.9574\n",
      "Epoch 215/500\n",
      " - 1s - loss: 0.1077 - acc: 0.9616 - val_loss: 0.1194 - val_acc: 0.9606\n",
      "Epoch 216/500\n",
      " - 1s - loss: 0.1339 - acc: 0.9699 - val_loss: 0.1271 - val_acc: 0.9586\n",
      "Epoch 217/500\n",
      " - 1s - loss: 0.0960 - acc: 0.9628 - val_loss: 0.1264 - val_acc: 0.9600\n",
      "Epoch 218/500\n",
      " - 1s - loss: 0.0962 - acc: 0.9715 - val_loss: 0.1452 - val_acc: 0.9532\n",
      "Epoch 219/500\n",
      " - 1s - loss: 0.0902 - acc: 0.9715 - val_loss: 0.1387 - val_acc: 0.9572\n",
      "Epoch 220/500\n",
      " - 1s - loss: 0.0761 - acc: 0.9715 - val_loss: 0.1153 - val_acc: 0.9636\n",
      "Epoch 221/500\n",
      " - 1s - loss: 0.0920 - acc: 0.9737 - val_loss: 0.1279 - val_acc: 0.9588\n",
      "Epoch 222/500\n",
      " - 1s - loss: 0.0898 - acc: 0.9731 - val_loss: 0.1254 - val_acc: 0.9602\n",
      "Epoch 223/500\n",
      " - 1s - loss: 0.0663 - acc: 0.9737 - val_loss: 0.1224 - val_acc: 0.9618\n",
      "Epoch 224/500\n",
      " - 1s - loss: 0.0750 - acc: 0.9699 - val_loss: 0.1254 - val_acc: 0.9604\n",
      "Epoch 225/500\n",
      " - 0s - loss: 0.1243 - acc: 0.9737 - val_loss: 0.1138 - val_acc: 0.9630\n",
      "Epoch 226/500\n",
      " - 1s - loss: 0.0535 - acc: 0.9852 - val_loss: 0.1248 - val_acc: 0.9616\n",
      "Epoch 227/500\n",
      " - 1s - loss: 0.0781 - acc: 0.9753 - val_loss: 0.1192 - val_acc: 0.9600\n",
      "Epoch 228/500\n",
      " - 1s - loss: 0.0753 - acc: 0.9737 - val_loss: 0.1347 - val_acc: 0.9596\n",
      "Epoch 229/500\n",
      " - 1s - loss: 0.0808 - acc: 0.9737 - val_loss: 0.1279 - val_acc: 0.9612\n",
      "Epoch 230/500\n",
      " - 1s - loss: 0.0634 - acc: 0.9803 - val_loss: 0.1394 - val_acc: 0.9562\n",
      "Epoch 231/500\n",
      " - 1s - loss: 0.0741 - acc: 0.9726 - val_loss: 0.1270 - val_acc: 0.9608\n",
      "Epoch 232/500\n",
      " - 1s - loss: 0.1020 - acc: 0.9803 - val_loss: 0.1244 - val_acc: 0.9582\n",
      "Epoch 233/500\n",
      " - 1s - loss: 0.0885 - acc: 0.9699 - val_loss: 0.1271 - val_acc: 0.9586\n",
      "Epoch 234/500\n",
      " - 1s - loss: 0.0934 - acc: 0.9666 - val_loss: 0.1261 - val_acc: 0.9614\n",
      "Epoch 235/500\n",
      " - 1s - loss: 0.0982 - acc: 0.9704 - val_loss: 0.1237 - val_acc: 0.9628\n",
      "Epoch 236/500\n",
      " - 1s - loss: 0.0842 - acc: 0.9671 - val_loss: 0.1237 - val_acc: 0.9612\n",
      "Epoch 237/500\n",
      " - 1s - loss: 0.0861 - acc: 0.9720 - val_loss: 0.1275 - val_acc: 0.9602\n",
      "Epoch 238/500\n",
      " - 1s - loss: 0.0806 - acc: 0.9721 - val_loss: 0.1376 - val_acc: 0.9570\n",
      "Epoch 239/500\n",
      " - 1s - loss: 0.0966 - acc: 0.9693 - val_loss: 0.1195 - val_acc: 0.9626\n",
      "Epoch 240/500\n",
      " - 0s - loss: 0.0977 - acc: 0.9638 - val_loss: 0.1242 - val_acc: 0.9616\n",
      "Epoch 241/500\n",
      " - 1s - loss: 0.0615 - acc: 0.9786 - val_loss: 0.1210 - val_acc: 0.9638\n",
      "Epoch 242/500\n",
      " - 1s - loss: 0.0698 - acc: 0.9781 - val_loss: 0.1150 - val_acc: 0.9644\n",
      "Epoch 243/500\n",
      " - 0s - loss: 0.0856 - acc: 0.9737 - val_loss: 0.1251 - val_acc: 0.9606\n",
      "Epoch 244/500\n",
      " - 0s - loss: 0.0739 - acc: 0.9753 - val_loss: 0.1132 - val_acc: 0.9644\n",
      "Epoch 245/500\n",
      " - 0s - loss: 0.1249 - acc: 0.9628 - val_loss: 0.1164 - val_acc: 0.9656\n",
      "Epoch 246/500\n",
      " - 1s - loss: 0.1193 - acc: 0.9682 - val_loss: 0.1356 - val_acc: 0.9570\n",
      "Epoch 247/500\n",
      " - 1s - loss: 0.0648 - acc: 0.9819 - val_loss: 0.1157 - val_acc: 0.9634\n",
      "Epoch 248/500\n",
      " - 1s - loss: 0.0637 - acc: 0.9764 - val_loss: 0.1233 - val_acc: 0.9634\n",
      "Epoch 249/500\n",
      " - 1s - loss: 0.0771 - acc: 0.9731 - val_loss: 0.1189 - val_acc: 0.9636\n",
      "Epoch 250/500\n",
      " - 1s - loss: 0.0872 - acc: 0.9781 - val_loss: 0.1220 - val_acc: 0.9644\n",
      "Epoch 251/500\n",
      " - 1s - loss: 0.0802 - acc: 0.9704 - val_loss: 0.1225 - val_acc: 0.9618\n",
      "Epoch 252/500\n",
      " - 1s - loss: 0.0566 - acc: 0.9835 - val_loss: 0.1247 - val_acc: 0.9616\n",
      "Epoch 253/500\n",
      " - 1s - loss: 0.0674 - acc: 0.9770 - val_loss: 0.1325 - val_acc: 0.9568\n",
      "Epoch 254/500\n",
      " - 1s - loss: 0.0696 - acc: 0.9753 - val_loss: 0.1221 - val_acc: 0.9628\n",
      "Epoch 255/500\n",
      " - 1s - loss: 0.1113 - acc: 0.9688 - val_loss: 0.1179 - val_acc: 0.9644\n",
      "Epoch 256/500\n",
      " - 1s - loss: 0.0737 - acc: 0.9753 - val_loss: 0.1408 - val_acc: 0.9558\n",
      "Epoch 257/500\n",
      " - 1s - loss: 0.0860 - acc: 0.9644 - val_loss: 0.1287 - val_acc: 0.9616\n",
      "Epoch 258/500\n",
      " - 1s - loss: 0.0990 - acc: 0.9682 - val_loss: 0.1215 - val_acc: 0.9634\n",
      "Epoch 259/500\n",
      " - 1s - loss: 0.0709 - acc: 0.9770 - val_loss: 0.1405 - val_acc: 0.9544\n",
      "Epoch 260/500\n",
      " - 1s - loss: 0.1181 - acc: 0.9699 - val_loss: 0.1302 - val_acc: 0.9588\n",
      "Epoch 261/500\n",
      " - 1s - loss: 0.0883 - acc: 0.9743 - val_loss: 0.1226 - val_acc: 0.9642\n",
      "Epoch 262/500\n",
      " - 1s - loss: 0.0842 - acc: 0.9731 - val_loss: 0.1176 - val_acc: 0.9642\n",
      "Epoch 263/500\n",
      " - 1s - loss: 0.0818 - acc: 0.9753 - val_loss: 0.1400 - val_acc: 0.9570\n",
      "Epoch 264/500\n",
      " - 1s - loss: 0.0528 - acc: 0.9809 - val_loss: 0.1343 - val_acc: 0.9576\n",
      "Epoch 265/500\n",
      " - 1s - loss: 0.0824 - acc: 0.9748 - val_loss: 0.1178 - val_acc: 0.9644\n",
      "Epoch 266/500\n",
      " - 1s - loss: 0.1025 - acc: 0.9699 - val_loss: 0.1200 - val_acc: 0.9622\n",
      "Epoch 267/500\n",
      " - 1s - loss: 0.0885 - acc: 0.9715 - val_loss: 0.1239 - val_acc: 0.9628\n",
      "Epoch 268/500\n",
      " - 1s - loss: 0.0508 - acc: 0.9868 - val_loss: 0.1233 - val_acc: 0.9640\n",
      "Epoch 269/500\n",
      " - 1s - loss: 0.0721 - acc: 0.9814 - val_loss: 0.1136 - val_acc: 0.9640\n",
      "Epoch 270/500\n",
      " - 1s - loss: 0.0717 - acc: 0.9835 - val_loss: 0.1233 - val_acc: 0.9630\n",
      "Epoch 271/500\n",
      " - 1s - loss: 0.0665 - acc: 0.9786 - val_loss: 0.1194 - val_acc: 0.9618\n",
      "Epoch 272/500\n",
      " - 1s - loss: 0.0797 - acc: 0.9720 - val_loss: 0.1271 - val_acc: 0.9618\n",
      "Epoch 273/500\n",
      " - 1s - loss: 0.0705 - acc: 0.9770 - val_loss: 0.1287 - val_acc: 0.9604\n",
      "Epoch 274/500\n",
      " - 1s - loss: 0.0758 - acc: 0.9693 - val_loss: 0.1289 - val_acc: 0.9592\n",
      "Epoch 275/500\n",
      " - 1s - loss: 0.0617 - acc: 0.9819 - val_loss: 0.1171 - val_acc: 0.9650\n",
      "Epoch 276/500\n",
      " - 1s - loss: 0.0781 - acc: 0.9704 - val_loss: 0.1290 - val_acc: 0.9608\n",
      "Epoch 277/500\n",
      " - 1s - loss: 0.0551 - acc: 0.9770 - val_loss: 0.1368 - val_acc: 0.9610\n",
      "Epoch 278/500\n",
      " - 1s - loss: 0.0922 - acc: 0.9737 - val_loss: 0.1318 - val_acc: 0.9594\n",
      "Epoch 279/500\n",
      " - 1s - loss: 0.0648 - acc: 0.9803 - val_loss: 0.1213 - val_acc: 0.9646\n",
      "Epoch 280/500\n",
      " - 1s - loss: 0.0592 - acc: 0.9803 - val_loss: 0.1201 - val_acc: 0.9646\n",
      "Epoch 281/500\n",
      " - 1s - loss: 0.0569 - acc: 0.9759 - val_loss: 0.1441 - val_acc: 0.9556\n",
      "Epoch 282/500\n",
      " - 1s - loss: 0.0734 - acc: 0.9781 - val_loss: 0.1140 - val_acc: 0.9656\n",
      "Epoch 283/500\n",
      " - 1s - loss: 0.0940 - acc: 0.9715 - val_loss: 0.1210 - val_acc: 0.9638\n",
      "Epoch 284/500\n",
      " - 1s - loss: 0.0786 - acc: 0.9682 - val_loss: 0.1169 - val_acc: 0.9642\n",
      "Epoch 285/500\n",
      " - 1s - loss: 0.0579 - acc: 0.9819 - val_loss: 0.1344 - val_acc: 0.9588\n",
      "Epoch 286/500\n",
      " - 1s - loss: 0.0831 - acc: 0.9770 - val_loss: 0.1208 - val_acc: 0.9654\n",
      "Epoch 287/500\n",
      " - 1s - loss: 0.0628 - acc: 0.9852 - val_loss: 0.1283 - val_acc: 0.9610\n",
      "Epoch 288/500\n",
      " - 1s - loss: 0.0472 - acc: 0.9896 - val_loss: 0.1253 - val_acc: 0.9630\n",
      "Epoch 289/500\n",
      " - 1s - loss: 0.0654 - acc: 0.9803 - val_loss: 0.1248 - val_acc: 0.9620\n"
     ]
    },
    {
     "name": "stdout",
     "output_type": "stream",
     "text": [
      "Epoch 290/500\n",
      " - 1s - loss: 0.0829 - acc: 0.9666 - val_loss: 0.1321 - val_acc: 0.9596\n",
      "Epoch 291/500\n",
      " - 1s - loss: 0.0706 - acc: 0.9803 - val_loss: 0.1290 - val_acc: 0.9636\n",
      "Epoch 292/500\n",
      " - 1s - loss: 0.0731 - acc: 0.9835 - val_loss: 0.1147 - val_acc: 0.9674\n",
      "Epoch 293/500\n",
      " - 1s - loss: 0.0712 - acc: 0.9814 - val_loss: 0.1226 - val_acc: 0.9638\n",
      "Epoch 294/500\n",
      " - 1s - loss: 0.0732 - acc: 0.9748 - val_loss: 0.1235 - val_acc: 0.9646\n",
      "Epoch 295/500\n",
      " - 1s - loss: 0.0652 - acc: 0.9786 - val_loss: 0.1132 - val_acc: 0.9650\n",
      "Epoch 296/500\n",
      " - 1s - loss: 0.0856 - acc: 0.9720 - val_loss: 0.1189 - val_acc: 0.9652\n",
      "Epoch 297/500\n",
      " - 1s - loss: 0.0790 - acc: 0.9731 - val_loss: 0.1146 - val_acc: 0.9656\n",
      "Epoch 298/500\n",
      " - 1s - loss: 0.0558 - acc: 0.9803 - val_loss: 0.1073 - val_acc: 0.9676\n",
      "Epoch 299/500\n",
      " - 1s - loss: 0.0863 - acc: 0.9764 - val_loss: 0.1151 - val_acc: 0.9664\n",
      "Epoch 300/500\n",
      " - 1s - loss: 0.0620 - acc: 0.9863 - val_loss: 0.1467 - val_acc: 0.9578\n",
      "Epoch 301/500\n",
      " - 1s - loss: 0.0819 - acc: 0.9720 - val_loss: 0.1187 - val_acc: 0.9634\n",
      "Epoch 302/500\n",
      " - 1s - loss: 0.0630 - acc: 0.9819 - val_loss: 0.1087 - val_acc: 0.9688\n",
      "Epoch 303/500\n",
      " - 1s - loss: 0.0723 - acc: 0.9803 - val_loss: 0.1189 - val_acc: 0.9646\n",
      "Epoch 304/500\n",
      " - 1s - loss: 0.0629 - acc: 0.9835 - val_loss: 0.1196 - val_acc: 0.9642\n",
      "Epoch 305/500\n",
      " - 1s - loss: 0.0524 - acc: 0.9803 - val_loss: 0.1302 - val_acc: 0.9646\n",
      "Epoch 306/500\n",
      " - 1s - loss: 0.0514 - acc: 0.9885 - val_loss: 0.1143 - val_acc: 0.9660\n",
      "Epoch 307/500\n",
      " - 1s - loss: 0.0632 - acc: 0.9786 - val_loss: 0.1174 - val_acc: 0.9668\n",
      "Epoch 308/500\n",
      " - 1s - loss: 0.0589 - acc: 0.9786 - val_loss: 0.1142 - val_acc: 0.9658\n",
      "Epoch 309/500\n",
      " - 1s - loss: 0.0804 - acc: 0.9748 - val_loss: 0.1124 - val_acc: 0.9664\n",
      "Epoch 310/500\n",
      " - 1s - loss: 0.0585 - acc: 0.9786 - val_loss: 0.1297 - val_acc: 0.9612\n",
      "Epoch 311/500\n",
      " - 1s - loss: 0.0505 - acc: 0.9814 - val_loss: 0.1353 - val_acc: 0.9608\n",
      "Epoch 312/500\n",
      " - 1s - loss: 0.0733 - acc: 0.9671 - val_loss: 0.1099 - val_acc: 0.9654\n",
      "Epoch 313/500\n",
      " - 1s - loss: 0.0920 - acc: 0.9654 - val_loss: 0.1111 - val_acc: 0.9660\n",
      "Epoch 314/500\n",
      " - 1s - loss: 0.0618 - acc: 0.9770 - val_loss: 0.1317 - val_acc: 0.9626\n",
      "Epoch 315/500\n",
      " - 1s - loss: 0.0717 - acc: 0.9748 - val_loss: 0.1180 - val_acc: 0.9636\n",
      "Epoch 316/500\n",
      " - 1s - loss: 0.0482 - acc: 0.9835 - val_loss: 0.1160 - val_acc: 0.9664\n",
      "Epoch 317/500\n",
      " - 1s - loss: 0.0440 - acc: 0.9863 - val_loss: 0.1138 - val_acc: 0.9658\n",
      "Epoch 318/500\n",
      " - 1s - loss: 0.0713 - acc: 0.9814 - val_loss: 0.1173 - val_acc: 0.9642\n",
      "Epoch 319/500\n",
      " - 1s - loss: 0.0682 - acc: 0.9819 - val_loss: 0.1249 - val_acc: 0.9638\n",
      "Epoch 320/500\n",
      " - 1s - loss: 0.0593 - acc: 0.9868 - val_loss: 0.1128 - val_acc: 0.9670\n",
      "Epoch 321/500\n",
      " - 1s - loss: 0.0828 - acc: 0.9704 - val_loss: 0.1374 - val_acc: 0.9604\n",
      "Epoch 322/500\n",
      " - 1s - loss: 0.0572 - acc: 0.9885 - val_loss: 0.1239 - val_acc: 0.9632\n",
      "Epoch 323/500\n",
      " - 1s - loss: 0.0877 - acc: 0.9699 - val_loss: 0.1203 - val_acc: 0.9654\n",
      "Epoch 324/500\n",
      " - 1s - loss: 0.0557 - acc: 0.9753 - val_loss: 0.1164 - val_acc: 0.9670\n",
      "Epoch 325/500\n",
      " - 1s - loss: 0.0520 - acc: 0.9786 - val_loss: 0.1162 - val_acc: 0.9658\n",
      "Epoch 326/500\n",
      " - 1s - loss: 0.0750 - acc: 0.9764 - val_loss: 0.1117 - val_acc: 0.9688\n",
      "Epoch 327/500\n",
      " - 1s - loss: 0.0534 - acc: 0.9852 - val_loss: 0.1166 - val_acc: 0.9664\n",
      "Epoch 328/500\n",
      " - 1s - loss: 0.0796 - acc: 0.9776 - val_loss: 0.1142 - val_acc: 0.9654\n",
      "Epoch 329/500\n",
      " - 1s - loss: 0.0528 - acc: 0.9830 - val_loss: 0.1306 - val_acc: 0.9640\n",
      "Epoch 330/500\n",
      " - 1s - loss: 0.0789 - acc: 0.9699 - val_loss: 0.1226 - val_acc: 0.9646\n",
      "Epoch 331/500\n",
      " - 1s - loss: 0.0974 - acc: 0.9699 - val_loss: 0.1206 - val_acc: 0.9636\n",
      "Epoch 332/500\n",
      " - 1s - loss: 0.0527 - acc: 0.9825 - val_loss: 0.1224 - val_acc: 0.9644\n",
      "Epoch 333/500\n",
      " - 1s - loss: 0.0637 - acc: 0.9781 - val_loss: 0.1161 - val_acc: 0.9658\n",
      "Epoch 334/500\n",
      " - 1s - loss: 0.0572 - acc: 0.9835 - val_loss: 0.1168 - val_acc: 0.9658\n",
      "Epoch 335/500\n",
      " - 1s - loss: 0.0463 - acc: 0.9885 - val_loss: 0.1221 - val_acc: 0.9648\n",
      "Epoch 336/500\n",
      " - 1s - loss: 0.0636 - acc: 0.9847 - val_loss: 0.1183 - val_acc: 0.9650\n",
      "Epoch 337/500\n",
      " - 1s - loss: 0.0669 - acc: 0.9770 - val_loss: 0.1181 - val_acc: 0.9662\n",
      "Epoch 338/500\n",
      " - 1s - loss: 0.0402 - acc: 0.9852 - val_loss: 0.1151 - val_acc: 0.9672\n",
      "Epoch 339/500\n",
      " - 1s - loss: 0.0670 - acc: 0.9748 - val_loss: 0.1125 - val_acc: 0.9652\n",
      "Epoch 340/500\n",
      " - 1s - loss: 0.0579 - acc: 0.9764 - val_loss: 0.1215 - val_acc: 0.9662\n",
      "Epoch 341/500\n",
      " - 1s - loss: 0.0649 - acc: 0.9781 - val_loss: 0.1161 - val_acc: 0.9664\n",
      "Epoch 342/500\n",
      " - 1s - loss: 0.0476 - acc: 0.9852 - val_loss: 0.1126 - val_acc: 0.9660\n",
      "Epoch 343/500\n",
      " - 1s - loss: 0.0587 - acc: 0.9781 - val_loss: 0.1209 - val_acc: 0.9660\n",
      "Epoch 344/500\n",
      " - 1s - loss: 0.0776 - acc: 0.9759 - val_loss: 0.1257 - val_acc: 0.9624\n",
      "Epoch 345/500\n",
      " - 1s - loss: 0.0675 - acc: 0.9835 - val_loss: 0.1112 - val_acc: 0.9654\n",
      "Epoch 346/500\n",
      " - 1s - loss: 0.0504 - acc: 0.9841 - val_loss: 0.1131 - val_acc: 0.9666\n",
      "Epoch 347/500\n",
      " - 0s - loss: 0.0513 - acc: 0.9835 - val_loss: 0.1199 - val_acc: 0.9626\n",
      "Epoch 348/500\n",
      " - 1s - loss: 0.0370 - acc: 0.9852 - val_loss: 0.1134 - val_acc: 0.9670\n",
      "Epoch 349/500\n",
      " - 1s - loss: 0.0383 - acc: 0.9901 - val_loss: 0.1231 - val_acc: 0.9636\n",
      "Epoch 350/500\n",
      " - 1s - loss: 0.0851 - acc: 0.9754 - val_loss: 0.1208 - val_acc: 0.9666\n",
      "Epoch 351/500\n",
      " - 1s - loss: 0.0703 - acc: 0.9753 - val_loss: 0.1254 - val_acc: 0.9634\n",
      "Epoch 352/500\n",
      " - 1s - loss: 0.0626 - acc: 0.9737 - val_loss: 0.1252 - val_acc: 0.9612\n",
      "Epoch 353/500\n",
      " - 1s - loss: 0.1024 - acc: 0.9704 - val_loss: 0.1199 - val_acc: 0.9680\n",
      "Epoch 354/500\n",
      " - 1s - loss: 0.0687 - acc: 0.9792 - val_loss: 0.1176 - val_acc: 0.9662\n",
      "Epoch 355/500\n",
      " - 1s - loss: 0.0431 - acc: 0.9885 - val_loss: 0.1194 - val_acc: 0.9668\n",
      "Epoch 356/500\n",
      " - 1s - loss: 0.0662 - acc: 0.9737 - val_loss: 0.1275 - val_acc: 0.9636\n",
      "Epoch 357/500\n",
      " - 1s - loss: 0.0525 - acc: 0.9825 - val_loss: 0.1282 - val_acc: 0.9620\n",
      "Epoch 358/500\n",
      " - 1s - loss: 0.0554 - acc: 0.9852 - val_loss: 0.1206 - val_acc: 0.9646\n",
      "Epoch 359/500\n",
      " - 1s - loss: 0.0425 - acc: 0.9885 - val_loss: 0.1204 - val_acc: 0.9662\n",
      "Epoch 360/500\n",
      " - 1s - loss: 0.0658 - acc: 0.9803 - val_loss: 0.1173 - val_acc: 0.9678\n",
      "Epoch 361/500\n",
      " - 1s - loss: 0.0567 - acc: 0.9835 - val_loss: 0.1299 - val_acc: 0.9616\n",
      "Epoch 362/500\n",
      " - 1s - loss: 0.0358 - acc: 0.9918 - val_loss: 0.1313 - val_acc: 0.9626\n",
      "Epoch 363/500\n",
      " - 1s - loss: 0.0669 - acc: 0.9770 - val_loss: 0.1264 - val_acc: 0.9636\n",
      "Epoch 364/500\n",
      " - 0s - loss: 0.0632 - acc: 0.9737 - val_loss: 0.1302 - val_acc: 0.9626\n",
      "Epoch 365/500\n",
      " - 1s - loss: 0.0469 - acc: 0.9797 - val_loss: 0.1169 - val_acc: 0.9668\n",
      "Epoch 366/500\n",
      " - 1s - loss: 0.0536 - acc: 0.9803 - val_loss: 0.1207 - val_acc: 0.9652\n",
      "Epoch 367/500\n",
      " - 1s - loss: 0.0605 - acc: 0.9770 - val_loss: 0.1137 - val_acc: 0.9658\n",
      "Epoch 368/500\n",
      " - 1s - loss: 0.0594 - acc: 0.9748 - val_loss: 0.1365 - val_acc: 0.9608\n",
      "Epoch 369/500\n",
      " - 1s - loss: 0.0785 - acc: 0.9781 - val_loss: 0.1221 - val_acc: 0.9650\n",
      "Epoch 370/500\n",
      " - 1s - loss: 0.0476 - acc: 0.9835 - val_loss: 0.1274 - val_acc: 0.9658\n",
      "Epoch 371/500\n",
      " - 1s - loss: 0.0506 - acc: 0.9896 - val_loss: 0.1243 - val_acc: 0.9652\n",
      "Epoch 372/500\n",
      " - 1s - loss: 0.0541 - acc: 0.9835 - val_loss: 0.1283 - val_acc: 0.9614\n",
      "Epoch 373/500\n",
      " - 1s - loss: 0.0483 - acc: 0.9852 - val_loss: 0.1207 - val_acc: 0.9646\n",
      "Epoch 374/500\n",
      " - 1s - loss: 0.0512 - acc: 0.9803 - val_loss: 0.1322 - val_acc: 0.9600\n",
      "Epoch 375/500\n",
      " - 1s - loss: 0.0696 - acc: 0.9786 - val_loss: 0.1298 - val_acc: 0.9640\n",
      "Epoch 376/500\n",
      " - 1s - loss: 0.0277 - acc: 0.9951 - val_loss: 0.1128 - val_acc: 0.9664\n",
      "Epoch 377/500\n",
      " - 1s - loss: 0.0400 - acc: 0.9918 - val_loss: 0.1214 - val_acc: 0.9646\n",
      "Epoch 378/500\n",
      " - 1s - loss: 0.0636 - acc: 0.9803 - val_loss: 0.1129 - val_acc: 0.9682\n",
      "Epoch 379/500\n",
      " - 1s - loss: 0.0479 - acc: 0.9852 - val_loss: 0.1195 - val_acc: 0.9654\n",
      "Epoch 380/500\n",
      " - 1s - loss: 0.0454 - acc: 0.9819 - val_loss: 0.1113 - val_acc: 0.9678\n",
      "Epoch 381/500\n",
      " - 1s - loss: 0.0199 - acc: 0.9984 - val_loss: 0.1148 - val_acc: 0.9692\n",
      "Epoch 382/500\n",
      " - 1s - loss: 0.0348 - acc: 0.9880 - val_loss: 0.1166 - val_acc: 0.9662\n",
      "Epoch 383/500\n",
      " - 1s - loss: 0.0557 - acc: 0.9885 - val_loss: 0.1184 - val_acc: 0.9658\n",
      "Epoch 384/500\n",
      " - 1s - loss: 0.0609 - acc: 0.9803 - val_loss: 0.1351 - val_acc: 0.9628\n",
      "Epoch 385/500\n",
      " - 1s - loss: 0.0315 - acc: 0.9934 - val_loss: 0.1207 - val_acc: 0.9652\n"
     ]
    },
    {
     "name": "stdout",
     "output_type": "stream",
     "text": [
      "Epoch 386/500\n",
      " - 1s - loss: 0.0417 - acc: 0.9901 - val_loss: 0.1154 - val_acc: 0.9662\n",
      "Epoch 387/500\n",
      " - 1s - loss: 0.0596 - acc: 0.9830 - val_loss: 0.1149 - val_acc: 0.9680\n",
      "Epoch 388/500\n",
      " - 1s - loss: 0.0508 - acc: 0.9803 - val_loss: 0.1077 - val_acc: 0.9676\n",
      "Epoch 389/500\n",
      " - 1s - loss: 0.0436 - acc: 0.9901 - val_loss: 0.1359 - val_acc: 0.9584\n",
      "Epoch 390/500\n",
      " - 1s - loss: 0.0585 - acc: 0.9786 - val_loss: 0.1644 - val_acc: 0.9524\n",
      "Epoch 391/500\n",
      " - 1s - loss: 0.0279 - acc: 0.9918 - val_loss: 0.1192 - val_acc: 0.9674\n",
      "Epoch 392/500\n",
      " - 1s - loss: 0.0497 - acc: 0.9841 - val_loss: 0.1143 - val_acc: 0.9652\n",
      "Epoch 393/500\n",
      " - 1s - loss: 0.0549 - acc: 0.9786 - val_loss: 0.1251 - val_acc: 0.9636\n",
      "Epoch 394/500\n",
      " - 1s - loss: 0.0432 - acc: 0.9852 - val_loss: 0.1236 - val_acc: 0.9652\n",
      "Epoch 395/500\n",
      " - 1s - loss: 0.0575 - acc: 0.9748 - val_loss: 0.1264 - val_acc: 0.9634\n",
      "Epoch 396/500\n",
      " - 1s - loss: 0.0501 - acc: 0.9835 - val_loss: 0.1150 - val_acc: 0.9660\n",
      "Epoch 397/500\n",
      " - 1s - loss: 0.0310 - acc: 0.9918 - val_loss: 0.1321 - val_acc: 0.9642\n",
      "Epoch 398/500\n",
      " - 1s - loss: 0.0428 - acc: 0.9868 - val_loss: 0.1346 - val_acc: 0.9620\n",
      "Epoch 399/500\n",
      " - 1s - loss: 0.0510 - acc: 0.9797 - val_loss: 0.1147 - val_acc: 0.9662\n",
      "Epoch 400/500\n",
      " - 1s - loss: 0.0358 - acc: 0.9918 - val_loss: 0.1290 - val_acc: 0.9620\n",
      "Epoch 401/500\n",
      " - 1s - loss: 0.0470 - acc: 0.9868 - val_loss: 0.1113 - val_acc: 0.9650\n",
      "Epoch 402/500\n",
      " - 1s - loss: 0.0312 - acc: 0.9901 - val_loss: 0.1204 - val_acc: 0.9656\n",
      "Epoch 403/500\n",
      " - 1s - loss: 0.0606 - acc: 0.9764 - val_loss: 0.1189 - val_acc: 0.9638\n",
      "Epoch 404/500\n",
      " - 1s - loss: 0.0421 - acc: 0.9885 - val_loss: 0.1309 - val_acc: 0.9624\n",
      "Epoch 405/500\n",
      " - 1s - loss: 0.0735 - acc: 0.9753 - val_loss: 0.1209 - val_acc: 0.9668\n",
      "Epoch 406/500\n",
      " - 1s - loss: 0.0450 - acc: 0.9885 - val_loss: 0.1202 - val_acc: 0.9660\n",
      "Epoch 407/500\n",
      " - 1s - loss: 0.0520 - acc: 0.9786 - val_loss: 0.1216 - val_acc: 0.9662\n",
      "Epoch 408/500\n",
      " - 1s - loss: 0.0572 - acc: 0.9835 - val_loss: 0.1169 - val_acc: 0.9666\n",
      "Epoch 409/500\n",
      " - 1s - loss: 0.0321 - acc: 0.9901 - val_loss: 0.1299 - val_acc: 0.9636\n",
      "Epoch 410/500\n",
      " - 1s - loss: 0.0591 - acc: 0.9819 - val_loss: 0.1315 - val_acc: 0.9620\n",
      "Epoch 411/500\n",
      " - 1s - loss: 0.0716 - acc: 0.9776 - val_loss: 0.1190 - val_acc: 0.9654\n",
      "Epoch 412/500\n",
      " - 1s - loss: 0.0504 - acc: 0.9803 - val_loss: 0.1289 - val_acc: 0.9636\n",
      "Epoch 413/500\n",
      " - 1s - loss: 0.0516 - acc: 0.9792 - val_loss: 0.1289 - val_acc: 0.9634\n",
      "Epoch 414/500\n",
      " - 1s - loss: 0.0642 - acc: 0.9803 - val_loss: 0.1177 - val_acc: 0.9650\n",
      "Epoch 415/500\n",
      " - 1s - loss: 0.0535 - acc: 0.9770 - val_loss: 0.1257 - val_acc: 0.9634\n",
      "Epoch 416/500\n",
      " - 1s - loss: 0.0386 - acc: 0.9847 - val_loss: 0.1089 - val_acc: 0.9702\n",
      "Epoch 417/500\n",
      " - 1s - loss: 0.0494 - acc: 0.9753 - val_loss: 0.1166 - val_acc: 0.9684\n",
      "Epoch 418/500\n",
      " - 1s - loss: 0.0286 - acc: 0.9912 - val_loss: 0.1213 - val_acc: 0.9646\n",
      "Epoch 419/500\n",
      " - 1s - loss: 0.0424 - acc: 0.9819 - val_loss: 0.1110 - val_acc: 0.9684\n",
      "Epoch 420/500\n",
      " - 1s - loss: 0.0526 - acc: 0.9830 - val_loss: 0.1145 - val_acc: 0.9672\n",
      "Epoch 421/500\n",
      " - 1s - loss: 0.0593 - acc: 0.9803 - val_loss: 0.1227 - val_acc: 0.9646\n",
      "Epoch 422/500\n",
      " - 1s - loss: 0.0619 - acc: 0.9786 - val_loss: 0.1303 - val_acc: 0.9632\n",
      "Epoch 423/500\n",
      " - 1s - loss: 0.0435 - acc: 0.9835 - val_loss: 0.1098 - val_acc: 0.9678\n",
      "Epoch 424/500\n",
      " - 1s - loss: 0.0336 - acc: 0.9951 - val_loss: 0.1389 - val_acc: 0.9610\n",
      "Epoch 425/500\n",
      " - 1s - loss: 0.0491 - acc: 0.9868 - val_loss: 0.1223 - val_acc: 0.9660\n",
      "Epoch 426/500\n",
      " - 1s - loss: 0.0405 - acc: 0.9863 - val_loss: 0.1136 - val_acc: 0.9670\n",
      "Epoch 427/500\n",
      " - 1s - loss: 0.0410 - acc: 0.9901 - val_loss: 0.1110 - val_acc: 0.9674\n",
      "Epoch 428/500\n",
      " - 1s - loss: 0.0436 - acc: 0.9885 - val_loss: 0.1258 - val_acc: 0.9656\n",
      "Epoch 429/500\n",
      " - 1s - loss: 0.0389 - acc: 0.9885 - val_loss: 0.1201 - val_acc: 0.9680\n",
      "Epoch 430/500\n",
      " - 1s - loss: 0.0426 - acc: 0.9852 - val_loss: 0.1074 - val_acc: 0.9700\n",
      "Epoch 431/500\n",
      " - 1s - loss: 0.0284 - acc: 0.9918 - val_loss: 0.1137 - val_acc: 0.9666\n",
      "Epoch 432/500\n",
      " - 1s - loss: 0.0482 - acc: 0.9901 - val_loss: 0.1146 - val_acc: 0.9658\n",
      "Epoch 433/500\n",
      " - 1s - loss: 0.0401 - acc: 0.9852 - val_loss: 0.1119 - val_acc: 0.9676\n",
      "Epoch 434/500\n",
      " - 1s - loss: 0.0632 - acc: 0.9847 - val_loss: 0.1211 - val_acc: 0.9648\n",
      "Epoch 435/500\n",
      " - 1s - loss: 0.0638 - acc: 0.9819 - val_loss: 0.1234 - val_acc: 0.9648\n",
      "Epoch 436/500\n",
      " - 1s - loss: 0.0393 - acc: 0.9885 - val_loss: 0.1210 - val_acc: 0.9678\n",
      "Epoch 437/500\n",
      " - 1s - loss: 0.0511 - acc: 0.9880 - val_loss: 0.1176 - val_acc: 0.9668\n",
      "Epoch 438/500\n",
      " - 1s - loss: 0.0481 - acc: 0.9819 - val_loss: 0.1295 - val_acc: 0.9624\n",
      "Epoch 439/500\n",
      " - 1s - loss: 0.0509 - acc: 0.9868 - val_loss: 0.1420 - val_acc: 0.9584\n",
      "Epoch 440/500\n",
      " - 1s - loss: 0.0438 - acc: 0.9863 - val_loss: 0.1167 - val_acc: 0.9680\n",
      "Epoch 441/500\n",
      " - 1s - loss: 0.0600 - acc: 0.9858 - val_loss: 0.1153 - val_acc: 0.9666\n",
      "Epoch 442/500\n",
      " - 1s - loss: 0.0383 - acc: 0.9907 - val_loss: 0.1187 - val_acc: 0.9654\n",
      "Epoch 443/500\n",
      " - 1s - loss: 0.0363 - acc: 0.9885 - val_loss: 0.1080 - val_acc: 0.9686\n",
      "Epoch 444/500\n",
      " - 1s - loss: 0.0290 - acc: 0.9934 - val_loss: 0.1133 - val_acc: 0.9670\n",
      "Epoch 445/500\n",
      " - 1s - loss: 0.0384 - acc: 0.9852 - val_loss: 0.1217 - val_acc: 0.9652\n",
      "Epoch 446/500\n",
      " - 1s - loss: 0.0487 - acc: 0.9797 - val_loss: 0.1186 - val_acc: 0.9672\n",
      "Epoch 447/500\n",
      " - 1s - loss: 0.0403 - acc: 0.9868 - val_loss: 0.1219 - val_acc: 0.9662\n",
      "Epoch 448/500\n",
      " - 1s - loss: 0.0280 - acc: 0.9918 - val_loss: 0.1147 - val_acc: 0.9668\n",
      "Epoch 449/500\n",
      " - 1s - loss: 0.0812 - acc: 0.9770 - val_loss: 0.1289 - val_acc: 0.9644\n",
      "Epoch 450/500\n",
      " - 1s - loss: 0.0324 - acc: 0.9863 - val_loss: 0.1150 - val_acc: 0.9692\n",
      "Epoch 451/500\n",
      " - 1s - loss: 0.0483 - acc: 0.9819 - val_loss: 0.1303 - val_acc: 0.9656\n",
      "Epoch 452/500\n",
      " - 1s - loss: 0.0384 - acc: 0.9868 - val_loss: 0.1197 - val_acc: 0.9652\n",
      "Epoch 453/500\n",
      " - 1s - loss: 0.0630 - acc: 0.9814 - val_loss: 0.1231 - val_acc: 0.9642\n",
      "Epoch 454/500\n",
      " - 1s - loss: 0.0267 - acc: 0.9934 - val_loss: 0.1177 - val_acc: 0.9670\n",
      "Epoch 455/500\n",
      " - 1s - loss: 0.0656 - acc: 0.9852 - val_loss: 0.1151 - val_acc: 0.9656\n",
      "Epoch 456/500\n",
      " - 1s - loss: 0.0388 - acc: 0.9852 - val_loss: 0.1214 - val_acc: 0.9660\n",
      "Epoch 457/500\n",
      " - 1s - loss: 0.0597 - acc: 0.9847 - val_loss: 0.1259 - val_acc: 0.9658\n",
      "Epoch 458/500\n",
      " - 1s - loss: 0.0431 - acc: 0.9852 - val_loss: 0.1361 - val_acc: 0.9622\n",
      "Epoch 459/500\n",
      " - 1s - loss: 0.0293 - acc: 0.9934 - val_loss: 0.1144 - val_acc: 0.9654\n",
      "Epoch 460/500\n",
      " - 1s - loss: 0.0382 - acc: 0.9835 - val_loss: 0.1315 - val_acc: 0.9650\n",
      "Epoch 461/500\n",
      " - 1s - loss: 0.0708 - acc: 0.9737 - val_loss: 0.1280 - val_acc: 0.9668\n",
      "Epoch 462/500\n",
      " - 1s - loss: 0.0343 - acc: 0.9868 - val_loss: 0.1303 - val_acc: 0.9630\n",
      "Epoch 463/500\n",
      " - 1s - loss: 0.0489 - acc: 0.9786 - val_loss: 0.1548 - val_acc: 0.9596\n",
      "Epoch 464/500\n",
      " - 1s - loss: 0.0608 - acc: 0.9852 - val_loss: 0.1207 - val_acc: 0.9664\n",
      "Epoch 465/500\n",
      " - 1s - loss: 0.0324 - acc: 0.9918 - val_loss: 0.1221 - val_acc: 0.9658\n",
      "Epoch 466/500\n",
      " - 1s - loss: 0.0514 - acc: 0.9852 - val_loss: 0.1231 - val_acc: 0.9658\n",
      "Epoch 467/500\n",
      " - 1s - loss: 0.0211 - acc: 0.9951 - val_loss: 0.1236 - val_acc: 0.9664\n",
      "Epoch 468/500\n",
      " - 1s - loss: 0.0353 - acc: 0.9835 - val_loss: 0.1289 - val_acc: 0.9642\n",
      "Epoch 469/500\n",
      " - 1s - loss: 0.0291 - acc: 0.9934 - val_loss: 0.1241 - val_acc: 0.9630\n",
      "Epoch 470/500\n",
      " - 1s - loss: 0.0259 - acc: 0.9929 - val_loss: 0.1241 - val_acc: 0.9670\n",
      "Epoch 471/500\n",
      " - 1s - loss: 0.0451 - acc: 0.9852 - val_loss: 0.1268 - val_acc: 0.9646\n",
      "Epoch 472/500\n",
      " - 1s - loss: 0.0452 - acc: 0.9852 - val_loss: 0.1373 - val_acc: 0.9624\n",
      "Epoch 473/500\n",
      " - 1s - loss: 0.0550 - acc: 0.9819 - val_loss: 0.1352 - val_acc: 0.9626\n",
      "Epoch 474/500\n",
      " - 1s - loss: 0.0469 - acc: 0.9852 - val_loss: 0.1258 - val_acc: 0.9658\n",
      "Epoch 475/500\n",
      " - 1s - loss: 0.0493 - acc: 0.9885 - val_loss: 0.1238 - val_acc: 0.9648\n",
      "Epoch 476/500\n",
      " - 1s - loss: 0.0495 - acc: 0.9803 - val_loss: 0.1370 - val_acc: 0.9624\n",
      "Epoch 477/500\n",
      " - 1s - loss: 0.0382 - acc: 0.9852 - val_loss: 0.1298 - val_acc: 0.9634\n",
      "Epoch 478/500\n",
      " - 1s - loss: 0.0502 - acc: 0.9835 - val_loss: 0.1187 - val_acc: 0.9668\n",
      "Epoch 479/500\n",
      " - 1s - loss: 0.0339 - acc: 0.9885 - val_loss: 0.1182 - val_acc: 0.9650\n",
      "Epoch 480/500\n",
      " - 1s - loss: 0.0298 - acc: 0.9901 - val_loss: 0.1172 - val_acc: 0.9680\n",
      "Epoch 481/500\n",
      " - 1s - loss: 0.0280 - acc: 0.9918 - val_loss: 0.1268 - val_acc: 0.9648\n"
     ]
    },
    {
     "name": "stdout",
     "output_type": "stream",
     "text": [
      "Epoch 482/500\n",
      " - 1s - loss: 0.0458 - acc: 0.9868 - val_loss: 0.1314 - val_acc: 0.9662\n",
      "Epoch 483/500\n",
      " - 1s - loss: 0.0360 - acc: 0.9901 - val_loss: 0.1578 - val_acc: 0.9590\n",
      "Epoch 484/500\n",
      " - 1s - loss: 0.0477 - acc: 0.9852 - val_loss: 0.1172 - val_acc: 0.9652\n",
      "Epoch 485/500\n",
      " - 1s - loss: 0.0444 - acc: 0.9863 - val_loss: 0.1149 - val_acc: 0.9672\n",
      "Epoch 486/500\n",
      " - 1s - loss: 0.0258 - acc: 0.9901 - val_loss: 0.1238 - val_acc: 0.9664\n",
      "Epoch 487/500\n",
      " - 1s - loss: 0.0257 - acc: 0.9912 - val_loss: 0.1350 - val_acc: 0.9642\n",
      "Epoch 488/500\n",
      " - 1s - loss: 0.0448 - acc: 0.9868 - val_loss: 0.1129 - val_acc: 0.9694\n",
      "Epoch 489/500\n",
      " - 1s - loss: 0.0275 - acc: 0.9901 - val_loss: 0.1336 - val_acc: 0.9622\n",
      "Epoch 490/500\n",
      " - 1s - loss: 0.0365 - acc: 0.9868 - val_loss: 0.1159 - val_acc: 0.9660\n",
      "Epoch 491/500\n",
      " - 1s - loss: 0.0390 - acc: 0.9885 - val_loss: 0.1229 - val_acc: 0.9668\n",
      "Epoch 492/500\n",
      " - 1s - loss: 0.0290 - acc: 0.9885 - val_loss: 0.1240 - val_acc: 0.9666\n",
      "Epoch 493/500\n",
      " - 1s - loss: 0.0267 - acc: 0.9918 - val_loss: 0.1369 - val_acc: 0.9640\n",
      "Epoch 494/500\n",
      " - 1s - loss: 0.0430 - acc: 0.9819 - val_loss: 0.1323 - val_acc: 0.9624\n",
      "Epoch 495/500\n",
      " - 1s - loss: 0.0435 - acc: 0.9830 - val_loss: 0.1190 - val_acc: 0.9656\n",
      "Epoch 496/500\n",
      " - 1s - loss: 0.0346 - acc: 0.9945 - val_loss: 0.1181 - val_acc: 0.9682\n",
      "Epoch 497/500\n",
      " - 1s - loss: 0.0598 - acc: 0.9792 - val_loss: 0.1268 - val_acc: 0.9652\n",
      "Epoch 498/500\n",
      " - 1s - loss: 0.0333 - acc: 0.9880 - val_loss: 0.1406 - val_acc: 0.9610\n",
      "Epoch 499/500\n",
      " - 1s - loss: 0.0728 - acc: 0.9748 - val_loss: 0.1250 - val_acc: 0.9656\n",
      "Epoch 500/500\n",
      " - 1s - loss: 0.0479 - acc: 0.9814 - val_loss: 0.1263 - val_acc: 0.9646\n"
     ]
    }
   ],
   "source": [
    "# fits the model on batches with real-time data augmentation:\n",
    "# the accuracy continues to (slowly) rise, due to the augmentation\n",
    "history = cnnmodel.fit_generator(datagen.flow(x_train, y_train, batch_size=batch_size), \n",
    "                                 epochs=10*epochs,\n",
    "                                 verbose=2,\n",
    "                                 validation_data=(x_test, y_test))"
   ]
  },
  {
   "cell_type": "code",
   "execution_count": 40,
   "metadata": {
    "scrolled": true,
    "slideshow": {
     "slide_type": "subslide"
    }
   },
   "outputs": [
    {
     "data": {
      "image/png": "[encoded data removed]",
      "text/plain": [
       "<Figure size 1080x360 with 2 Axes>"
      ]
     },
     "metadata": {
      "needs_background": "light"
     },
     "output_type": "display_data"
    }
   ],
   "source": [
    "histplot(history)"
   ]
  },
  {
   "cell_type": "markdown",
   "metadata": {
    "slideshow": {
     "slide_type": "fragment"
    }
   },
   "source": [
    "Data augmentation reduced number of misclassifications by half."
   ]
  }
 ],
 "metadata": {
  "anaconda-cloud": {},
  "celltoolbar": "Slideshow",
  "hide_input": false,
  "kernelspec": {
   "display_name": "Python [conda env:keras_demo]",
   "language": "python",
   "name": "conda-env-keras_demo-py"
  },
  "language_info": {
   "codemirror_mode": {
    "name": "ipython",
    "version": 3
   },
   "file_extension": ".py",
   "mimetype": "text/x-python",
   "name": "python",
   "nbconvert_exporter": "python",
   "pygments_lexer": "ipython3",
   "version": "3.6.6"
  },
  "latex_envs": {
   "LaTeX_envs_menu_present": true,
   "autocomplete": true,
   "bibliofile": "biblio.bib",
   "cite_by": "apalike",
   "current_citInitial": 1,
   "eqLabelWithNumbers": true,
   "eqNumInitial": 1,
   "hotkeys": {
    "equation": "Ctrl-E",
    "itemize": "Ctrl-I"
   },
   "labels_anchors": false,
   "latex_user_defs": false,
   "report_style_numbering": false,
   "user_envs_cfg": false
  }
 },
 "nbformat": 4,
 "nbformat_minor": 2
}
