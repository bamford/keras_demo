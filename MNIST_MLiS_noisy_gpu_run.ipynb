{
 "cells": [
  {
   "cell_type": "markdown",
   "metadata": {
    "slideshow": {
     "slide_type": "slide"
    }
   },
   "source": [
    "# Training simple neural networks on the MNIST dataset using keras"
   ]
  },
  {
   "cell_type": "markdown",
   "metadata": {
    "slideshow": {
     "slide_type": "subslide"
    }
   },
   "source": [
    "You can create a suitable conda environment to run this notebook using:\n",
    "\n",
    "    conda create -n keras_demo python=3 tensorflow matplotlib ipykernel scikit-learn pandas\n",
    "    \n",
    "If you haven't got the latest cuda drivers, you may also need to specify `cudatoolkit=9.0` or similar."
   ]
  },
  {
   "cell_type": "markdown",
   "metadata": {
    "slideshow": {
     "slide_type": "slide"
    }
   },
   "source": [
    "### First some common imports..."
   ]
  },
  {
   "cell_type": "code",
   "execution_count": 1,
   "metadata": {
    "slideshow": {
     "slide_type": "fragment"
    }
   },
   "outputs": [],
   "source": [
    "%matplotlib inline\n",
    "from matplotlib import pyplot as plt\n",
    "import numpy as np\n",
    "import pandas as pd"
   ]
  },
  {
   "cell_type": "markdown",
   "metadata": {
    "slideshow": {
     "slide_type": "slide"
    }
   },
   "source": [
    "### Set up TensorFlow in a friendly manner"
   ]
  },
  {
   "cell_type": "code",
   "execution_count": 2,
   "metadata": {
    "slideshow": {
     "slide_type": "fragment"
    }
   },
   "outputs": [],
   "source": [
    "import tensorflow as tf\n",
    "\n",
    "# if multiple GPUs, only use one of them \n",
    "import os\n",
    "os.environ[\"CUDA_VISIBLE_DEVICES\"]=\"1\"\n",
    "\n",
    "# avoid hogging all the GPU memory\n",
    "config = tf.ConfigProto()\n",
    "config.gpu_options.allow_growth=True\n",
    "sess = tf.Session(config=config)"
   ]
  },
  {
   "cell_type": "code",
   "execution_count": 3,
   "metadata": {
    "scrolled": true,
    "slideshow": {
     "slide_type": "fragment"
    }
   },
   "outputs": [
    {
     "data": {
      "text/plain": [
       "[name: \"/device:CPU:0\"\n",
       " device_type: \"CPU\"\n",
       " memory_limit: 268435456\n",
       " locality {\n",
       " }\n",
       " incarnation: 13050421693580373170, name: \"/device:GPU:0\"\n",
       " device_type: \"GPU\"\n",
       " memory_limit: 10261748122\n",
       " locality {\n",
       "   bus_id: 1\n",
       "   links {\n",
       "   }\n",
       " }\n",
       " incarnation: 550620988257828408\n",
       " physical_device_desc: \"device: 0, name: GeForce GTX 1080 Ti, pci bus id: 0000:07:00.0, compute capability: 6.1\"]"
      ]
     },
     "execution_count": 3,
     "metadata": {},
     "output_type": "execute_result"
    }
   ],
   "source": [
    "# check that we have the devices we expect available\n",
    "from tensorflow.python.client import device_lib\n",
    "device_lib.list_local_devices()"
   ]
  },
  {
   "cell_type": "markdown",
   "metadata": {
    "slideshow": {
     "slide_type": "slide"
    }
   },
   "source": [
    "### Import keras bits and pieces"
   ]
  },
  {
   "cell_type": "code",
   "execution_count": 4,
   "metadata": {
    "slideshow": {
     "slide_type": "fragment"
    }
   },
   "outputs": [],
   "source": [
    "# if you have a recent version of tensorflow, keras is included\n",
    "from tensorflow import keras\n",
    "from tensorflow.keras.datasets import mnist\n",
    "from tensorflow.keras.models import Sequential\n",
    "from tensorflow.keras.layers import Dense, Dropout, Conv2D, MaxPooling2D, Flatten\n",
    "from tensorflow.keras.optimizers import RMSprop"
   ]
  },
  {
   "cell_type": "markdown",
   "metadata": {
    "slideshow": {
     "slide_type": "slide"
    }
   },
   "source": [
    "### We will use a standard demonstration data set: MNIST handwritten digits"
   ]
  },
  {
   "cell_type": "code",
   "execution_count": 5,
   "metadata": {
    "slideshow": {
     "slide_type": "fragment"
    }
   },
   "outputs": [],
   "source": [
    "# the data, split between train and test sets\n",
    "(x_train, y_train), (x_valtest, y_valtest) = mnist.load_data()"
   ]
  },
  {
   "cell_type": "code",
   "execution_count": 6,
   "metadata": {
    "slideshow": {
     "slide_type": "fragment"
    }
   },
   "outputs": [],
   "source": [
    "# demo the effect of noisy data\n",
    "x_train = (x_train/5 + np.random.poisson(200, size=x_train.shape)).clip(0, 255)\n",
    "x_valtest = (x_valtest/5 + np.random.poisson(200, size=x_valtest.shape)).clip(0, 255)"
   ]
  },
  {
   "cell_type": "code",
   "execution_count": 7,
   "metadata": {
    "slideshow": {
     "slide_type": "fragment"
    }
   },
   "outputs": [],
   "source": [
    "# if we wanted to test our model on limited data,\n",
    "# we could reduce the amount of training data like this...\n",
    "idx = np.random.choice(len(x_train), size=len(x_train)//100)\n",
    "x_train = x_train[idx]\n",
    "y_train = y_train[idx]"
   ]
  },
  {
   "cell_type": "markdown",
   "metadata": {
    "slideshow": {
     "slide_type": "fragment"
    }
   },
   "source": [
    "If your data isn't split, or want a validation set, need to do split manually"
   ]
  },
  {
   "cell_type": "code",
   "execution_count": 8,
   "metadata": {
    "slideshow": {
     "slide_type": "fragment"
    }
   },
   "outputs": [],
   "source": [
    "from sklearn.model_selection import train_test_split\n",
    "x_test, x_val, y_test, y_val = train_test_split(x_valtest, y_valtest, test_size=0.5)"
   ]
  },
  {
   "cell_type": "code",
   "execution_count": 9,
   "metadata": {
    "slideshow": {
     "slide_type": "fragment"
    }
   },
   "outputs": [
    {
     "data": {
      "text/plain": [
       "((600, 28, 28), (600,))"
      ]
     },
     "execution_count": 9,
     "metadata": {},
     "output_type": "execute_result"
    }
   ],
   "source": [
    "x_train.shape, y_train.shape"
   ]
  },
  {
   "cell_type": "code",
   "execution_count": 10,
   "metadata": {
    "slideshow": {
     "slide_type": "fragment"
    }
   },
   "outputs": [
    {
     "data": {
      "text/plain": [
       "((5000, 28, 28), (5000,))"
      ]
     },
     "execution_count": 10,
     "metadata": {},
     "output_type": "execute_result"
    }
   ],
   "source": [
    "x_test.shape, y_test.shape"
   ]
  },
  {
   "cell_type": "code",
   "execution_count": 11,
   "metadata": {
    "slideshow": {
     "slide_type": "fragment"
    }
   },
   "outputs": [
    {
     "data": {
      "text/plain": [
       "((5000, 28, 28), (5000,))"
      ]
     },
     "execution_count": 11,
     "metadata": {},
     "output_type": "execute_result"
    }
   ],
   "source": [
    "x_val.shape, y_val.shape"
   ]
  },
  {
   "cell_type": "markdown",
   "metadata": {
    "slideshow": {
     "slide_type": "slide"
    }
   },
   "source": [
    "### Take a look at the data\n",
    "\n",
    "This is a very quick glance - you should carefully examine any new dataset"
   ]
  },
  {
   "cell_type": "code",
   "execution_count": 12,
   "metadata": {
    "slideshow": {
     "slide_type": "fragment"
    }
   },
   "outputs": [
    {
     "name": "stdout",
     "output_type": "stream",
     "text": [
      "class = 9\n"
     ]
    },
    {
     "data": {
      "image/png": "[encoded data removed]",
      "text/plain": [
       "<Figure size 432x288 with 1 Axes>"
      ]
     },
     "metadata": {
      "needs_background": "light"
     },
     "output_type": "display_data"
    }
   ],
   "source": [
    "i = 3\n",
    "plt.imshow(x_train[i], cmap='gray')\n",
    "print('class =', y_train[i])"
   ]
  },
  {
   "cell_type": "markdown",
   "metadata": {
    "slideshow": {
     "slide_type": "slide"
    }
   },
   "source": [
    "### Prepare the data"
   ]
  },
  {
   "cell_type": "code",
   "execution_count": 13,
   "metadata": {
    "slideshow": {
     "slide_type": "fragment"
    }
   },
   "outputs": [],
   "source": [
    "# convert class vectors to \"one-hot\" binary class matrices\n",
    "num_classes = 10\n",
    "y_train = keras.utils.to_categorical(y_train, num_classes)\n",
    "y_test = keras.utils.to_categorical(y_test, num_classes)\n",
    "y_val = keras.utils.to_categorical(y_val, num_classes)"
   ]
  },
  {
   "cell_type": "code",
   "execution_count": 14,
   "metadata": {
    "slideshow": {
     "slide_type": "fragment"
    }
   },
   "outputs": [
    {
     "data": {
      "text/plain": [
       "array([0., 0., 0., 0., 0., 0., 0., 0., 0., 1.], dtype=float32)"
      ]
     },
     "execution_count": 14,
     "metadata": {},
     "output_type": "execute_result"
    }
   ],
   "source": [
    "y_train[i]"
   ]
  },
  {
   "cell_type": "code",
   "execution_count": 15,
   "metadata": {
    "slideshow": {
     "slide_type": "fragment"
    }
   },
   "outputs": [],
   "source": [
    "def process_data(x):\n",
    "    x = x.reshape(-1, 784)\n",
    "    x = x.astype('float32')\n",
    "    x /= 255\n",
    "    return x"
   ]
  },
  {
   "cell_type": "code",
   "execution_count": 16,
   "metadata": {
    "slideshow": {
     "slide_type": "fragment"
    }
   },
   "outputs": [],
   "source": [
    "x_train = process_data(x_train)\n",
    "x_test = process_data(x_test)\n",
    "x_val = process_data(x_val)"
   ]
  },
  {
   "cell_type": "code",
   "execution_count": 17,
   "metadata": {
    "slideshow": {
     "slide_type": "fragment"
    }
   },
   "outputs": [
    {
     "name": "stdout",
     "output_type": "stream",
     "text": [
      "600 train samples\n",
      "5000 test samples\n",
      "5000 validation samples\n"
     ]
    }
   ],
   "source": [
    "print(x_train.shape[0], 'train samples')\n",
    "print(x_test.shape[0], 'test samples')\n",
    "print(x_val.shape[0], 'validation samples')"
   ]
  },
  {
   "cell_type": "markdown",
   "metadata": {
    "slideshow": {
     "slide_type": "slide"
    }
   },
   "source": [
    "## Fully-connected NN"
   ]
  },
  {
   "cell_type": "markdown",
   "metadata": {
    "slideshow": {
     "slide_type": "slide"
    }
   },
   "source": [
    "### Construct the network"
   ]
  },
  {
   "cell_type": "code",
   "execution_count": 18,
   "metadata": {
    "slideshow": {
     "slide_type": "fragment"
    }
   },
   "outputs": [],
   "source": [
    "# a fairly small network for speed\n",
    "fcmodel = Sequential()\n",
    "fcmodel.add(Dense(32, activation='relu', input_shape=(784,)))\n",
    "fcmodel.add(Dense(32, activation='relu'))\n",
    "# could include dropout, regularisation, ...\n",
    "fcmodel.add(Dense(num_classes, activation='softmax'))"
   ]
  },
  {
   "cell_type": "code",
   "execution_count": 19,
   "metadata": {
    "slideshow": {
     "slide_type": "fragment"
    }
   },
   "outputs": [
    {
     "name": "stdout",
     "output_type": "stream",
     "text": [
      "_________________________________________________________________\n",
      "Layer (type)                 Output Shape              Param #   \n",
      "=================================================================\n",
      "dense (Dense)                (None, 32)                25120     \n",
      "_________________________________________________________________\n",
      "dense_1 (Dense)              (None, 32)                1056      \n",
      "_________________________________________________________________\n",
      "dense_2 (Dense)              (None, 10)                330       \n",
      "=================================================================\n",
      "Total params: 26,506\n",
      "Trainable params: 26,506\n",
      "Non-trainable params: 0\n",
      "_________________________________________________________________\n"
     ]
    }
   ],
   "source": [
    "fcmodel.summary()"
   ]
  },
  {
   "cell_type": "code",
   "execution_count": 20,
   "metadata": {
    "slideshow": {
     "slide_type": "fragment"
    }
   },
   "outputs": [],
   "source": [
    "fcmodel.compile(loss='categorical_crossentropy',\n",
    "                optimizer=RMSprop(),\n",
    "                metrics=['accuracy'])"
   ]
  },
  {
   "cell_type": "markdown",
   "metadata": {
    "slideshow": {
     "slide_type": "slide"
    }
   },
   "source": [
    "### Train the network"
   ]
  },
  {
   "cell_type": "code",
   "execution_count": 21,
   "metadata": {
    "slideshow": {
     "slide_type": "fragment"
    }
   },
   "outputs": [],
   "source": [
    "batch_size = 32\n",
    "epochs = 50"
   ]
  },
  {
   "cell_type": "code",
   "execution_count": 22,
   "metadata": {
    "scrolled": true,
    "slideshow": {
     "slide_type": "fragment"
    }
   },
   "outputs": [
    {
     "name": "stdout",
     "output_type": "stream",
     "text": [
      "Train on 600 samples, validate on 5000 samples\n",
      "Epoch 1/50\n",
      " - 1s - loss: 2.3616 - acc: 0.1250 - val_loss: 2.3050 - val_acc: 0.1006\n",
      "Epoch 2/50\n",
      " - 0s - loss: 2.3028 - acc: 0.1150 - val_loss: 2.3025 - val_acc: 0.1060\n",
      "Epoch 3/50\n",
      " - 0s - loss: 2.3026 - acc: 0.1050 - val_loss: 2.3025 - val_acc: 0.1060\n",
      "Epoch 4/50\n",
      " - 1s - loss: 2.3017 - acc: 0.1100 - val_loss: 2.3025 - val_acc: 0.1060\n",
      "Epoch 5/50\n",
      " - 1s - loss: 2.3013 - acc: 0.1100 - val_loss: 2.3025 - val_acc: 0.1060\n",
      "Epoch 6/50\n",
      " - 1s - loss: 2.3010 - acc: 0.1100 - val_loss: 2.3026 - val_acc: 0.1060\n",
      "Epoch 7/50\n",
      " - 1s - loss: 2.3007 - acc: 0.1100 - val_loss: 2.3027 - val_acc: 0.1060\n",
      "Epoch 8/50\n",
      " - 1s - loss: 2.3005 - acc: 0.1100 - val_loss: 2.3027 - val_acc: 0.1060\n",
      "Epoch 9/50\n",
      " - 1s - loss: 2.3003 - acc: 0.1083 - val_loss: 2.3028 - val_acc: 0.1060\n",
      "Epoch 10/50\n",
      " - 1s - loss: 2.3000 - acc: 0.1083 - val_loss: 2.3029 - val_acc: 0.1060\n",
      "Epoch 11/50\n",
      " - 0s - loss: 2.2999 - acc: 0.1000 - val_loss: 2.3030 - val_acc: 0.1060\n",
      "Epoch 12/50\n",
      " - 0s - loss: 2.2997 - acc: 0.1050 - val_loss: 2.3031 - val_acc: 0.0992\n",
      "Epoch 13/50\n",
      " - 0s - loss: 2.2996 - acc: 0.1150 - val_loss: 2.3032 - val_acc: 0.0992\n",
      "Epoch 14/50\n",
      " - 1s - loss: 2.2995 - acc: 0.1033 - val_loss: 2.3033 - val_acc: 0.0992\n",
      "Epoch 15/50\n",
      " - 1s - loss: 2.2994 - acc: 0.1150 - val_loss: 2.3034 - val_acc: 0.0992\n",
      "Epoch 16/50\n",
      " - 1s - loss: 2.2992 - acc: 0.1150 - val_loss: 2.3035 - val_acc: 0.0992\n",
      "Epoch 17/50\n",
      " - 1s - loss: 2.2992 - acc: 0.1150 - val_loss: 2.3036 - val_acc: 0.0992\n",
      "Epoch 18/50\n",
      " - 1s - loss: 2.2992 - acc: 0.1150 - val_loss: 2.3037 - val_acc: 0.0992\n",
      "Epoch 19/50\n",
      " - 1s - loss: 2.2990 - acc: 0.1150 - val_loss: 2.3038 - val_acc: 0.0992\n",
      "Epoch 20/50\n",
      " - 1s - loss: 2.2991 - acc: 0.1150 - val_loss: 2.3038 - val_acc: 0.0992\n",
      "Epoch 21/50\n",
      " - 1s - loss: 2.2990 - acc: 0.1150 - val_loss: 2.3039 - val_acc: 0.0992\n",
      "Epoch 22/50\n",
      " - 0s - loss: 2.2989 - acc: 0.1150 - val_loss: 2.3040 - val_acc: 0.0992\n",
      "Epoch 23/50\n",
      " - 1s - loss: 2.2989 - acc: 0.1150 - val_loss: 2.3041 - val_acc: 0.0992\n",
      "Epoch 24/50\n",
      " - 1s - loss: 2.2989 - acc: 0.1150 - val_loss: 2.3042 - val_acc: 0.0992\n",
      "Epoch 25/50\n",
      " - 1s - loss: 2.2988 - acc: 0.1150 - val_loss: 2.3042 - val_acc: 0.0992\n",
      "Epoch 26/50\n",
      " - 1s - loss: 2.2988 - acc: 0.1150 - val_loss: 2.3043 - val_acc: 0.0992\n",
      "Epoch 27/50\n",
      " - 1s - loss: 2.2988 - acc: 0.1150 - val_loss: 2.3044 - val_acc: 0.0992\n",
      "Epoch 28/50\n",
      " - 1s - loss: 2.2989 - acc: 0.1150 - val_loss: 2.3045 - val_acc: 0.0992\n",
      "Epoch 29/50\n",
      " - 1s - loss: 2.2988 - acc: 0.1150 - val_loss: 2.3045 - val_acc: 0.0992\n",
      "Epoch 30/50\n",
      " - 1s - loss: 2.2988 - acc: 0.1150 - val_loss: 2.3046 - val_acc: 0.0992\n",
      "Epoch 31/50\n",
      " - 1s - loss: 2.2987 - acc: 0.1150 - val_loss: 2.3047 - val_acc: 0.0992\n",
      "Epoch 32/50\n",
      " - 0s - loss: 2.2987 - acc: 0.1150 - val_loss: 2.3048 - val_acc: 0.0992\n",
      "Epoch 33/50\n",
      " - 1s - loss: 2.2987 - acc: 0.1150 - val_loss: 2.3048 - val_acc: 0.0992\n",
      "Epoch 34/50\n",
      " - 1s - loss: 2.2987 - acc: 0.1150 - val_loss: 2.3048 - val_acc: 0.0992\n",
      "Epoch 35/50\n",
      " - 1s - loss: 2.2988 - acc: 0.1150 - val_loss: 2.3048 - val_acc: 0.0992\n",
      "Epoch 36/50\n",
      " - 1s - loss: 2.2986 - acc: 0.1150 - val_loss: 2.3049 - val_acc: 0.0992\n",
      "Epoch 37/50\n",
      " - 1s - loss: 2.2987 - acc: 0.1150 - val_loss: 2.3049 - val_acc: 0.0992\n",
      "Epoch 38/50\n",
      " - 1s - loss: 2.2987 - acc: 0.1150 - val_loss: 2.3049 - val_acc: 0.0992\n",
      "Epoch 39/50\n",
      " - 1s - loss: 2.2987 - acc: 0.1150 - val_loss: 2.3050 - val_acc: 0.0992\n",
      "Epoch 40/50\n",
      " - 1s - loss: 2.2986 - acc: 0.1150 - val_loss: 2.3050 - val_acc: 0.0992\n",
      "Epoch 41/50\n",
      " - 1s - loss: 2.2987 - acc: 0.1150 - val_loss: 2.3051 - val_acc: 0.0992\n",
      "Epoch 42/50\n",
      " - 1s - loss: 2.2987 - acc: 0.1150 - val_loss: 2.3051 - val_acc: 0.0992\n",
      "Epoch 43/50\n",
      " - 1s - loss: 2.2987 - acc: 0.1150 - val_loss: 2.3051 - val_acc: 0.0992\n",
      "Epoch 44/50\n",
      " - 1s - loss: 2.2987 - acc: 0.1150 - val_loss: 2.3051 - val_acc: 0.0992\n",
      "Epoch 45/50\n",
      " - 1s - loss: 2.2986 - acc: 0.1150 - val_loss: 2.3052 - val_acc: 0.0992\n",
      "Epoch 46/50\n",
      " - 1s - loss: 2.2987 - acc: 0.1150 - val_loss: 2.3052 - val_acc: 0.0992\n",
      "Epoch 47/50\n",
      " - 1s - loss: 2.2987 - acc: 0.1150 - val_loss: 2.3053 - val_acc: 0.0992\n",
      "Epoch 48/50\n",
      " - 1s - loss: 2.2987 - acc: 0.1150 - val_loss: 2.3053 - val_acc: 0.0992\n",
      "Epoch 49/50\n",
      " - 1s - loss: 2.2987 - acc: 0.1150 - val_loss: 2.3052 - val_acc: 0.0992\n",
      "Epoch 50/50\n",
      " - 1s - loss: 2.2987 - acc: 0.1150 - val_loss: 2.3053 - val_acc: 0.0992\n"
     ]
    }
   ],
   "source": [
    "history = fcmodel.fit(x_train, y_train,\n",
    "                      batch_size=batch_size,\n",
    "                      epochs=epochs,\n",
    "                      verbose=2,\n",
    "                      validation_data=(x_test, y_test))"
   ]
  },
  {
   "cell_type": "code",
   "execution_count": 23,
   "metadata": {
    "slideshow": {
     "slide_type": "subslide"
    }
   },
   "outputs": [
    {
     "name": "stdout",
     "output_type": "stream",
     "text": [
      "Test loss: 2.3052559871673584\n",
      "Test accuracy: 0.0992\n"
     ]
    }
   ],
   "source": [
    "score = fcmodel.evaluate(x_test, y_test, verbose=0)\n",
    "print('Test loss:', score[0])\n",
    "print('Test accuracy:', score[1])"
   ]
  },
  {
   "cell_type": "code",
   "execution_count": 24,
   "metadata": {
    "slideshow": {
     "slide_type": "subslide"
    }
   },
   "outputs": [
    {
     "name": "stdout",
     "output_type": "stream",
     "text": [
      "Test loss: 2.3064027278900148\n",
      "Test accuracy: 0.0972\n"
     ]
    }
   ],
   "source": [
    "# really we should not look at the score for this set of data\n",
    "# until we have finished tuning our model\n",
    "score = fcmodel.evaluate(x_val, y_val, verbose=0)\n",
    "print('Test loss:', score[0])\n",
    "print('Test accuracy:', score[1])"
   ]
  },
  {
   "cell_type": "code",
   "execution_count": 25,
   "metadata": {
    "slideshow": {
     "slide_type": "subslide"
    }
   },
   "outputs": [],
   "source": [
    "def histplot(history):\n",
    "    hist = pd.DataFrame(history.history)\n",
    "    fig, (ax1, ax2) = plt.subplots(1, 2, figsize=(15, 5))\n",
    "    hist.plot(y=['loss', 'val_loss'], ax=ax1)\n",
    "    min_loss = hist['val_loss'].min()\n",
    "    ax1.hlines(min_loss, 0, len(hist), linestyle='dotted',\n",
    "               label='min(val_loss) = {:.3f}'.format(min_loss))\n",
    "    ax1.legend(loc='upper right')\n",
    "    hist.plot(y=['acc', 'val_acc'], ax=ax2)\n",
    "    max_acc = hist['val_acc'].max()\n",
    "    ax2.hlines(max_acc, 0, len(hist), linestyle='dotted',\n",
    "               label='max(val_acc) = {:.3f}'.format(max_acc))\n",
    "    ax2.legend(loc='lower right', fontsize='large')"
   ]
  },
  {
   "cell_type": "code",
   "execution_count": 26,
   "metadata": {
    "scrolled": true,
    "slideshow": {
     "slide_type": "subslide"
    }
   },
   "outputs": [
    {
     "data": {
      "image/png": "[encoded data removed]",
      "text/plain": [
       "<Figure size 1080x360 with 2 Axes>"
      ]
     },
     "metadata": {
      "needs_background": "light"
     },
     "output_type": "display_data"
    }
   ],
   "source": [
    "histplot(history)"
   ]
  },
  {
   "cell_type": "markdown",
   "metadata": {
    "slideshow": {
     "slide_type": "slide"
    }
   },
   "source": [
    "## Convolutional Neural Network (CNN)"
   ]
  },
  {
   "cell_type": "markdown",
   "metadata": {
    "slideshow": {
     "slide_type": "slide"
    }
   },
   "source": [
    "### Reshape the data"
   ]
  },
  {
   "cell_type": "code",
   "execution_count": 27,
   "metadata": {
    "slideshow": {
     "slide_type": "fragment"
    }
   },
   "outputs": [],
   "source": [
    "x_train = x_train.reshape(-1, 28, 28, 1)\n",
    "x_test = x_test.reshape(-1, 28, 28, 1)"
   ]
  },
  {
   "cell_type": "markdown",
   "metadata": {
    "slideshow": {
     "slide_type": "slide"
    }
   },
   "source": [
    "### Construct the network"
   ]
  },
  {
   "cell_type": "code",
   "execution_count": 28,
   "metadata": {
    "slideshow": {
     "slide_type": "fragment"
    }
   },
   "outputs": [],
   "source": [
    "# a fairly small network for speed\n",
    "cnnmodel = Sequential()\n",
    "cnnmodel.add(Conv2D(8, (3, 3), activation='relu', input_shape=(28, 28, 1)))\n",
    "cnnmodel.add(MaxPooling2D((3, 3)))\n",
    "cnnmodel.add(Conv2D(16, (3, 3), activation='relu'))\n",
    "cnnmodel.add(MaxPooling2D((2, 2)))\n",
    "cnnmodel.add(Flatten())\n",
    "cnnmodel.add(Dense(num_classes, activation='softmax'))\n",
    "# could include dropout, regularisation, ..."
   ]
  },
  {
   "cell_type": "code",
   "execution_count": 29,
   "metadata": {
    "slideshow": {
     "slide_type": "fragment"
    }
   },
   "outputs": [],
   "source": [
    "cnnmodel.compile(loss='categorical_crossentropy',\n",
    "                optimizer=RMSprop(),\n",
    "                metrics=['accuracy'])"
   ]
  },
  {
   "cell_type": "code",
   "execution_count": 30,
   "metadata": {
    "slideshow": {
     "slide_type": "fragment"
    }
   },
   "outputs": [
    {
     "name": "stdout",
     "output_type": "stream",
     "text": [
      "_________________________________________________________________\n",
      "Layer (type)                 Output Shape              Param #   \n",
      "=================================================================\n",
      "conv2d (Conv2D)              (None, 26, 26, 8)         80        \n",
      "_________________________________________________________________\n",
      "max_pooling2d (MaxPooling2D) (None, 8, 8, 8)           0         \n",
      "_________________________________________________________________\n",
      "conv2d_1 (Conv2D)            (None, 6, 6, 16)          1168      \n",
      "_________________________________________________________________\n",
      "max_pooling2d_1 (MaxPooling2 (None, 3, 3, 16)          0         \n",
      "_________________________________________________________________\n",
      "flatten (Flatten)            (None, 144)               0         \n",
      "_________________________________________________________________\n",
      "dense_3 (Dense)              (None, 10)                1450      \n",
      "=================================================================\n",
      "Total params: 2,698\n",
      "Trainable params: 2,698\n",
      "Non-trainable params: 0\n",
      "_________________________________________________________________\n"
     ]
    }
   ],
   "source": [
    "cnnmodel.summary()"
   ]
  },
  {
   "cell_type": "code",
   "execution_count": 31,
   "metadata": {
    "slideshow": {
     "slide_type": "fragment"
    }
   },
   "outputs": [
    {
     "name": "stdout",
     "output_type": "stream",
     "text": [
      "WARNING:tensorflow:This model was compiled with a Keras optimizer (<tensorflow.python.keras.optimizers.RMSprop object at 0x7f6f05a6b4a8>) but is being saved in TensorFlow format with `save_weights`. The model's weights will be saved, but unlike with TensorFlow optimizers in the TensorFlow format the optimizer's state will not be saved.\n",
      "\n",
      "Consider using a TensorFlow optimizer from `tf.train`.\n"
     ]
    }
   ],
   "source": [
    "# save weights for reinitialising below\n",
    "cnnmodel.save_weights('/tmp/cnnmodel_init_weights.tf')"
   ]
  },
  {
   "cell_type": "markdown",
   "metadata": {
    "slideshow": {
     "slide_type": "slide"
    }
   },
   "source": [
    "### Train the network"
   ]
  },
  {
   "cell_type": "code",
   "execution_count": 32,
   "metadata": {
    "slideshow": {
     "slide_type": "fragment"
    }
   },
   "outputs": [
    {
     "name": "stdout",
     "output_type": "stream",
     "text": [
      "Train on 600 samples, validate on 5000 samples\n",
      "Epoch 1/150\n",
      " - 3s - loss: 2.3448 - acc: 0.0900 - val_loss: 2.3039 - val_acc: 0.0936\n",
      "Epoch 2/150\n",
      " - 1s - loss: 2.3050 - acc: 0.1017 - val_loss: 2.3068 - val_acc: 0.1296\n",
      "Epoch 3/150\n",
      " - 1s - loss: 2.3021 - acc: 0.1200 - val_loss: 2.3077 - val_acc: 0.0992\n",
      "Epoch 4/150\n",
      " - 1s - loss: 2.2998 - acc: 0.1133 - val_loss: 2.2997 - val_acc: 0.1078\n",
      "Epoch 5/150\n",
      " - 1s - loss: 2.2972 - acc: 0.1183 - val_loss: 2.2976 - val_acc: 0.1290\n",
      "Epoch 6/150\n",
      " - 1s - loss: 2.2972 - acc: 0.1567 - val_loss: 2.2975 - val_acc: 0.1430\n",
      "Epoch 7/150\n",
      " - 1s - loss: 2.2942 - acc: 0.1433 - val_loss: 2.2947 - val_acc: 0.1432\n",
      "Epoch 8/150\n",
      " - 1s - loss: 2.2929 - acc: 0.1333 - val_loss: 2.2927 - val_acc: 0.1416\n",
      "Epoch 9/150\n",
      " - 1s - loss: 2.2870 - acc: 0.1417 - val_loss: 2.2999 - val_acc: 0.1038\n",
      "Epoch 10/150\n",
      " - 1s - loss: 2.2884 - acc: 0.1383 - val_loss: 2.2905 - val_acc: 0.1748\n",
      "Epoch 11/150\n",
      " - 1s - loss: 2.2856 - acc: 0.1750 - val_loss: 2.2853 - val_acc: 0.1894\n",
      "Epoch 12/150\n",
      " - 1s - loss: 2.2832 - acc: 0.1900 - val_loss: 2.2849 - val_acc: 0.1994\n",
      "Epoch 13/150\n",
      " - 1s - loss: 2.2796 - acc: 0.2067 - val_loss: 2.2843 - val_acc: 0.1748\n",
      "Epoch 14/150\n",
      " - 1s - loss: 2.2751 - acc: 0.2217 - val_loss: 2.2762 - val_acc: 0.2280\n",
      "Epoch 15/150\n",
      " - 1s - loss: 2.2733 - acc: 0.2250 - val_loss: 2.2729 - val_acc: 0.1992\n",
      "Epoch 16/150\n",
      " - 1s - loss: 2.2678 - acc: 0.2483 - val_loss: 2.2667 - val_acc: 0.2634\n",
      "Epoch 17/150\n",
      " - 1s - loss: 2.2609 - acc: 0.2450 - val_loss: 2.2657 - val_acc: 0.2096\n",
      "Epoch 18/150\n",
      " - 0s - loss: 2.2568 - acc: 0.2600 - val_loss: 2.2554 - val_acc: 0.4100\n",
      "Epoch 19/150\n",
      " - 1s - loss: 2.2498 - acc: 0.2967 - val_loss: 2.2488 - val_acc: 0.3640\n",
      "Epoch 20/150\n",
      " - 1s - loss: 2.2437 - acc: 0.2950 - val_loss: 2.2437 - val_acc: 0.2896\n",
      "Epoch 21/150\n",
      " - 1s - loss: 2.2348 - acc: 0.2683 - val_loss: 2.2355 - val_acc: 0.3522\n",
      "Epoch 22/150\n",
      " - 1s - loss: 2.2236 - acc: 0.2917 - val_loss: 2.2247 - val_acc: 0.2398\n",
      "Epoch 23/150\n",
      " - 1s - loss: 2.2122 - acc: 0.3483 - val_loss: 2.2109 - val_acc: 0.2086\n",
      "Epoch 24/150\n",
      " - 1s - loss: 2.1944 - acc: 0.3150 - val_loss: 2.1859 - val_acc: 0.3824\n",
      "Epoch 25/150\n",
      " - 1s - loss: 2.1839 - acc: 0.3500 - val_loss: 2.1682 - val_acc: 0.5638\n",
      "Epoch 26/150\n",
      " - 1s - loss: 2.1631 - acc: 0.3800 - val_loss: 2.1528 - val_acc: 0.4336\n",
      "Epoch 27/150\n",
      " - 0s - loss: 2.1421 - acc: 0.3883 - val_loss: 2.1402 - val_acc: 0.2810\n",
      "Epoch 28/150\n",
      " - 1s - loss: 2.1253 - acc: 0.3567 - val_loss: 2.1093 - val_acc: 0.3580\n",
      "Epoch 29/150\n",
      " - 1s - loss: 2.1009 - acc: 0.4200 - val_loss: 2.0870 - val_acc: 0.3048\n",
      "Epoch 30/150\n",
      " - 1s - loss: 2.0771 - acc: 0.4467 - val_loss: 2.0595 - val_acc: 0.4474\n",
      "Epoch 31/150\n",
      " - 1s - loss: 2.0445 - acc: 0.4700 - val_loss: 2.0283 - val_acc: 0.4654\n",
      "Epoch 32/150\n",
      " - 1s - loss: 2.0133 - acc: 0.4783 - val_loss: 1.9921 - val_acc: 0.4890\n",
      "Epoch 33/150\n",
      " - 1s - loss: 1.9761 - acc: 0.4933 - val_loss: 1.9933 - val_acc: 0.3238\n",
      "Epoch 34/150\n",
      " - 1s - loss: 1.9377 - acc: 0.5117 - val_loss: 1.9376 - val_acc: 0.4518\n",
      "Epoch 35/150\n",
      " - 1s - loss: 1.9047 - acc: 0.5267 - val_loss: 1.8830 - val_acc: 0.4592\n",
      "Epoch 36/150\n",
      " - 1s - loss: 1.8522 - acc: 0.5333 - val_loss: 1.8379 - val_acc: 0.5408\n",
      "Epoch 37/150\n",
      " - 1s - loss: 1.8104 - acc: 0.5350 - val_loss: 1.8107 - val_acc: 0.5020\n",
      "Epoch 38/150\n",
      " - 1s - loss: 1.7703 - acc: 0.5767 - val_loss: 1.7439 - val_acc: 0.6130\n",
      "Epoch 39/150\n",
      " - 1s - loss: 1.7226 - acc: 0.5850 - val_loss: 1.6879 - val_acc: 0.6304\n",
      "Epoch 40/150\n",
      " - 1s - loss: 1.6829 - acc: 0.5833 - val_loss: 1.6375 - val_acc: 0.6854\n",
      "Epoch 41/150\n",
      " - 1s - loss: 1.6352 - acc: 0.6250 - val_loss: 1.6077 - val_acc: 0.6584\n",
      "Epoch 42/150\n",
      " - 1s - loss: 1.5888 - acc: 0.6350 - val_loss: 1.5568 - val_acc: 0.6352\n",
      "Epoch 43/150\n",
      " - 1s - loss: 1.5418 - acc: 0.6367 - val_loss: 1.5032 - val_acc: 0.7062\n",
      "Epoch 44/150\n",
      " - 1s - loss: 1.4946 - acc: 0.6717 - val_loss: 1.4510 - val_acc: 0.7192\n",
      "Epoch 45/150\n",
      " - 1s - loss: 1.4556 - acc: 0.6483 - val_loss: 1.4553 - val_acc: 0.5714\n",
      "Epoch 46/150\n",
      " - 1s - loss: 1.4133 - acc: 0.6650 - val_loss: 1.4205 - val_acc: 0.6424\n",
      "Epoch 47/150\n",
      " - 1s - loss: 1.3679 - acc: 0.6433 - val_loss: 1.3446 - val_acc: 0.7008\n",
      "Epoch 48/150\n",
      " - 1s - loss: 1.3295 - acc: 0.6783 - val_loss: 1.3838 - val_acc: 0.5874\n",
      "Epoch 49/150\n",
      " - 1s - loss: 1.3027 - acc: 0.6817 - val_loss: 1.2985 - val_acc: 0.6946\n",
      "Epoch 50/150\n",
      " - 1s - loss: 1.2507 - acc: 0.7033 - val_loss: 1.2307 - val_acc: 0.7254\n",
      "Epoch 51/150\n",
      " - 1s - loss: 1.2125 - acc: 0.7017 - val_loss: 1.2142 - val_acc: 0.6906\n",
      "Epoch 52/150\n",
      " - 1s - loss: 1.1835 - acc: 0.6767 - val_loss: 1.1760 - val_acc: 0.6930\n",
      "Epoch 53/150\n",
      " - 0s - loss: 1.1569 - acc: 0.7100 - val_loss: 1.1489 - val_acc: 0.7282\n",
      "Epoch 54/150\n",
      " - 1s - loss: 1.1293 - acc: 0.7033 - val_loss: 1.1282 - val_acc: 0.6726\n",
      "Epoch 55/150\n",
      " - 1s - loss: 1.0984 - acc: 0.7033 - val_loss: 1.1532 - val_acc: 0.6180\n",
      "Epoch 56/150\n",
      " - 1s - loss: 1.0754 - acc: 0.7067 - val_loss: 1.0461 - val_acc: 0.7380\n",
      "Epoch 57/150\n",
      " - 1s - loss: 1.0499 - acc: 0.7133 - val_loss: 1.0158 - val_acc: 0.7472\n",
      "Epoch 58/150\n",
      " - 1s - loss: 1.0137 - acc: 0.7350 - val_loss: 1.0858 - val_acc: 0.6870\n",
      "Epoch 59/150\n",
      " - 1s - loss: 0.9977 - acc: 0.7367 - val_loss: 0.9911 - val_acc: 0.7260\n",
      "Epoch 60/150\n",
      " - 1s - loss: 0.9786 - acc: 0.7233 - val_loss: 1.0276 - val_acc: 0.6832\n",
      "Epoch 61/150\n",
      " - 1s - loss: 0.9710 - acc: 0.7217 - val_loss: 1.0070 - val_acc: 0.7168\n",
      "Epoch 62/150\n",
      " - 0s - loss: 0.9400 - acc: 0.7350 - val_loss: 0.9550 - val_acc: 0.7326\n",
      "Epoch 63/150\n",
      " - 1s - loss: 0.9302 - acc: 0.7367 - val_loss: 1.0209 - val_acc: 0.6860\n",
      "Epoch 64/150\n",
      " - 1s - loss: 0.9085 - acc: 0.7483 - val_loss: 0.8812 - val_acc: 0.7762\n",
      "Epoch 65/150\n",
      " - 1s - loss: 0.8893 - acc: 0.7717 - val_loss: 0.8786 - val_acc: 0.7648\n",
      "Epoch 66/150\n",
      " - 1s - loss: 0.8750 - acc: 0.7350 - val_loss: 0.9301 - val_acc: 0.7172\n",
      "Epoch 67/150\n",
      " - 1s - loss: 0.8464 - acc: 0.7550 - val_loss: 0.8413 - val_acc: 0.7606\n",
      "Epoch 68/150\n",
      " - 1s - loss: 0.8430 - acc: 0.7583 - val_loss: 0.9036 - val_acc: 0.7402\n",
      "Epoch 69/150\n",
      " - 1s - loss: 0.8054 - acc: 0.7733 - val_loss: 0.9203 - val_acc: 0.6914\n",
      "Epoch 70/150\n",
      " - 1s - loss: 0.8324 - acc: 0.7683 - val_loss: 0.7974 - val_acc: 0.7810\n",
      "Epoch 71/150\n",
      " - 0s - loss: 0.7981 - acc: 0.7583 - val_loss: 0.9203 - val_acc: 0.7086\n",
      "Epoch 72/150\n",
      " - 1s - loss: 0.7993 - acc: 0.7550 - val_loss: 0.8446 - val_acc: 0.7326\n",
      "Epoch 73/150\n",
      " - 1s - loss: 0.7742 - acc: 0.7683 - val_loss: 0.7813 - val_acc: 0.7684\n",
      "Epoch 74/150\n",
      " - 1s - loss: 0.7666 - acc: 0.7850 - val_loss: 0.7647 - val_acc: 0.7836\n",
      "Epoch 75/150\n",
      " - 1s - loss: 0.7523 - acc: 0.7783 - val_loss: 0.7626 - val_acc: 0.7878\n",
      "Epoch 76/150\n",
      " - 1s - loss: 0.7406 - acc: 0.7867 - val_loss: 0.7557 - val_acc: 0.7800\n",
      "Epoch 77/150\n",
      " - 1s - loss: 0.7288 - acc: 0.7750 - val_loss: 0.7518 - val_acc: 0.7766\n",
      "Epoch 78/150\n",
      " - 1s - loss: 0.7168 - acc: 0.7733 - val_loss: 0.8191 - val_acc: 0.7422\n",
      "Epoch 79/150\n",
      " - 1s - loss: 0.7287 - acc: 0.7917 - val_loss: 0.7474 - val_acc: 0.7826\n",
      "Epoch 80/150\n",
      " - 1s - loss: 0.7141 - acc: 0.7750 - val_loss: 0.7010 - val_acc: 0.7986\n",
      "Epoch 81/150\n",
      " - 1s - loss: 0.6867 - acc: 0.7917 - val_loss: 0.7411 - val_acc: 0.7736\n",
      "Epoch 82/150\n",
      " - 1s - loss: 0.6960 - acc: 0.7933 - val_loss: 0.7252 - val_acc: 0.7882\n",
      "Epoch 83/150\n",
      " - 1s - loss: 0.6723 - acc: 0.7867 - val_loss: 0.7817 - val_acc: 0.7606\n",
      "Epoch 84/150\n",
      " - 1s - loss: 0.6702 - acc: 0.7967 - val_loss: 0.7414 - val_acc: 0.7748\n",
      "Epoch 85/150\n",
      " - 1s - loss: 0.6488 - acc: 0.8033 - val_loss: 0.7067 - val_acc: 0.7940\n",
      "Epoch 86/150\n",
      " - 1s - loss: 0.6782 - acc: 0.7867 - val_loss: 0.6668 - val_acc: 0.8046\n",
      "Epoch 87/150\n",
      " - 1s - loss: 0.6536 - acc: 0.7817 - val_loss: 0.6743 - val_acc: 0.7896\n",
      "Epoch 88/150\n",
      " - 0s - loss: 0.6296 - acc: 0.8050 - val_loss: 0.6606 - val_acc: 0.7998\n",
      "Epoch 89/150\n",
      " - 1s - loss: 0.6343 - acc: 0.8067 - val_loss: 0.6913 - val_acc: 0.7816\n",
      "Epoch 90/150\n",
      " - 1s - loss: 0.6069 - acc: 0.8133 - val_loss: 0.6587 - val_acc: 0.7946\n",
      "Epoch 91/150\n",
      " - 1s - loss: 0.6197 - acc: 0.8117 - val_loss: 0.6538 - val_acc: 0.8034\n",
      "Epoch 92/150\n",
      " - 1s - loss: 0.6141 - acc: 0.7967 - val_loss: 0.7325 - val_acc: 0.7692\n",
      "Epoch 93/150\n",
      " - 1s - loss: 0.5933 - acc: 0.8083 - val_loss: 0.6921 - val_acc: 0.7852\n",
      "Epoch 94/150\n",
      " - 1s - loss: 0.5909 - acc: 0.8200 - val_loss: 0.8353 - val_acc: 0.7162\n",
      "Epoch 95/150\n",
      " - 1s - loss: 0.5807 - acc: 0.8233 - val_loss: 0.6784 - val_acc: 0.7930\n",
      "Epoch 96/150\n",
      " - 1s - loss: 0.5925 - acc: 0.8200 - val_loss: 0.6507 - val_acc: 0.8040\n"
     ]
    },
    {
     "name": "stdout",
     "output_type": "stream",
     "text": [
      "Epoch 97/150\n",
      " - 1s - loss: 0.5716 - acc: 0.8300 - val_loss: 0.6518 - val_acc: 0.7974\n",
      "Epoch 98/150\n",
      " - 1s - loss: 0.5910 - acc: 0.8250 - val_loss: 0.6262 - val_acc: 0.8040\n",
      "Epoch 99/150\n",
      " - 1s - loss: 0.5465 - acc: 0.8317 - val_loss: 0.6526 - val_acc: 0.8036\n",
      "Epoch 100/150\n",
      " - 1s - loss: 0.5537 - acc: 0.8217 - val_loss: 0.6293 - val_acc: 0.7982\n",
      "Epoch 101/150\n",
      " - 1s - loss: 0.5565 - acc: 0.8267 - val_loss: 0.5794 - val_acc: 0.8204\n",
      "Epoch 102/150\n",
      " - 1s - loss: 0.5407 - acc: 0.8317 - val_loss: 0.6587 - val_acc: 0.7878\n",
      "Epoch 103/150\n",
      " - 1s - loss: 0.5734 - acc: 0.8217 - val_loss: 0.6251 - val_acc: 0.8068\n",
      "Epoch 104/150\n",
      " - 1s - loss: 0.5205 - acc: 0.8500 - val_loss: 0.5958 - val_acc: 0.8212\n",
      "Epoch 105/150\n",
      " - 1s - loss: 0.5219 - acc: 0.8533 - val_loss: 0.6130 - val_acc: 0.8040\n",
      "Epoch 106/150\n",
      " - 1s - loss: 0.5144 - acc: 0.8333 - val_loss: 0.5871 - val_acc: 0.8172\n",
      "Epoch 107/150\n",
      " - 1s - loss: 0.5346 - acc: 0.8417 - val_loss: 0.5860 - val_acc: 0.8194\n",
      "Epoch 108/150\n",
      " - 1s - loss: 0.5282 - acc: 0.8400 - val_loss: 0.5565 - val_acc: 0.8322\n",
      "Epoch 109/150\n",
      " - 1s - loss: 0.5067 - acc: 0.8367 - val_loss: 0.5854 - val_acc: 0.8186\n",
      "Epoch 110/150\n",
      " - 1s - loss: 0.4927 - acc: 0.8517 - val_loss: 0.6148 - val_acc: 0.8022\n",
      "Epoch 111/150\n",
      " - 1s - loss: 0.5059 - acc: 0.8500 - val_loss: 0.5752 - val_acc: 0.8248\n",
      "Epoch 112/150\n",
      " - 1s - loss: 0.5079 - acc: 0.8433 - val_loss: 0.5678 - val_acc: 0.8288\n",
      "Epoch 113/150\n",
      " - 1s - loss: 0.4628 - acc: 0.8550 - val_loss: 0.5813 - val_acc: 0.8102\n",
      "Epoch 114/150\n",
      " - 1s - loss: 0.4902 - acc: 0.8533 - val_loss: 0.5472 - val_acc: 0.8336\n",
      "Epoch 115/150\n",
      " - 1s - loss: 0.4593 - acc: 0.8533 - val_loss: 0.5343 - val_acc: 0.8366\n",
      "Epoch 116/150\n",
      " - 1s - loss: 0.4836 - acc: 0.8483 - val_loss: 0.6342 - val_acc: 0.8036\n",
      "Epoch 117/150\n",
      " - 1s - loss: 0.4864 - acc: 0.8483 - val_loss: 0.5722 - val_acc: 0.8184\n",
      "Epoch 118/150\n",
      " - 1s - loss: 0.4525 - acc: 0.8650 - val_loss: 0.6121 - val_acc: 0.8016\n",
      "Epoch 119/150\n",
      " - 1s - loss: 0.4503 - acc: 0.8700 - val_loss: 0.7975 - val_acc: 0.7352\n",
      "Epoch 120/150\n",
      " - 1s - loss: 0.4696 - acc: 0.8583 - val_loss: 0.5580 - val_acc: 0.8308\n",
      "Epoch 121/150\n",
      " - 1s - loss: 0.4334 - acc: 0.8633 - val_loss: 0.5543 - val_acc: 0.8296\n",
      "Epoch 122/150\n",
      " - 1s - loss: 0.4398 - acc: 0.8683 - val_loss: 0.5135 - val_acc: 0.8424\n",
      "Epoch 123/150\n",
      " - 1s - loss: 0.4404 - acc: 0.8717 - val_loss: 0.5140 - val_acc: 0.8446\n",
      "Epoch 124/150\n",
      " - 1s - loss: 0.4388 - acc: 0.8667 - val_loss: 0.6855 - val_acc: 0.7708\n",
      "Epoch 125/150\n",
      " - 1s - loss: 0.4340 - acc: 0.8667 - val_loss: 0.5120 - val_acc: 0.8428\n",
      "Epoch 126/150\n",
      " - 1s - loss: 0.4250 - acc: 0.8683 - val_loss: 0.5368 - val_acc: 0.8370\n",
      "Epoch 127/150\n",
      " - 1s - loss: 0.4529 - acc: 0.8517 - val_loss: 0.5310 - val_acc: 0.8356\n",
      "Epoch 128/150\n",
      " - 1s - loss: 0.4091 - acc: 0.8650 - val_loss: 0.5313 - val_acc: 0.8346\n",
      "Epoch 129/150\n",
      " - 1s - loss: 0.4084 - acc: 0.8833 - val_loss: 0.5036 - val_acc: 0.8476\n",
      "Epoch 130/150\n",
      " - 1s - loss: 0.4064 - acc: 0.8783 - val_loss: 0.5149 - val_acc: 0.8464\n",
      "Epoch 131/150\n",
      " - 1s - loss: 0.4188 - acc: 0.8700 - val_loss: 0.5296 - val_acc: 0.8320\n",
      "Epoch 132/150\n",
      " - 1s - loss: 0.4049 - acc: 0.8717 - val_loss: 0.5138 - val_acc: 0.8386\n",
      "Epoch 133/150\n",
      " - 1s - loss: 0.4020 - acc: 0.8767 - val_loss: 0.5298 - val_acc: 0.8282\n",
      "Epoch 134/150\n",
      " - 1s - loss: 0.4002 - acc: 0.8633 - val_loss: 0.5200 - val_acc: 0.8408\n",
      "Epoch 135/150\n",
      " - 1s - loss: 0.3858 - acc: 0.8850 - val_loss: 0.5192 - val_acc: 0.8362\n",
      "Epoch 136/150\n",
      " - 1s - loss: 0.4054 - acc: 0.8733 - val_loss: 0.5123 - val_acc: 0.8366\n",
      "Epoch 137/150\n",
      " - 1s - loss: 0.3911 - acc: 0.8733 - val_loss: 0.5094 - val_acc: 0.8436\n",
      "Epoch 138/150\n",
      " - 1s - loss: 0.3701 - acc: 0.8800 - val_loss: 0.5863 - val_acc: 0.8178\n",
      "Epoch 139/150\n",
      " - 1s - loss: 0.3932 - acc: 0.8700 - val_loss: 0.5335 - val_acc: 0.8360\n",
      "Epoch 140/150\n",
      " - 1s - loss: 0.3749 - acc: 0.8867 - val_loss: 0.5087 - val_acc: 0.8418\n",
      "Epoch 141/150\n",
      " - 1s - loss: 0.3618 - acc: 0.8933 - val_loss: 0.5104 - val_acc: 0.8474\n",
      "Epoch 142/150\n",
      " - 1s - loss: 0.3797 - acc: 0.8850 - val_loss: 0.5144 - val_acc: 0.8442\n",
      "Epoch 143/150\n",
      " - 1s - loss: 0.3634 - acc: 0.8867 - val_loss: 0.4786 - val_acc: 0.8550\n",
      "Epoch 144/150\n",
      " - 1s - loss: 0.3610 - acc: 0.8917 - val_loss: 0.5235 - val_acc: 0.8414\n",
      "Epoch 145/150\n",
      " - 1s - loss: 0.3492 - acc: 0.8967 - val_loss: 0.5033 - val_acc: 0.8452\n",
      "Epoch 146/150\n",
      " - 1s - loss: 0.3553 - acc: 0.9033 - val_loss: 0.4838 - val_acc: 0.8532\n",
      "Epoch 147/150\n",
      " - 1s - loss: 0.3521 - acc: 0.8900 - val_loss: 0.5217 - val_acc: 0.8332\n",
      "Epoch 148/150\n",
      " - 1s - loss: 0.3444 - acc: 0.8950 - val_loss: 0.4832 - val_acc: 0.8506\n",
      "Epoch 149/150\n",
      " - 1s - loss: 0.3422 - acc: 0.8983 - val_loss: 0.5432 - val_acc: 0.8344\n",
      "Epoch 150/150\n",
      " - 1s - loss: 0.3346 - acc: 0.8950 - val_loss: 0.4980 - val_acc: 0.8490\n"
     ]
    }
   ],
   "source": [
    "history = cnnmodel.fit(x_train, y_train,\n",
    "                       batch_size=batch_size, \n",
    "                       epochs=3*epochs,\n",
    "                       verbose=2,\n",
    "                       validation_data=(x_test, y_test))"
   ]
  },
  {
   "cell_type": "code",
   "execution_count": 33,
   "metadata": {
    "scrolled": true,
    "slideshow": {
     "slide_type": "subslide"
    }
   },
   "outputs": [
    {
     "data": {
      "image/png": "[encoded data removed]",
      "text/plain": [
       "<Figure size 1080x360 with 2 Axes>"
      ]
     },
     "metadata": {
      "needs_background": "light"
     },
     "output_type": "display_data"
    }
   ],
   "source": [
    "histplot(history)"
   ]
  },
  {
   "cell_type": "markdown",
   "metadata": {
    "slideshow": {
     "slide_type": "slide"
    }
   },
   "source": [
    "## Online data augmentation"
   ]
  },
  {
   "cell_type": "code",
   "execution_count": 34,
   "metadata": {
    "slideshow": {
     "slide_type": "fragment"
    }
   },
   "outputs": [],
   "source": [
    "from tensorflow.keras.preprocessing.image import ImageDataGenerator\n",
    "\n",
    "datagen = ImageDataGenerator(\n",
    "    rotation_range=10,\n",
    "    width_shift_range=0.05,\n",
    "    height_shift_range=0.05,\n",
    "    shear_range=20.0,\n",
    "    zoom_range=0.05)\n",
    "\n",
    "#datagen.fit(x_train)  # only required if normalizing"
   ]
  },
  {
   "cell_type": "code",
   "execution_count": 35,
   "metadata": {
    "slideshow": {
     "slide_type": "subslide"
    }
   },
   "outputs": [],
   "source": [
    "gen = datagen.flow(x_train, y_train, batch_size=1)"
   ]
  },
  {
   "cell_type": "code",
   "execution_count": 36,
   "metadata": {
    "slideshow": {
     "slide_type": "fragment"
    }
   },
   "outputs": [
    {
     "name": "stdout",
     "output_type": "stream",
     "text": [
      "label = 4\n"
     ]
    },
    {
     "data": {
      "image/png": "[encoded data removed]",
      "text/plain": [
       "<Figure size 432x288 with 5 Axes>"
      ]
     },
     "metadata": {
      "needs_background": "light"
     },
     "output_type": "display_data"
    }
   ],
   "source": [
    "# run this several times to see more augmented examples\n",
    "i = 3\n",
    "fig, axarr = plt.subplots(1, 5)\n",
    "for ax in axarr:\n",
    "    img = gen[i][0][0, : , :, 0]\n",
    "    ax.imshow(img, cmap='gray');\n",
    "    ax.axis('off')\n",
    "print('label =', gen[i][1][0].argmax())"
   ]
  },
  {
   "cell_type": "code",
   "execution_count": 37,
   "metadata": {
    "slideshow": {
     "slide_type": "subslide"
    }
   },
   "outputs": [
    {
     "data": {
      "text/plain": [
       "<tensorflow.python.training.checkpointable.util.CheckpointLoadStatus at 0x7f6f04ef9860>"
      ]
     },
     "execution_count": 37,
     "metadata": {},
     "output_type": "execute_result"
    }
   ],
   "source": [
    "# Reinitialise model\n",
    "cnnmodel.load_weights('/tmp/cnnmodel_init_weights.tf')"
   ]
  },
  {
   "cell_type": "code",
   "execution_count": 38,
   "metadata": {
    "slideshow": {
     "slide_type": "fragment"
    }
   },
   "outputs": [],
   "source": [
    "cnnmodel.compile(loss='categorical_crossentropy',\n",
    "                 optimizer=RMSprop(),\n",
    "                 metrics=['accuracy'])"
   ]
  },
  {
   "cell_type": "code",
   "execution_count": 39,
   "metadata": {
    "slideshow": {
     "slide_type": "subslide"
    }
   },
   "outputs": [
    {
     "name": "stdout",
     "output_type": "stream",
     "text": [
      "Epoch 1/500\n",
      " - 2s - loss: 2.3487 - acc: 0.0861 - val_loss: 2.3039 - val_acc: 0.1126\n",
      "Epoch 2/500\n",
      " - 1s - loss: 2.3059 - acc: 0.1174 - val_loss: 2.3052 - val_acc: 0.1042\n",
      "Epoch 3/500\n",
      " - 1s - loss: 2.3056 - acc: 0.1014 - val_loss: 2.3015 - val_acc: 0.1130\n",
      "Epoch 4/500\n",
      " - 1s - loss: 2.3007 - acc: 0.1020 - val_loss: 2.2992 - val_acc: 0.1170\n",
      "Epoch 5/500\n",
      " - 1s - loss: 2.2991 - acc: 0.1085 - val_loss: 2.3050 - val_acc: 0.1090\n",
      "Epoch 6/500\n",
      " - 1s - loss: 2.2989 - acc: 0.1261 - val_loss: 2.3008 - val_acc: 0.1500\n",
      "Epoch 7/500\n",
      " - 1s - loss: 2.2974 - acc: 0.1217 - val_loss: 2.2966 - val_acc: 0.1650\n",
      "Epoch 8/500\n",
      " - 1s - loss: 2.2953 - acc: 0.1464 - val_loss: 2.2955 - val_acc: 0.1220\n",
      "Epoch 9/500\n",
      " - 1s - loss: 2.2970 - acc: 0.1327 - val_loss: 2.2924 - val_acc: 0.2192\n",
      "Epoch 10/500\n",
      " - 1s - loss: 2.2927 - acc: 0.1432 - val_loss: 2.2913 - val_acc: 0.2548\n",
      "Epoch 11/500\n",
      " - 1s - loss: 2.2917 - acc: 0.1601 - val_loss: 2.2893 - val_acc: 0.2330\n",
      "Epoch 12/500\n",
      " - 1s - loss: 2.2901 - acc: 0.1682 - val_loss: 2.2900 - val_acc: 0.1436\n",
      "Epoch 13/500\n",
      " - 1s - loss: 2.2880 - acc: 0.1787 - val_loss: 2.2847 - val_acc: 0.2180\n",
      "Epoch 14/500\n",
      " - 1s - loss: 2.2846 - acc: 0.1858 - val_loss: 2.2827 - val_acc: 0.2322\n",
      "Epoch 15/500\n",
      " - 1s - loss: 2.2835 - acc: 0.1859 - val_loss: 2.2820 - val_acc: 0.2312\n",
      "Epoch 16/500\n",
      " - 1s - loss: 2.2798 - acc: 0.1913 - val_loss: 2.2778 - val_acc: 0.2918\n",
      "Epoch 17/500\n",
      " - 1s - loss: 2.2769 - acc: 0.2424 - val_loss: 2.2717 - val_acc: 0.3278\n",
      "Epoch 18/500\n",
      " - 1s - loss: 2.2706 - acc: 0.2139 - val_loss: 2.2651 - val_acc: 0.3572\n",
      "Epoch 19/500\n",
      " - 1s - loss: 2.2713 - acc: 0.2361 - val_loss: 2.2622 - val_acc: 0.3300\n",
      "Epoch 20/500\n",
      " - 1s - loss: 2.2633 - acc: 0.2757 - val_loss: 2.2580 - val_acc: 0.3588\n",
      "Epoch 21/500\n",
      " - 1s - loss: 2.2597 - acc: 0.2379 - val_loss: 2.2479 - val_acc: 0.3492\n",
      "Epoch 22/500\n",
      " - 1s - loss: 2.2547 - acc: 0.2516 - val_loss: 2.2441 - val_acc: 0.3240\n",
      "Epoch 23/500\n",
      " - 1s - loss: 2.2456 - acc: 0.2959 - val_loss: 2.2325 - val_acc: 0.3978\n",
      "Epoch 24/500\n",
      " - 1s - loss: 2.2404 - acc: 0.2977 - val_loss: 2.2327 - val_acc: 0.3092\n",
      "Epoch 25/500\n",
      " - 1s - loss: 2.2306 - acc: 0.2916 - val_loss: 2.2169 - val_acc: 0.3112\n",
      "Epoch 26/500\n",
      " - 1s - loss: 2.2224 - acc: 0.3109 - val_loss: 2.2059 - val_acc: 0.3422\n",
      "Epoch 27/500\n",
      " - 1s - loss: 2.2122 - acc: 0.3053 - val_loss: 2.1908 - val_acc: 0.3690\n",
      "Epoch 28/500\n",
      " - 1s - loss: 2.2053 - acc: 0.3213 - val_loss: 2.1750 - val_acc: 0.4174\n",
      "Epoch 29/500\n",
      " - 1s - loss: 2.1909 - acc: 0.3333 - val_loss: 2.1557 - val_acc: 0.4636\n",
      "Epoch 30/500\n",
      " - 1s - loss: 2.1758 - acc: 0.3601 - val_loss: 2.1360 - val_acc: 0.4746\n",
      "Epoch 31/500\n",
      " - 1s - loss: 2.1518 - acc: 0.3581 - val_loss: 2.1176 - val_acc: 0.4078\n",
      "Epoch 32/500\n",
      " - 1s - loss: 2.1427 - acc: 0.3559 - val_loss: 2.1139 - val_acc: 0.3572\n",
      "Epoch 33/500\n",
      " - 1s - loss: 2.1200 - acc: 0.3603 - val_loss: 2.0668 - val_acc: 0.4356\n",
      "Epoch 34/500\n",
      " - 1s - loss: 2.0989 - acc: 0.3602 - val_loss: 2.0494 - val_acc: 0.4372\n",
      "Epoch 35/500\n",
      " - 1s - loss: 2.0821 - acc: 0.3968 - val_loss: 2.0147 - val_acc: 0.5048\n",
      "Epoch 36/500\n",
      " - 1s - loss: 2.0585 - acc: 0.4063 - val_loss: 1.9909 - val_acc: 0.4612\n",
      "Epoch 37/500\n",
      " - 1s - loss: 2.0397 - acc: 0.4250 - val_loss: 1.9517 - val_acc: 0.5244\n",
      "Epoch 38/500\n",
      " - 1s - loss: 2.0101 - acc: 0.4134 - val_loss: 1.9229 - val_acc: 0.5512\n",
      "Epoch 39/500\n",
      " - 1s - loss: 1.9916 - acc: 0.4287 - val_loss: 1.8923 - val_acc: 0.5470\n",
      "Epoch 40/500\n",
      " - 1s - loss: 1.9614 - acc: 0.4310 - val_loss: 1.8618 - val_acc: 0.6052\n",
      "Epoch 41/500\n",
      " - 1s - loss: 1.9392 - acc: 0.4369 - val_loss: 1.8269 - val_acc: 0.5448\n",
      "Epoch 42/500\n",
      " - 1s - loss: 1.8922 - acc: 0.4885 - val_loss: 1.7862 - val_acc: 0.5794\n",
      "Epoch 43/500\n",
      " - 1s - loss: 1.8573 - acc: 0.4896 - val_loss: 1.7680 - val_acc: 0.4754\n",
      "Epoch 44/500\n",
      " - 1s - loss: 1.8298 - acc: 0.5001 - val_loss: 1.7178 - val_acc: 0.5374\n",
      "Epoch 45/500\n",
      " - 1s - loss: 1.7948 - acc: 0.5192 - val_loss: 1.7041 - val_acc: 0.5086\n",
      "Epoch 46/500\n",
      " - 1s - loss: 1.7689 - acc: 0.5182 - val_loss: 1.6198 - val_acc: 0.6642\n",
      "Epoch 47/500\n",
      " - 1s - loss: 1.7400 - acc: 0.5197 - val_loss: 1.5989 - val_acc: 0.6064\n",
      "Epoch 48/500\n",
      " - 1s - loss: 1.6927 - acc: 0.5349 - val_loss: 1.5493 - val_acc: 0.6584\n",
      "Epoch 49/500\n",
      " - 1s - loss: 1.6671 - acc: 0.5385 - val_loss: 1.5088 - val_acc: 0.6622\n",
      "Epoch 50/500\n",
      " - 1s - loss: 1.6350 - acc: 0.5724 - val_loss: 1.5103 - val_acc: 0.5624\n",
      "Epoch 51/500\n",
      " - 1s - loss: 1.6112 - acc: 0.5521 - val_loss: 1.4511 - val_acc: 0.6598\n",
      "Epoch 52/500\n",
      " - 1s - loss: 1.6035 - acc: 0.5302 - val_loss: 1.3906 - val_acc: 0.6984\n",
      "Epoch 53/500\n",
      " - 1s - loss: 1.5614 - acc: 0.5597 - val_loss: 1.3526 - val_acc: 0.6942\n",
      "Epoch 54/500\n",
      " - 1s - loss: 1.5395 - acc: 0.5641 - val_loss: 1.3643 - val_acc: 0.6400\n",
      "Epoch 55/500\n",
      " - 1s - loss: 1.5415 - acc: 0.5774 - val_loss: 1.2982 - val_acc: 0.7152\n",
      "Epoch 56/500\n",
      " - 1s - loss: 1.4859 - acc: 0.5690 - val_loss: 1.3213 - val_acc: 0.6372\n",
      "Epoch 57/500\n",
      " - 1s - loss: 1.4381 - acc: 0.5702 - val_loss: 1.2316 - val_acc: 0.7346\n",
      "Epoch 58/500\n",
      " - 1s - loss: 1.4217 - acc: 0.6085 - val_loss: 1.2086 - val_acc: 0.7086\n",
      "Epoch 59/500\n",
      " - 1s - loss: 1.4104 - acc: 0.6179 - val_loss: 1.1834 - val_acc: 0.7162\n",
      "Epoch 60/500\n",
      " - 1s - loss: 1.3676 - acc: 0.6036 - val_loss: 1.1607 - val_acc: 0.7448\n",
      "Epoch 61/500\n",
      " - 1s - loss: 1.3601 - acc: 0.6150 - val_loss: 1.1844 - val_acc: 0.6854\n",
      "Epoch 62/500\n",
      " - 1s - loss: 1.3301 - acc: 0.6201 - val_loss: 1.1332 - val_acc: 0.6850\n",
      "Epoch 63/500\n",
      " - 0s - loss: 1.3067 - acc: 0.6393 - val_loss: 1.1414 - val_acc: 0.6924\n",
      "Epoch 64/500\n",
      " - 1s - loss: 1.3467 - acc: 0.5878 - val_loss: 1.0839 - val_acc: 0.7468\n",
      "Epoch 65/500\n",
      " - 1s - loss: 1.3159 - acc: 0.6221 - val_loss: 1.0510 - val_acc: 0.7342\n",
      "Epoch 66/500\n",
      " - 1s - loss: 1.2646 - acc: 0.6107 - val_loss: 1.0367 - val_acc: 0.7280\n",
      "Epoch 67/500\n",
      " - 1s - loss: 1.2453 - acc: 0.6168 - val_loss: 1.0170 - val_acc: 0.7448\n",
      "Epoch 68/500\n",
      " - 1s - loss: 1.2428 - acc: 0.6151 - val_loss: 1.0424 - val_acc: 0.6968\n",
      "Epoch 69/500\n",
      " - 1s - loss: 1.2187 - acc: 0.6305 - val_loss: 0.9980 - val_acc: 0.7188\n",
      "Epoch 70/500\n",
      " - 1s - loss: 1.2091 - acc: 0.6551 - val_loss: 1.0071 - val_acc: 0.7088\n",
      "Epoch 71/500\n",
      " - 1s - loss: 1.1925 - acc: 0.6540 - val_loss: 1.0190 - val_acc: 0.6830\n",
      "Epoch 72/500\n",
      " - 0s - loss: 1.1965 - acc: 0.6366 - val_loss: 0.9903 - val_acc: 0.7016\n",
      "Epoch 73/500\n",
      " - 1s - loss: 1.1887 - acc: 0.6398 - val_loss: 0.9266 - val_acc: 0.7534\n",
      "Epoch 74/500\n",
      " - 1s - loss: 1.1639 - acc: 0.6458 - val_loss: 0.9386 - val_acc: 0.7544\n",
      "Epoch 75/500\n",
      " - 1s - loss: 1.1275 - acc: 0.6536 - val_loss: 0.9068 - val_acc: 0.7596\n",
      "Epoch 76/500\n",
      " - 1s - loss: 1.1667 - acc: 0.6277 - val_loss: 0.8933 - val_acc: 0.7768\n",
      "Epoch 77/500\n",
      " - 1s - loss: 1.1483 - acc: 0.6464 - val_loss: 0.9071 - val_acc: 0.7570\n",
      "Epoch 78/500\n",
      " - 1s - loss: 1.1669 - acc: 0.6441 - val_loss: 0.8882 - val_acc: 0.7632\n",
      "Epoch 79/500\n",
      " - 1s - loss: 1.1255 - acc: 0.6629 - val_loss: 0.8992 - val_acc: 0.7264\n",
      "Epoch 80/500\n",
      " - 1s - loss: 1.1507 - acc: 0.6305 - val_loss: 0.8592 - val_acc: 0.7598\n",
      "Epoch 81/500\n",
      " - 0s - loss: 1.1375 - acc: 0.6403 - val_loss: 0.8862 - val_acc: 0.7540\n",
      "Epoch 82/500\n",
      " - 1s - loss: 1.0566 - acc: 0.6825 - val_loss: 0.8246 - val_acc: 0.7836\n",
      "Epoch 83/500\n",
      " - 1s - loss: 1.1075 - acc: 0.6409 - val_loss: 0.8278 - val_acc: 0.7720\n",
      "Epoch 84/500\n",
      " - 1s - loss: 1.0448 - acc: 0.6825 - val_loss: 0.8218 - val_acc: 0.7600\n",
      "Epoch 85/500\n",
      " - 1s - loss: 1.0908 - acc: 0.6430 - val_loss: 0.8007 - val_acc: 0.7794\n",
      "Epoch 86/500\n",
      " - 1s - loss: 1.0952 - acc: 0.6590 - val_loss: 0.8100 - val_acc: 0.7770\n",
      "Epoch 87/500\n",
      " - 1s - loss: 1.0433 - acc: 0.6891 - val_loss: 0.8146 - val_acc: 0.7548\n",
      "Epoch 88/500\n",
      " - 1s - loss: 1.0532 - acc: 0.6925 - val_loss: 0.7889 - val_acc: 0.7884\n",
      "Epoch 89/500\n",
      " - 1s - loss: 1.0498 - acc: 0.6684 - val_loss: 0.7712 - val_acc: 0.7934\n",
      "Epoch 90/500\n",
      " - 1s - loss: 1.0524 - acc: 0.6715 - val_loss: 0.7765 - val_acc: 0.7892\n",
      "Epoch 91/500\n",
      " - 1s - loss: 1.0372 - acc: 0.6616 - val_loss: 0.7651 - val_acc: 0.7874\n",
      "Epoch 92/500\n",
      " - 1s - loss: 1.0131 - acc: 0.6749 - val_loss: 0.7579 - val_acc: 0.7898\n",
      "Epoch 93/500\n",
      " - 1s - loss: 1.0305 - acc: 0.6914 - val_loss: 0.7494 - val_acc: 0.7834\n",
      "Epoch 94/500\n",
      " - 1s - loss: 1.0794 - acc: 0.6629 - val_loss: 0.7518 - val_acc: 0.7920\n",
      "Epoch 95/500\n",
      " - 1s - loss: 0.9714 - acc: 0.7029 - val_loss: 0.7669 - val_acc: 0.7832\n",
      "Epoch 96/500\n",
      " - 1s - loss: 1.0116 - acc: 0.6788 - val_loss: 0.7693 - val_acc: 0.7744\n",
      "Epoch 97/500\n",
      " - 1s - loss: 1.0154 - acc: 0.6815 - val_loss: 0.7297 - val_acc: 0.7854\n"
     ]
    },
    {
     "name": "stdout",
     "output_type": "stream",
     "text": [
      "Epoch 98/500\n",
      " - 1s - loss: 0.9838 - acc: 0.6974 - val_loss: 0.7121 - val_acc: 0.7982\n",
      "Epoch 99/500\n",
      " - 1s - loss: 0.9736 - acc: 0.6929 - val_loss: 0.7086 - val_acc: 0.8044\n",
      "Epoch 100/500\n",
      " - 1s - loss: 0.9738 - acc: 0.6775 - val_loss: 0.7094 - val_acc: 0.8038\n",
      "Epoch 101/500\n",
      " - 1s - loss: 0.9479 - acc: 0.7030 - val_loss: 0.6947 - val_acc: 0.7982\n",
      "Epoch 102/500\n",
      " - 1s - loss: 0.9624 - acc: 0.7104 - val_loss: 0.7558 - val_acc: 0.7602\n",
      "Epoch 103/500\n",
      " - 1s - loss: 0.9473 - acc: 0.6984 - val_loss: 0.7102 - val_acc: 0.7972\n",
      "Epoch 104/500\n",
      " - 1s - loss: 0.9804 - acc: 0.6842 - val_loss: 0.7302 - val_acc: 0.7698\n",
      "Epoch 105/500\n",
      " - 1s - loss: 0.9646 - acc: 0.6771 - val_loss: 0.6969 - val_acc: 0.8058\n",
      "Epoch 106/500\n",
      " - 1s - loss: 0.9691 - acc: 0.6952 - val_loss: 0.6637 - val_acc: 0.8142\n",
      "Epoch 107/500\n",
      " - 1s - loss: 0.9344 - acc: 0.7122 - val_loss: 0.7286 - val_acc: 0.7916\n",
      "Epoch 108/500\n",
      " - 0s - loss: 0.9063 - acc: 0.7182 - val_loss: 0.6969 - val_acc: 0.7856\n",
      "Epoch 109/500\n",
      " - 1s - loss: 0.9630 - acc: 0.6815 - val_loss: 0.6765 - val_acc: 0.8092\n",
      "Epoch 110/500\n",
      " - 1s - loss: 0.9096 - acc: 0.7143 - val_loss: 0.6715 - val_acc: 0.8070\n",
      "Epoch 111/500\n",
      " - 1s - loss: 0.9497 - acc: 0.6820 - val_loss: 0.6932 - val_acc: 0.8048\n",
      "Epoch 112/500\n",
      " - 1s - loss: 0.9130 - acc: 0.6996 - val_loss: 0.6966 - val_acc: 0.7898\n",
      "Epoch 113/500\n",
      " - 1s - loss: 0.8817 - acc: 0.7324 - val_loss: 0.6586 - val_acc: 0.8008\n",
      "Epoch 114/500\n",
      " - 1s - loss: 0.9290 - acc: 0.7024 - val_loss: 0.6632 - val_acc: 0.7968\n",
      "Epoch 115/500\n",
      " - 1s - loss: 0.9294 - acc: 0.7090 - val_loss: 0.6446 - val_acc: 0.8196\n",
      "Epoch 116/500\n",
      " - 1s - loss: 0.9080 - acc: 0.6958 - val_loss: 0.6770 - val_acc: 0.8104\n",
      "Epoch 117/500\n",
      " - 1s - loss: 0.9132 - acc: 0.7024 - val_loss: 0.6852 - val_acc: 0.7810\n",
      "Epoch 118/500\n",
      " - 1s - loss: 0.8765 - acc: 0.7034 - val_loss: 0.6845 - val_acc: 0.7994\n",
      "Epoch 119/500\n",
      " - 1s - loss: 0.9069 - acc: 0.7188 - val_loss: 0.6209 - val_acc: 0.8196\n",
      "Epoch 120/500\n",
      " - 1s - loss: 0.8775 - acc: 0.7413 - val_loss: 0.6153 - val_acc: 0.8206\n",
      "Epoch 121/500\n",
      " - 1s - loss: 0.8471 - acc: 0.7264 - val_loss: 0.6186 - val_acc: 0.8268\n",
      "Epoch 122/500\n",
      " - 1s - loss: 0.9332 - acc: 0.7094 - val_loss: 0.6357 - val_acc: 0.8078\n",
      "Epoch 123/500\n",
      " - 1s - loss: 0.8600 - acc: 0.7357 - val_loss: 0.6030 - val_acc: 0.8266\n",
      "Epoch 124/500\n",
      " - 1s - loss: 0.8694 - acc: 0.7258 - val_loss: 0.5983 - val_acc: 0.8350\n",
      "Epoch 125/500\n",
      " - 1s - loss: 0.8554 - acc: 0.7320 - val_loss: 0.6311 - val_acc: 0.8046\n",
      "Epoch 126/500\n",
      " - 1s - loss: 0.8851 - acc: 0.7008 - val_loss: 0.6341 - val_acc: 0.8206\n",
      "Epoch 127/500\n",
      " - 0s - loss: 0.8211 - acc: 0.7565 - val_loss: 0.6239 - val_acc: 0.8210\n",
      "Epoch 128/500\n",
      " - 1s - loss: 0.8166 - acc: 0.7324 - val_loss: 0.5959 - val_acc: 0.8340\n",
      "Epoch 129/500\n",
      " - 1s - loss: 0.8463 - acc: 0.7368 - val_loss: 0.6272 - val_acc: 0.8056\n",
      "Epoch 130/500\n",
      " - 1s - loss: 0.8653 - acc: 0.7406 - val_loss: 0.5771 - val_acc: 0.8412\n",
      "Epoch 131/500\n",
      " - 1s - loss: 0.8544 - acc: 0.7356 - val_loss: 0.5761 - val_acc: 0.8402\n",
      "Epoch 132/500\n",
      " - 1s - loss: 0.8742 - acc: 0.7166 - val_loss: 0.5867 - val_acc: 0.8320\n",
      "Epoch 133/500\n",
      " - 1s - loss: 0.8789 - acc: 0.7110 - val_loss: 0.5789 - val_acc: 0.8354\n",
      "Epoch 134/500\n",
      " - 1s - loss: 0.8869 - acc: 0.7357 - val_loss: 0.6092 - val_acc: 0.8120\n",
      "Epoch 135/500\n",
      " - 1s - loss: 0.8471 - acc: 0.7386 - val_loss: 0.5686 - val_acc: 0.8300\n",
      "Epoch 136/500\n",
      " - 1s - loss: 0.8044 - acc: 0.7500 - val_loss: 0.5837 - val_acc: 0.8304\n",
      "Epoch 137/500\n",
      " - 1s - loss: 0.8348 - acc: 0.7423 - val_loss: 0.6175 - val_acc: 0.8020\n",
      "Epoch 138/500\n",
      " - 1s - loss: 0.7873 - acc: 0.7594 - val_loss: 0.5690 - val_acc: 0.8388\n",
      "Epoch 139/500\n",
      " - 1s - loss: 0.8194 - acc: 0.7352 - val_loss: 0.6805 - val_acc: 0.7728\n",
      "Epoch 140/500\n",
      " - 1s - loss: 0.7630 - acc: 0.7605 - val_loss: 0.5665 - val_acc: 0.8362\n",
      "Epoch 141/500\n",
      " - 1s - loss: 0.8158 - acc: 0.7396 - val_loss: 0.5861 - val_acc: 0.8202\n",
      "Epoch 142/500\n",
      " - 1s - loss: 0.7687 - acc: 0.7516 - val_loss: 0.5573 - val_acc: 0.8420\n",
      "Epoch 143/500\n",
      " - 1s - loss: 0.7770 - acc: 0.7611 - val_loss: 0.5382 - val_acc: 0.8500\n",
      "Epoch 144/500\n",
      " - 1s - loss: 0.8160 - acc: 0.7510 - val_loss: 0.5515 - val_acc: 0.8408\n",
      "Epoch 145/500\n",
      " - 0s - loss: 0.8008 - acc: 0.7571 - val_loss: 0.6108 - val_acc: 0.8198\n",
      "Epoch 146/500\n",
      " - 1s - loss: 0.7699 - acc: 0.7594 - val_loss: 0.5520 - val_acc: 0.8376\n",
      "Epoch 147/500\n",
      " - 1s - loss: 0.7562 - acc: 0.7581 - val_loss: 0.5226 - val_acc: 0.8542\n",
      "Epoch 148/500\n",
      " - 1s - loss: 0.8596 - acc: 0.7270 - val_loss: 0.5569 - val_acc: 0.8334\n",
      "Epoch 149/500\n",
      " - 1s - loss: 0.7914 - acc: 0.7555 - val_loss: 0.5783 - val_acc: 0.8220\n",
      "Epoch 150/500\n",
      " - 1s - loss: 0.8164 - acc: 0.7204 - val_loss: 0.5591 - val_acc: 0.8344\n",
      "Epoch 151/500\n",
      " - 1s - loss: 0.7535 - acc: 0.7752 - val_loss: 0.5315 - val_acc: 0.8448\n",
      "Epoch 152/500\n",
      " - 1s - loss: 0.7847 - acc: 0.7395 - val_loss: 0.5720 - val_acc: 0.8418\n",
      "Epoch 153/500\n",
      " - 1s - loss: 0.6701 - acc: 0.7828 - val_loss: 0.5789 - val_acc: 0.8296\n",
      "Epoch 154/500\n",
      " - 1s - loss: 0.7913 - acc: 0.7566 - val_loss: 0.5191 - val_acc: 0.8506\n",
      "Epoch 155/500\n",
      " - 1s - loss: 0.7763 - acc: 0.7325 - val_loss: 0.5211 - val_acc: 0.8510\n",
      "Epoch 156/500\n",
      " - 1s - loss: 0.7505 - acc: 0.7763 - val_loss: 0.5656 - val_acc: 0.8242\n",
      "Epoch 157/500\n",
      " - 1s - loss: 0.7684 - acc: 0.7758 - val_loss: 0.5072 - val_acc: 0.8538\n",
      "Epoch 158/500\n",
      " - 1s - loss: 0.7544 - acc: 0.7725 - val_loss: 0.5274 - val_acc: 0.8438\n",
      "Epoch 159/500\n",
      " - 1s - loss: 0.7976 - acc: 0.7500 - val_loss: 0.5016 - val_acc: 0.8630\n",
      "Epoch 160/500\n",
      " - 1s - loss: 0.7076 - acc: 0.7796 - val_loss: 0.4952 - val_acc: 0.8614\n",
      "Epoch 161/500\n",
      " - 1s - loss: 0.7523 - acc: 0.7637 - val_loss: 0.5251 - val_acc: 0.8398\n",
      "Epoch 162/500\n",
      " - 1s - loss: 0.7261 - acc: 0.7944 - val_loss: 0.5357 - val_acc: 0.8414\n",
      "Epoch 163/500\n",
      " - 0s - loss: 0.6934 - acc: 0.7730 - val_loss: 0.5267 - val_acc: 0.8384\n",
      "Epoch 164/500\n",
      " - 1s - loss: 0.7286 - acc: 0.7703 - val_loss: 0.4965 - val_acc: 0.8544\n",
      "Epoch 165/500\n",
      " - 1s - loss: 0.7800 - acc: 0.7620 - val_loss: 0.5896 - val_acc: 0.8062\n",
      "Epoch 166/500\n",
      " - 1s - loss: 0.7555 - acc: 0.7724 - val_loss: 0.4969 - val_acc: 0.8558\n",
      "Epoch 167/500\n",
      " - 1s - loss: 0.7012 - acc: 0.7852 - val_loss: 0.5209 - val_acc: 0.8380\n",
      "Epoch 168/500\n",
      " - 1s - loss: 0.6638 - acc: 0.8032 - val_loss: 0.5053 - val_acc: 0.8450\n",
      "Epoch 169/500\n",
      " - 1s - loss: 0.7610 - acc: 0.7555 - val_loss: 0.4821 - val_acc: 0.8662\n",
      "Epoch 170/500\n",
      " - 1s - loss: 0.7139 - acc: 0.7801 - val_loss: 0.5010 - val_acc: 0.8600\n",
      "Epoch 171/500\n",
      " - 1s - loss: 0.7161 - acc: 0.7763 - val_loss: 0.5020 - val_acc: 0.8456\n",
      "Epoch 172/500\n",
      " - 0s - loss: 0.7077 - acc: 0.7697 - val_loss: 0.5013 - val_acc: 0.8530\n",
      "Epoch 173/500\n",
      " - 1s - loss: 0.7236 - acc: 0.7703 - val_loss: 0.4727 - val_acc: 0.8642\n",
      "Epoch 174/500\n",
      " - 1s - loss: 0.6666 - acc: 0.7961 - val_loss: 0.4722 - val_acc: 0.8606\n",
      "Epoch 175/500\n",
      " - 1s - loss: 0.7106 - acc: 0.7879 - val_loss: 0.4963 - val_acc: 0.8616\n",
      "Epoch 176/500\n",
      " - 1s - loss: 0.6604 - acc: 0.7960 - val_loss: 0.4679 - val_acc: 0.8632\n",
      "Epoch 177/500\n",
      " - 1s - loss: 0.6880 - acc: 0.7665 - val_loss: 0.4568 - val_acc: 0.8710\n",
      "Epoch 178/500\n",
      " - 1s - loss: 0.6849 - acc: 0.7884 - val_loss: 0.4936 - val_acc: 0.8650\n",
      "Epoch 179/500\n",
      " - 1s - loss: 0.6984 - acc: 0.7714 - val_loss: 0.4594 - val_acc: 0.8652\n",
      "Epoch 180/500\n",
      " - 1s - loss: 0.6457 - acc: 0.7933 - val_loss: 0.5070 - val_acc: 0.8488\n",
      "Epoch 181/500\n",
      " - 1s - loss: 0.6688 - acc: 0.7818 - val_loss: 0.4525 - val_acc: 0.8700\n",
      "Epoch 182/500\n",
      " - 1s - loss: 0.6774 - acc: 0.7785 - val_loss: 0.5914 - val_acc: 0.8050\n",
      "Epoch 183/500\n",
      " - 1s - loss: 0.7024 - acc: 0.7533 - val_loss: 0.4608 - val_acc: 0.8636\n",
      "Epoch 184/500\n",
      " - 1s - loss: 0.6802 - acc: 0.7829 - val_loss: 0.4606 - val_acc: 0.8682\n",
      "Epoch 185/500\n",
      " - 1s - loss: 0.6673 - acc: 0.7753 - val_loss: 0.4531 - val_acc: 0.8686\n",
      "Epoch 186/500\n",
      " - 1s - loss: 0.6953 - acc: 0.7874 - val_loss: 0.4443 - val_acc: 0.8708\n",
      "Epoch 187/500\n",
      " - 1s - loss: 0.6992 - acc: 0.7730 - val_loss: 0.4566 - val_acc: 0.8662\n",
      "Epoch 188/500\n",
      " - 1s - loss: 0.6912 - acc: 0.7730 - val_loss: 0.4715 - val_acc: 0.8676\n",
      "Epoch 189/500\n",
      " - 1s - loss: 0.6883 - acc: 0.7872 - val_loss: 0.5582 - val_acc: 0.8352\n",
      "Epoch 190/500\n",
      " - 1s - loss: 0.6439 - acc: 0.8087 - val_loss: 0.4434 - val_acc: 0.8734\n",
      "Epoch 191/500\n",
      " - 0s - loss: 0.6433 - acc: 0.8092 - val_loss: 0.4510 - val_acc: 0.8628\n",
      "Epoch 192/500\n",
      " - 1s - loss: 0.6089 - acc: 0.8092 - val_loss: 0.4339 - val_acc: 0.8728\n",
      "Epoch 193/500\n",
      " - 1s - loss: 0.6831 - acc: 0.7790 - val_loss: 0.4269 - val_acc: 0.8766\n"
     ]
    },
    {
     "name": "stdout",
     "output_type": "stream",
     "text": [
      "Epoch 194/500\n",
      " - 1s - loss: 0.6964 - acc: 0.7900 - val_loss: 0.4881 - val_acc: 0.8454\n",
      "Epoch 195/500\n",
      " - 1s - loss: 0.6396 - acc: 0.7933 - val_loss: 0.4617 - val_acc: 0.8596\n",
      "Epoch 196/500\n",
      " - 1s - loss: 0.6302 - acc: 0.7923 - val_loss: 0.4330 - val_acc: 0.8728\n",
      "Epoch 197/500\n",
      " - 1s - loss: 0.6056 - acc: 0.8345 - val_loss: 0.5041 - val_acc: 0.8358\n",
      "Epoch 198/500\n",
      " - 1s - loss: 0.6321 - acc: 0.8021 - val_loss: 0.4669 - val_acc: 0.8542\n",
      "Epoch 199/500\n",
      " - 1s - loss: 0.6035 - acc: 0.8064 - val_loss: 0.4791 - val_acc: 0.8484\n",
      "Epoch 200/500\n",
      " - 0s - loss: 0.6546 - acc: 0.7988 - val_loss: 0.4624 - val_acc: 0.8580\n",
      "Epoch 201/500\n",
      " - 1s - loss: 0.6470 - acc: 0.7911 - val_loss: 0.4392 - val_acc: 0.8730\n",
      "Epoch 202/500\n",
      " - 1s - loss: 0.6607 - acc: 0.7769 - val_loss: 0.4267 - val_acc: 0.8734\n",
      "Epoch 203/500\n",
      " - 1s - loss: 0.5627 - acc: 0.8169 - val_loss: 0.4191 - val_acc: 0.8768\n",
      "Epoch 204/500\n",
      " - 1s - loss: 0.6662 - acc: 0.8021 - val_loss: 0.4490 - val_acc: 0.8594\n",
      "Epoch 205/500\n",
      " - 1s - loss: 0.6565 - acc: 0.7944 - val_loss: 0.4504 - val_acc: 0.8602\n",
      "Epoch 206/500\n",
      " - 0s - loss: 0.6652 - acc: 0.7950 - val_loss: 0.4334 - val_acc: 0.8704\n",
      "Epoch 207/500\n",
      " - 0s - loss: 0.6026 - acc: 0.8092 - val_loss: 0.4272 - val_acc: 0.8786\n",
      "Epoch 208/500\n",
      " - 0s - loss: 0.6064 - acc: 0.8048 - val_loss: 0.4616 - val_acc: 0.8724\n",
      "Epoch 209/500\n",
      " - 0s - loss: 0.6458 - acc: 0.8054 - val_loss: 0.4235 - val_acc: 0.8766\n",
      "Epoch 210/500\n",
      " - 1s - loss: 0.6057 - acc: 0.8158 - val_loss: 0.4348 - val_acc: 0.8734\n",
      "Epoch 211/500\n",
      " - 1s - loss: 0.5865 - acc: 0.8124 - val_loss: 0.4110 - val_acc: 0.8842\n",
      "Epoch 212/500\n",
      " - 0s - loss: 0.6168 - acc: 0.8060 - val_loss: 0.4240 - val_acc: 0.8718\n",
      "Epoch 213/500\n",
      " - 0s - loss: 0.5731 - acc: 0.8141 - val_loss: 0.4108 - val_acc: 0.8810\n",
      "Epoch 214/500\n",
      " - 1s - loss: 0.6620 - acc: 0.7829 - val_loss: 0.4865 - val_acc: 0.8442\n",
      "Epoch 215/500\n",
      " - 1s - loss: 0.6061 - acc: 0.8086 - val_loss: 0.4511 - val_acc: 0.8648\n",
      "Epoch 216/500\n",
      " - 0s - loss: 0.6462 - acc: 0.7824 - val_loss: 0.4162 - val_acc: 0.8806\n",
      "Epoch 217/500\n",
      " - 0s - loss: 0.6110 - acc: 0.7955 - val_loss: 0.4029 - val_acc: 0.8798\n",
      "Epoch 218/500\n",
      " - 0s - loss: 0.6163 - acc: 0.8003 - val_loss: 0.4118 - val_acc: 0.8792\n",
      "Epoch 219/500\n",
      " - 1s - loss: 0.6105 - acc: 0.7928 - val_loss: 0.4241 - val_acc: 0.8744\n",
      "Epoch 220/500\n",
      " - 1s - loss: 0.5878 - acc: 0.8246 - val_loss: 0.4235 - val_acc: 0.8756\n",
      "Epoch 221/500\n",
      " - 0s - loss: 0.5939 - acc: 0.8009 - val_loss: 0.4135 - val_acc: 0.8774\n",
      "Epoch 222/500\n",
      " - 0s - loss: 0.5730 - acc: 0.8218 - val_loss: 0.4214 - val_acc: 0.8768\n",
      "Epoch 223/500\n",
      " - 1s - loss: 0.6148 - acc: 0.8065 - val_loss: 0.3986 - val_acc: 0.8832\n",
      "Epoch 224/500\n",
      " - 1s - loss: 0.6511 - acc: 0.7868 - val_loss: 0.4147 - val_acc: 0.8730\n",
      "Epoch 225/500\n",
      " - 1s - loss: 0.6056 - acc: 0.8059 - val_loss: 0.4324 - val_acc: 0.8664\n",
      "Epoch 226/500\n",
      " - 1s - loss: 0.5726 - acc: 0.8070 - val_loss: 0.4014 - val_acc: 0.8802\n",
      "Epoch 227/500\n",
      " - 1s - loss: 0.5582 - acc: 0.8180 - val_loss: 0.4407 - val_acc: 0.8632\n",
      "Epoch 228/500\n",
      " - 0s - loss: 0.5924 - acc: 0.8032 - val_loss: 0.4161 - val_acc: 0.8712\n",
      "Epoch 229/500\n",
      " - 1s - loss: 0.6194 - acc: 0.7905 - val_loss: 0.4039 - val_acc: 0.8802\n",
      "Epoch 230/500\n",
      " - 1s - loss: 0.5951 - acc: 0.7971 - val_loss: 0.3970 - val_acc: 0.8786\n",
      "Epoch 231/500\n",
      " - 1s - loss: 0.5008 - acc: 0.8284 - val_loss: 0.5589 - val_acc: 0.8254\n",
      "Epoch 232/500\n",
      " - 1s - loss: 0.5807 - acc: 0.8158 - val_loss: 0.4167 - val_acc: 0.8760\n",
      "Epoch 233/500\n",
      " - 1s - loss: 0.5714 - acc: 0.8146 - val_loss: 0.4014 - val_acc: 0.8772\n",
      "Epoch 234/500\n",
      " - 1s - loss: 0.5794 - acc: 0.8190 - val_loss: 0.3928 - val_acc: 0.8832\n",
      "Epoch 235/500\n",
      " - 0s - loss: 0.5797 - acc: 0.8077 - val_loss: 0.3994 - val_acc: 0.8864\n",
      "Epoch 236/500\n",
      " - 1s - loss: 0.5717 - acc: 0.8141 - val_loss: 0.4585 - val_acc: 0.8526\n",
      "Epoch 237/500\n",
      " - 1s - loss: 0.5770 - acc: 0.8257 - val_loss: 0.3826 - val_acc: 0.8884\n",
      "Epoch 238/500\n",
      " - 1s - loss: 0.5804 - acc: 0.8015 - val_loss: 0.4172 - val_acc: 0.8796\n",
      "Epoch 239/500\n",
      " - 1s - loss: 0.5646 - acc: 0.8207 - val_loss: 0.3873 - val_acc: 0.8820\n",
      "Epoch 240/500\n",
      " - 1s - loss: 0.5525 - acc: 0.8169 - val_loss: 0.4073 - val_acc: 0.8758\n",
      "Epoch 241/500\n",
      " - 1s - loss: 0.5650 - acc: 0.8257 - val_loss: 0.3821 - val_acc: 0.8878\n",
      "Epoch 242/500\n",
      " - 1s - loss: 0.5399 - acc: 0.8328 - val_loss: 0.4235 - val_acc: 0.8770\n",
      "Epoch 243/500\n",
      " - 1s - loss: 0.5689 - acc: 0.8214 - val_loss: 0.3839 - val_acc: 0.8822\n",
      "Epoch 244/500\n",
      " - 1s - loss: 0.5415 - acc: 0.8179 - val_loss: 0.4220 - val_acc: 0.8720\n",
      "Epoch 245/500\n",
      " - 1s - loss: 0.5488 - acc: 0.8316 - val_loss: 0.4047 - val_acc: 0.8738\n",
      "Epoch 246/500\n",
      " - 1s - loss: 0.5339 - acc: 0.8274 - val_loss: 0.4279 - val_acc: 0.8704\n",
      "Epoch 247/500\n",
      " - 1s - loss: 0.5973 - acc: 0.8108 - val_loss: 0.3825 - val_acc: 0.8856\n",
      "Epoch 248/500\n",
      " - 0s - loss: 0.5569 - acc: 0.8262 - val_loss: 0.3848 - val_acc: 0.8870\n",
      "Epoch 249/500\n",
      " - 0s - loss: 0.5229 - acc: 0.8464 - val_loss: 0.3755 - val_acc: 0.8850\n",
      "Epoch 250/500\n",
      " - 0s - loss: 0.5852 - acc: 0.8075 - val_loss: 0.3875 - val_acc: 0.8854\n",
      "Epoch 251/500\n",
      " - 1s - loss: 0.5631 - acc: 0.8020 - val_loss: 0.3815 - val_acc: 0.8844\n",
      "Epoch 252/500\n",
      " - 1s - loss: 0.5616 - acc: 0.7944 - val_loss: 0.4128 - val_acc: 0.8722\n",
      "Epoch 253/500\n",
      " - 1s - loss: 0.5324 - acc: 0.8481 - val_loss: 0.4627 - val_acc: 0.8624\n",
      "Epoch 254/500\n",
      " - 1s - loss: 0.5753 - acc: 0.8164 - val_loss: 0.3898 - val_acc: 0.8842\n",
      "Epoch 255/500\n",
      " - 0s - loss: 0.5296 - acc: 0.8355 - val_loss: 0.3852 - val_acc: 0.8838\n",
      "Epoch 256/500\n",
      " - 1s - loss: 0.5846 - acc: 0.8038 - val_loss: 0.3823 - val_acc: 0.8892\n",
      "Epoch 257/500\n",
      " - 1s - loss: 0.4960 - acc: 0.8443 - val_loss: 0.3802 - val_acc: 0.8858\n",
      "Epoch 258/500\n",
      " - 1s - loss: 0.4897 - acc: 0.8360 - val_loss: 0.3785 - val_acc: 0.8832\n",
      "Epoch 259/500\n",
      " - 1s - loss: 0.5065 - acc: 0.8377 - val_loss: 0.3795 - val_acc: 0.8860\n",
      "Epoch 260/500\n",
      " - 1s - loss: 0.5421 - acc: 0.8208 - val_loss: 0.3744 - val_acc: 0.8892\n",
      "Epoch 261/500\n",
      " - 1s - loss: 0.5553 - acc: 0.8245 - val_loss: 0.3951 - val_acc: 0.8758\n",
      "Epoch 262/500\n",
      " - 1s - loss: 0.5213 - acc: 0.8317 - val_loss: 0.3744 - val_acc: 0.8898\n",
      "Epoch 263/500\n",
      " - 1s - loss: 0.5546 - acc: 0.8344 - val_loss: 0.3694 - val_acc: 0.8844\n",
      "Epoch 264/500\n",
      " - 1s - loss: 0.5122 - acc: 0.8411 - val_loss: 0.3876 - val_acc: 0.8840\n",
      "Epoch 265/500\n",
      " - 1s - loss: 0.5324 - acc: 0.8426 - val_loss: 0.3927 - val_acc: 0.8854\n",
      "Epoch 266/500\n",
      " - 1s - loss: 0.5687 - acc: 0.8174 - val_loss: 0.3896 - val_acc: 0.8854\n",
      "Epoch 267/500\n",
      " - 1s - loss: 0.5589 - acc: 0.8256 - val_loss: 0.3648 - val_acc: 0.8878\n",
      "Epoch 268/500\n",
      " - 1s - loss: 0.5246 - acc: 0.8332 - val_loss: 0.4292 - val_acc: 0.8658\n",
      "Epoch 269/500\n",
      " - 1s - loss: 0.5159 - acc: 0.8388 - val_loss: 0.4106 - val_acc: 0.8740\n",
      "Epoch 270/500\n",
      " - 1s - loss: 0.5309 - acc: 0.8443 - val_loss: 0.3718 - val_acc: 0.8906\n",
      "Epoch 271/500\n",
      " - 1s - loss: 0.5688 - acc: 0.8223 - val_loss: 0.3638 - val_acc: 0.8888\n",
      "Epoch 272/500\n",
      " - 1s - loss: 0.4938 - acc: 0.8388 - val_loss: 0.4076 - val_acc: 0.8766\n",
      "Epoch 273/500\n",
      " - 1s - loss: 0.5189 - acc: 0.8305 - val_loss: 0.3809 - val_acc: 0.8824\n",
      "Epoch 274/500\n",
      " - 1s - loss: 0.4616 - acc: 0.8520 - val_loss: 0.3707 - val_acc: 0.8874\n",
      "Epoch 275/500\n",
      " - 1s - loss: 0.4960 - acc: 0.8311 - val_loss: 0.3755 - val_acc: 0.8854\n",
      "Epoch 276/500\n",
      " - 1s - loss: 0.5001 - acc: 0.8279 - val_loss: 0.3663 - val_acc: 0.8898\n",
      "Epoch 277/500\n",
      " - 1s - loss: 0.5211 - acc: 0.8295 - val_loss: 0.3825 - val_acc: 0.8798\n",
      "Epoch 278/500\n",
      " - 1s - loss: 0.4896 - acc: 0.8553 - val_loss: 0.3967 - val_acc: 0.8754\n",
      "Epoch 279/500\n",
      " - 1s - loss: 0.4792 - acc: 0.8443 - val_loss: 0.3546 - val_acc: 0.8888\n",
      "Epoch 280/500\n",
      " - 1s - loss: 0.5089 - acc: 0.8400 - val_loss: 0.3879 - val_acc: 0.8832\n",
      "Epoch 281/500\n",
      " - 1s - loss: 0.5138 - acc: 0.8322 - val_loss: 0.3737 - val_acc: 0.8830\n",
      "Epoch 282/500\n",
      " - 1s - loss: 0.5274 - acc: 0.8415 - val_loss: 0.3791 - val_acc: 0.8834\n",
      "Epoch 283/500\n",
      " - 1s - loss: 0.4961 - acc: 0.8388 - val_loss: 0.3539 - val_acc: 0.8916\n",
      "Epoch 284/500\n",
      " - 1s - loss: 0.5377 - acc: 0.8322 - val_loss: 0.3961 - val_acc: 0.8770\n",
      "Epoch 285/500\n",
      " - 1s - loss: 0.4987 - acc: 0.8312 - val_loss: 0.3889 - val_acc: 0.8780\n",
      "Epoch 286/500\n",
      " - 1s - loss: 0.5132 - acc: 0.8366 - val_loss: 0.3710 - val_acc: 0.8872\n",
      "Epoch 287/500\n",
      " - 1s - loss: 0.4708 - acc: 0.8366 - val_loss: 0.3529 - val_acc: 0.8906\n",
      "Epoch 288/500\n",
      " - 1s - loss: 0.5601 - acc: 0.8246 - val_loss: 0.3562 - val_acc: 0.8950\n",
      "Epoch 289/500\n",
      " - 1s - loss: 0.5042 - acc: 0.8279 - val_loss: 0.3718 - val_acc: 0.8858\n"
     ]
    },
    {
     "name": "stdout",
     "output_type": "stream",
     "text": [
      "Epoch 290/500\n",
      " - 1s - loss: 0.4711 - acc: 0.8399 - val_loss: 0.3540 - val_acc: 0.8914\n",
      "Epoch 291/500\n",
      " - 1s - loss: 0.4780 - acc: 0.8393 - val_loss: 0.3806 - val_acc: 0.8816\n",
      "Epoch 292/500\n",
      " - 1s - loss: 0.4678 - acc: 0.8449 - val_loss: 0.3604 - val_acc: 0.8916\n",
      "Epoch 293/500\n",
      " - 1s - loss: 0.4735 - acc: 0.8476 - val_loss: 0.3726 - val_acc: 0.8854\n",
      "Epoch 294/500\n",
      " - 1s - loss: 0.4759 - acc: 0.8410 - val_loss: 0.3568 - val_acc: 0.8912\n",
      "Epoch 295/500\n",
      " - 1s - loss: 0.5198 - acc: 0.8437 - val_loss: 0.3902 - val_acc: 0.8812\n",
      "Epoch 296/500\n",
      " - 1s - loss: 0.5049 - acc: 0.8436 - val_loss: 0.3905 - val_acc: 0.8812\n",
      "Epoch 297/500\n",
      " - 1s - loss: 0.5151 - acc: 0.8498 - val_loss: 0.3663 - val_acc: 0.8882\n",
      "Epoch 298/500\n",
      " - 1s - loss: 0.4940 - acc: 0.8256 - val_loss: 0.3565 - val_acc: 0.8896\n",
      "Epoch 299/500\n",
      " - 0s - loss: 0.4781 - acc: 0.8366 - val_loss: 0.3618 - val_acc: 0.8902\n",
      "Epoch 300/500\n",
      " - 1s - loss: 0.5181 - acc: 0.8350 - val_loss: 0.3659 - val_acc: 0.8874\n",
      "Epoch 301/500\n",
      " - 1s - loss: 0.5137 - acc: 0.8481 - val_loss: 0.3454 - val_acc: 0.8954\n",
      "Epoch 302/500\n",
      " - 1s - loss: 0.5096 - acc: 0.8223 - val_loss: 0.3477 - val_acc: 0.8972\n",
      "Epoch 303/500\n",
      " - 1s - loss: 0.4467 - acc: 0.8547 - val_loss: 0.3596 - val_acc: 0.8874\n",
      "Epoch 304/500\n",
      " - 1s - loss: 0.4935 - acc: 0.8585 - val_loss: 0.4358 - val_acc: 0.8654\n",
      "Epoch 305/500\n",
      " - 1s - loss: 0.5011 - acc: 0.8493 - val_loss: 0.3590 - val_acc: 0.8872\n",
      "Epoch 306/500\n",
      " - 1s - loss: 0.5120 - acc: 0.8267 - val_loss: 0.3560 - val_acc: 0.8922\n",
      "Epoch 307/500\n",
      " - 1s - loss: 0.4397 - acc: 0.8656 - val_loss: 0.3750 - val_acc: 0.8842\n",
      "Epoch 308/500\n",
      " - 0s - loss: 0.4949 - acc: 0.8383 - val_loss: 0.3526 - val_acc: 0.8906\n",
      "Epoch 309/500\n",
      " - 1s - loss: 0.4755 - acc: 0.8482 - val_loss: 0.3516 - val_acc: 0.8928\n",
      "Epoch 310/500\n",
      " - 1s - loss: 0.4944 - acc: 0.8333 - val_loss: 0.3388 - val_acc: 0.8944\n",
      "Epoch 311/500\n",
      " - 1s - loss: 0.4756 - acc: 0.8526 - val_loss: 0.3769 - val_acc: 0.8862\n",
      "Epoch 312/500\n",
      " - 1s - loss: 0.5374 - acc: 0.8136 - val_loss: 0.3865 - val_acc: 0.8810\n",
      "Epoch 313/500\n",
      " - 1s - loss: 0.4818 - acc: 0.8410 - val_loss: 0.3427 - val_acc: 0.8944\n",
      "Epoch 314/500\n",
      " - 1s - loss: 0.4697 - acc: 0.8481 - val_loss: 0.3446 - val_acc: 0.8950\n",
      "Epoch 315/500\n",
      " - 1s - loss: 0.4484 - acc: 0.8514 - val_loss: 0.3831 - val_acc: 0.8804\n",
      "Epoch 316/500\n",
      " - 1s - loss: 0.4530 - acc: 0.8476 - val_loss: 0.3336 - val_acc: 0.8964\n",
      "Epoch 317/500\n",
      " - 1s - loss: 0.4581 - acc: 0.8532 - val_loss: 0.3365 - val_acc: 0.8932\n",
      "Epoch 318/500\n",
      " - 1s - loss: 0.4564 - acc: 0.8520 - val_loss: 0.3497 - val_acc: 0.8908\n",
      "Epoch 319/500\n",
      " - 1s - loss: 0.4875 - acc: 0.8471 - val_loss: 0.3789 - val_acc: 0.8832\n",
      "Epoch 320/500\n",
      " - 1s - loss: 0.4718 - acc: 0.8498 - val_loss: 0.3513 - val_acc: 0.8906\n",
      "Epoch 321/500\n",
      " - 1s - loss: 0.4813 - acc: 0.8470 - val_loss: 0.3504 - val_acc: 0.8908\n",
      "Epoch 322/500\n",
      " - 1s - loss: 0.5460 - acc: 0.8125 - val_loss: 0.3566 - val_acc: 0.8926\n",
      "Epoch 323/500\n",
      " - 1s - loss: 0.4609 - acc: 0.8656 - val_loss: 0.4044 - val_acc: 0.8708\n",
      "Epoch 324/500\n",
      " - 1s - loss: 0.4878 - acc: 0.8498 - val_loss: 0.3942 - val_acc: 0.8740\n",
      "Epoch 325/500\n",
      " - 1s - loss: 0.4717 - acc: 0.8355 - val_loss: 0.3417 - val_acc: 0.8914\n",
      "Epoch 326/500\n",
      " - 1s - loss: 0.4732 - acc: 0.8460 - val_loss: 0.3847 - val_acc: 0.8806\n",
      "Epoch 327/500\n",
      " - 1s - loss: 0.4816 - acc: 0.8294 - val_loss: 0.3794 - val_acc: 0.8794\n",
      "Epoch 328/500\n",
      " - 1s - loss: 0.4855 - acc: 0.8306 - val_loss: 0.3462 - val_acc: 0.8936\n",
      "Epoch 329/500\n",
      " - 1s - loss: 0.4179 - acc: 0.8612 - val_loss: 0.3720 - val_acc: 0.8876\n",
      "Epoch 330/500\n",
      " - 1s - loss: 0.4411 - acc: 0.8684 - val_loss: 0.3485 - val_acc: 0.8934\n",
      "Epoch 331/500\n",
      " - 1s - loss: 0.4770 - acc: 0.8400 - val_loss: 0.3563 - val_acc: 0.8908\n",
      "Epoch 332/500\n",
      " - 1s - loss: 0.4847 - acc: 0.8371 - val_loss: 0.3431 - val_acc: 0.8966\n",
      "Epoch 333/500\n",
      " - 1s - loss: 0.4636 - acc: 0.8520 - val_loss: 0.3305 - val_acc: 0.8962\n",
      "Epoch 334/500\n",
      " - 0s - loss: 0.4654 - acc: 0.8399 - val_loss: 0.3600 - val_acc: 0.8870\n",
      "Epoch 335/500\n",
      " - 1s - loss: 0.4843 - acc: 0.8597 - val_loss: 0.3576 - val_acc: 0.8928\n",
      "Epoch 336/500\n",
      " - 1s - loss: 0.4401 - acc: 0.8695 - val_loss: 0.3394 - val_acc: 0.8952\n",
      "Epoch 337/500\n",
      " - 1s - loss: 0.4654 - acc: 0.8487 - val_loss: 0.3326 - val_acc: 0.8986\n",
      "Epoch 338/500\n",
      " - 1s - loss: 0.4625 - acc: 0.8514 - val_loss: 0.3247 - val_acc: 0.8990\n",
      "Epoch 339/500\n",
      " - 1s - loss: 0.4329 - acc: 0.8596 - val_loss: 0.3638 - val_acc: 0.8856\n",
      "Epoch 340/500\n",
      " - 1s - loss: 0.4655 - acc: 0.8454 - val_loss: 0.3350 - val_acc: 0.8972\n",
      "Epoch 341/500\n",
      " - 1s - loss: 0.4580 - acc: 0.8437 - val_loss: 0.3393 - val_acc: 0.8928\n",
      "Epoch 342/500\n",
      " - 1s - loss: 0.4790 - acc: 0.8394 - val_loss: 0.3677 - val_acc: 0.8848\n",
      "Epoch 343/500\n",
      " - 0s - loss: 0.4661 - acc: 0.8531 - val_loss: 0.3420 - val_acc: 0.8942\n",
      "Epoch 344/500\n",
      " - 1s - loss: 0.5175 - acc: 0.8175 - val_loss: 0.3490 - val_acc: 0.8910\n",
      "Epoch 345/500\n",
      " - 1s - loss: 0.4030 - acc: 0.8822 - val_loss: 0.3566 - val_acc: 0.8882\n",
      "Epoch 346/500\n",
      " - 1s - loss: 0.4483 - acc: 0.8575 - val_loss: 0.3259 - val_acc: 0.8986\n",
      "Epoch 347/500\n",
      " - 1s - loss: 0.4765 - acc: 0.8285 - val_loss: 0.3451 - val_acc: 0.8942\n",
      "Epoch 348/500\n",
      " - 1s - loss: 0.4497 - acc: 0.8481 - val_loss: 0.3467 - val_acc: 0.8930\n",
      "Epoch 349/500\n",
      " - 1s - loss: 0.4158 - acc: 0.8487 - val_loss: 0.3436 - val_acc: 0.8942\n",
      "Epoch 350/500\n",
      " - 1s - loss: 0.4671 - acc: 0.8449 - val_loss: 0.3347 - val_acc: 0.8970\n",
      "Epoch 351/500\n",
      " - 1s - loss: 0.4508 - acc: 0.8465 - val_loss: 0.3294 - val_acc: 0.8980\n",
      "Epoch 352/500\n",
      " - 1s - loss: 0.4477 - acc: 0.8536 - val_loss: 0.3483 - val_acc: 0.8906\n",
      "Epoch 353/500\n",
      " - 1s - loss: 0.4759 - acc: 0.8328 - val_loss: 0.3803 - val_acc: 0.8796\n",
      "Epoch 354/500\n",
      " - 1s - loss: 0.4694 - acc: 0.8388 - val_loss: 0.3218 - val_acc: 0.8990\n",
      "Epoch 355/500\n",
      " - 1s - loss: 0.4078 - acc: 0.8701 - val_loss: 0.3506 - val_acc: 0.8904\n",
      "Epoch 356/500\n",
      " - 1s - loss: 0.4659 - acc: 0.8668 - val_loss: 0.3465 - val_acc: 0.8912\n",
      "Epoch 357/500\n",
      " - 1s - loss: 0.4459 - acc: 0.8547 - val_loss: 0.3775 - val_acc: 0.8834\n",
      "Epoch 358/500\n",
      " - 1s - loss: 0.4855 - acc: 0.8267 - val_loss: 0.3298 - val_acc: 0.8978\n",
      "Epoch 359/500\n",
      " - 1s - loss: 0.4431 - acc: 0.8564 - val_loss: 0.3572 - val_acc: 0.8872\n",
      "Epoch 360/500\n",
      " - 0s - loss: 0.4433 - acc: 0.8585 - val_loss: 0.3822 - val_acc: 0.8758\n",
      "Epoch 361/500\n",
      " - 1s - loss: 0.4248 - acc: 0.8570 - val_loss: 0.3469 - val_acc: 0.8948\n",
      "Epoch 362/500\n",
      " - 1s - loss: 0.4766 - acc: 0.8454 - val_loss: 0.3190 - val_acc: 0.9026\n",
      "Epoch 363/500\n",
      " - 1s - loss: 0.4313 - acc: 0.8586 - val_loss: 0.3136 - val_acc: 0.9020\n",
      "Epoch 364/500\n",
      " - 1s - loss: 0.4744 - acc: 0.8535 - val_loss: 0.3635 - val_acc: 0.8852\n",
      "Epoch 365/500\n",
      " - 1s - loss: 0.4415 - acc: 0.8575 - val_loss: 0.3361 - val_acc: 0.8946\n",
      "Epoch 366/500\n",
      " - 1s - loss: 0.3907 - acc: 0.8882 - val_loss: 0.3900 - val_acc: 0.8744\n",
      "Epoch 367/500\n",
      " - 1s - loss: 0.4391 - acc: 0.8580 - val_loss: 0.4647 - val_acc: 0.8500\n",
      "Epoch 368/500\n",
      " - 1s - loss: 0.4476 - acc: 0.8525 - val_loss: 0.3197 - val_acc: 0.8992\n",
      "Epoch 369/500\n",
      " - 1s - loss: 0.4879 - acc: 0.8306 - val_loss: 0.3460 - val_acc: 0.8930\n",
      "Epoch 370/500\n",
      " - 1s - loss: 0.4117 - acc: 0.8701 - val_loss: 0.3571 - val_acc: 0.8876\n",
      "Epoch 371/500\n",
      " - 1s - loss: 0.4493 - acc: 0.8553 - val_loss: 0.3288 - val_acc: 0.8964\n",
      "Epoch 372/500\n",
      " - 1s - loss: 0.4322 - acc: 0.8613 - val_loss: 0.3347 - val_acc: 0.8948\n",
      "Epoch 373/500\n",
      " - 1s - loss: 0.3927 - acc: 0.8859 - val_loss: 0.3470 - val_acc: 0.8912\n",
      "Epoch 374/500\n",
      " - 1s - loss: 0.4242 - acc: 0.8585 - val_loss: 0.3671 - val_acc: 0.8844\n",
      "Epoch 375/500\n",
      " - 1s - loss: 0.4664 - acc: 0.8612 - val_loss: 0.3333 - val_acc: 0.8950\n",
      "Epoch 376/500\n",
      " - 1s - loss: 0.4520 - acc: 0.8365 - val_loss: 0.3165 - val_acc: 0.9046\n",
      "Epoch 377/500\n",
      " - 1s - loss: 0.4405 - acc: 0.8449 - val_loss: 0.3387 - val_acc: 0.8942\n",
      "Epoch 378/500\n",
      " - 1s - loss: 0.4597 - acc: 0.8415 - val_loss: 0.3321 - val_acc: 0.8956\n",
      "Epoch 379/500\n",
      " - 1s - loss: 0.4819 - acc: 0.8459 - val_loss: 0.3378 - val_acc: 0.8966\n",
      "Epoch 380/500\n",
      " - 1s - loss: 0.4289 - acc: 0.8695 - val_loss: 0.3271 - val_acc: 0.8970\n",
      "Epoch 381/500\n",
      " - 1s - loss: 0.4069 - acc: 0.8651 - val_loss: 0.3321 - val_acc: 0.8932\n",
      "Epoch 382/500\n",
      " - 1s - loss: 0.4057 - acc: 0.8815 - val_loss: 0.3147 - val_acc: 0.8992\n",
      "Epoch 383/500\n",
      " - 1s - loss: 0.3992 - acc: 0.8673 - val_loss: 0.3322 - val_acc: 0.8966\n",
      "Epoch 384/500\n",
      " - 1s - loss: 0.4602 - acc: 0.8525 - val_loss: 0.3333 - val_acc: 0.8942\n",
      "Epoch 385/500\n",
      " - 1s - loss: 0.4145 - acc: 0.8722 - val_loss: 0.3148 - val_acc: 0.9020\n"
     ]
    },
    {
     "name": "stdout",
     "output_type": "stream",
     "text": [
      "Epoch 386/500\n",
      " - 0s - loss: 0.4291 - acc: 0.8536 - val_loss: 0.3473 - val_acc: 0.8956\n",
      "Epoch 387/500\n",
      " - 1s - loss: 0.4302 - acc: 0.8537 - val_loss: 0.3312 - val_acc: 0.8956\n",
      "Epoch 388/500\n",
      " - 1s - loss: 0.4258 - acc: 0.8695 - val_loss: 0.3948 - val_acc: 0.8722\n",
      "Epoch 389/500\n",
      " - 1s - loss: 0.4227 - acc: 0.8618 - val_loss: 0.3139 - val_acc: 0.9000\n",
      "Epoch 390/500\n",
      " - 1s - loss: 0.4522 - acc: 0.8684 - val_loss: 0.3604 - val_acc: 0.8872\n",
      "Epoch 391/500\n",
      " - 1s - loss: 0.4094 - acc: 0.8602 - val_loss: 0.3191 - val_acc: 0.8998\n",
      "Epoch 392/500\n",
      " - 1s - loss: 0.4153 - acc: 0.8750 - val_loss: 0.4113 - val_acc: 0.8706\n",
      "Epoch 393/500\n",
      " - 1s - loss: 0.4033 - acc: 0.8706 - val_loss: 0.3273 - val_acc: 0.8970\n",
      "Epoch 394/500\n",
      " - 1s - loss: 0.3887 - acc: 0.8701 - val_loss: 0.3324 - val_acc: 0.8974\n",
      "Epoch 395/500\n",
      " - 1s - loss: 0.3899 - acc: 0.8701 - val_loss: 0.3500 - val_acc: 0.8926\n",
      "Epoch 396/500\n",
      " - 1s - loss: 0.4097 - acc: 0.8712 - val_loss: 0.3397 - val_acc: 0.8948\n",
      "Epoch 397/500\n",
      " - 1s - loss: 0.4555 - acc: 0.8444 - val_loss: 0.3371 - val_acc: 0.8912\n",
      "Epoch 398/500\n",
      " - 1s - loss: 0.4536 - acc: 0.8465 - val_loss: 0.3248 - val_acc: 0.8976\n",
      "Epoch 399/500\n",
      " - 1s - loss: 0.3998 - acc: 0.8696 - val_loss: 0.3235 - val_acc: 0.9010\n",
      "Epoch 400/500\n",
      " - 1s - loss: 0.4801 - acc: 0.8437 - val_loss: 0.3311 - val_acc: 0.8990\n",
      "Epoch 401/500\n",
      " - 1s - loss: 0.4010 - acc: 0.8656 - val_loss: 0.3286 - val_acc: 0.8986\n",
      "Epoch 402/500\n",
      " - 1s - loss: 0.4658 - acc: 0.8296 - val_loss: 0.3329 - val_acc: 0.8982\n",
      "Epoch 403/500\n",
      " - 1s - loss: 0.4123 - acc: 0.8553 - val_loss: 0.3251 - val_acc: 0.9004\n",
      "Epoch 404/500\n",
      " - 0s - loss: 0.4216 - acc: 0.8728 - val_loss: 0.3084 - val_acc: 0.9060\n",
      "Epoch 405/500\n",
      " - 1s - loss: 0.3965 - acc: 0.8739 - val_loss: 0.3287 - val_acc: 0.8962\n",
      "Epoch 406/500\n",
      " - 1s - loss: 0.4050 - acc: 0.8707 - val_loss: 0.3314 - val_acc: 0.8960\n",
      "Epoch 407/500\n",
      " - 1s - loss: 0.4098 - acc: 0.8613 - val_loss: 0.3253 - val_acc: 0.8982\n",
      "Epoch 408/500\n",
      " - 1s - loss: 0.4525 - acc: 0.8526 - val_loss: 0.3252 - val_acc: 0.8984\n",
      "Epoch 409/500\n",
      " - 1s - loss: 0.3819 - acc: 0.8701 - val_loss: 0.3650 - val_acc: 0.8878\n",
      "Epoch 410/500\n",
      " - 1s - loss: 0.4573 - acc: 0.8460 - val_loss: 0.3218 - val_acc: 0.8968\n",
      "Epoch 411/500\n",
      " - 1s - loss: 0.4295 - acc: 0.8586 - val_loss: 0.3288 - val_acc: 0.8982\n",
      "Epoch 412/500\n",
      " - 1s - loss: 0.4206 - acc: 0.8591 - val_loss: 0.3173 - val_acc: 0.9044\n",
      "Epoch 413/500\n",
      " - 0s - loss: 0.4163 - acc: 0.8498 - val_loss: 0.3363 - val_acc: 0.8996\n",
      "Epoch 414/500\n",
      " - 1s - loss: 0.4284 - acc: 0.8541 - val_loss: 0.3322 - val_acc: 0.8958\n",
      "Epoch 415/500\n",
      " - 1s - loss: 0.3985 - acc: 0.8816 - val_loss: 0.3113 - val_acc: 0.9014\n",
      "Epoch 416/500\n",
      " - 1s - loss: 0.3519 - acc: 0.8887 - val_loss: 0.3150 - val_acc: 0.9042\n",
      "Epoch 417/500\n",
      " - 1s - loss: 0.4079 - acc: 0.8569 - val_loss: 0.3071 - val_acc: 0.9020\n",
      "Epoch 418/500\n",
      " - 1s - loss: 0.4233 - acc: 0.8635 - val_loss: 0.3148 - val_acc: 0.9028\n",
      "Epoch 419/500\n",
      " - 1s - loss: 0.4062 - acc: 0.8668 - val_loss: 0.3570 - val_acc: 0.8890\n",
      "Epoch 420/500\n",
      " - 1s - loss: 0.3865 - acc: 0.8734 - val_loss: 0.3161 - val_acc: 0.9016\n",
      "Epoch 421/500\n",
      " - 1s - loss: 0.3790 - acc: 0.8663 - val_loss: 0.3044 - val_acc: 0.9050\n",
      "Epoch 422/500\n",
      " - 0s - loss: 0.4196 - acc: 0.8656 - val_loss: 0.3701 - val_acc: 0.8844\n",
      "Epoch 423/500\n",
      " - 1s - loss: 0.4001 - acc: 0.8596 - val_loss: 0.3429 - val_acc: 0.8918\n",
      "Epoch 424/500\n",
      " - 1s - loss: 0.4486 - acc: 0.8389 - val_loss: 0.3098 - val_acc: 0.9024\n",
      "Epoch 425/500\n",
      " - 1s - loss: 0.3736 - acc: 0.8827 - val_loss: 0.3414 - val_acc: 0.8936\n",
      "Epoch 426/500\n",
      " - 1s - loss: 0.3864 - acc: 0.8651 - val_loss: 0.3801 - val_acc: 0.8818\n",
      "Epoch 427/500\n",
      " - 1s - loss: 0.4322 - acc: 0.8640 - val_loss: 0.3334 - val_acc: 0.8946\n",
      "Epoch 428/500\n",
      " - 1s - loss: 0.4218 - acc: 0.8613 - val_loss: 0.3322 - val_acc: 0.8988\n",
      "Epoch 429/500\n",
      " - 1s - loss: 0.4004 - acc: 0.8564 - val_loss: 0.3106 - val_acc: 0.9042\n",
      "Epoch 430/500\n",
      " - 1s - loss: 0.4564 - acc: 0.8618 - val_loss: 0.3147 - val_acc: 0.9036\n",
      "Epoch 431/500\n",
      " - 1s - loss: 0.4179 - acc: 0.8668 - val_loss: 0.3294 - val_acc: 0.8980\n",
      "Epoch 432/500\n",
      " - 1s - loss: 0.3930 - acc: 0.8564 - val_loss: 0.3116 - val_acc: 0.9000\n",
      "Epoch 433/500\n",
      " - 1s - loss: 0.4154 - acc: 0.8613 - val_loss: 0.3139 - val_acc: 0.9016\n",
      "Epoch 434/500\n",
      " - 1s - loss: 0.4165 - acc: 0.8602 - val_loss: 0.3250 - val_acc: 0.9008\n",
      "Epoch 435/500\n",
      " - 1s - loss: 0.3998 - acc: 0.8777 - val_loss: 0.3127 - val_acc: 0.9036\n",
      "Epoch 436/500\n",
      " - 1s - loss: 0.4336 - acc: 0.8579 - val_loss: 0.3141 - val_acc: 0.9016\n",
      "Epoch 437/500\n",
      " - 1s - loss: 0.4427 - acc: 0.8542 - val_loss: 0.3224 - val_acc: 0.8992\n",
      "Epoch 438/500\n",
      " - 1s - loss: 0.3799 - acc: 0.8728 - val_loss: 0.3450 - val_acc: 0.8914\n",
      "Epoch 439/500\n",
      " - 0s - loss: 0.4094 - acc: 0.8514 - val_loss: 0.3194 - val_acc: 0.8998\n",
      "Epoch 440/500\n",
      " - 1s - loss: 0.4177 - acc: 0.8591 - val_loss: 0.3081 - val_acc: 0.9040\n",
      "Epoch 441/500\n",
      " - 1s - loss: 0.4071 - acc: 0.8811 - val_loss: 0.3118 - val_acc: 0.9020\n",
      "Epoch 442/500\n",
      " - 1s - loss: 0.4152 - acc: 0.8793 - val_loss: 0.3221 - val_acc: 0.9004\n",
      "Epoch 443/500\n",
      " - 1s - loss: 0.4001 - acc: 0.8481 - val_loss: 0.3460 - val_acc: 0.8898\n",
      "Epoch 444/500\n",
      " - 1s - loss: 0.4403 - acc: 0.8581 - val_loss: 0.2988 - val_acc: 0.9052\n",
      "Epoch 445/500\n",
      " - 1s - loss: 0.4192 - acc: 0.8706 - val_loss: 0.3071 - val_acc: 0.9046\n",
      "Epoch 446/500\n",
      " - 1s - loss: 0.3845 - acc: 0.8811 - val_loss: 0.3204 - val_acc: 0.8970\n",
      "Epoch 447/500\n",
      " - 1s - loss: 0.3746 - acc: 0.8701 - val_loss: 0.3244 - val_acc: 0.8978\n",
      "Epoch 448/500\n",
      " - 1s - loss: 0.3894 - acc: 0.8701 - val_loss: 0.3124 - val_acc: 0.9016\n",
      "Epoch 449/500\n",
      " - 1s - loss: 0.3806 - acc: 0.8860 - val_loss: 0.3333 - val_acc: 0.8942\n",
      "Epoch 450/500\n",
      " - 1s - loss: 0.3708 - acc: 0.8859 - val_loss: 0.3054 - val_acc: 0.9056\n",
      "Epoch 451/500\n",
      " - 1s - loss: 0.4076 - acc: 0.8646 - val_loss: 0.3119 - val_acc: 0.9026\n",
      "Epoch 452/500\n",
      " - 1s - loss: 0.3593 - acc: 0.8788 - val_loss: 0.3222 - val_acc: 0.8990\n",
      "Epoch 453/500\n",
      " - 1s - loss: 0.4085 - acc: 0.8603 - val_loss: 0.2986 - val_acc: 0.9058\n",
      "Epoch 454/500\n",
      " - 1s - loss: 0.3828 - acc: 0.8745 - val_loss: 0.3203 - val_acc: 0.8988\n",
      "Epoch 455/500\n",
      " - 1s - loss: 0.3755 - acc: 0.8740 - val_loss: 0.3402 - val_acc: 0.8938\n",
      "Epoch 456/500\n",
      " - 1s - loss: 0.4159 - acc: 0.8585 - val_loss: 0.3265 - val_acc: 0.8926\n",
      "Epoch 457/500\n",
      " - 1s - loss: 0.4172 - acc: 0.8553 - val_loss: 0.3192 - val_acc: 0.9008\n",
      "Epoch 458/500\n",
      " - 1s - loss: 0.3826 - acc: 0.8843 - val_loss: 0.3296 - val_acc: 0.8990\n",
      "Epoch 459/500\n",
      " - 1s - loss: 0.3999 - acc: 0.8766 - val_loss: 0.3134 - val_acc: 0.9000\n",
      "Epoch 460/500\n",
      " - 1s - loss: 0.3774 - acc: 0.8734 - val_loss: 0.3083 - val_acc: 0.9036\n",
      "Epoch 461/500\n",
      " - 1s - loss: 0.3464 - acc: 0.8805 - val_loss: 0.3299 - val_acc: 0.8950\n",
      "Epoch 462/500\n",
      " - 1s - loss: 0.3818 - acc: 0.8492 - val_loss: 0.3056 - val_acc: 0.9048\n",
      "Epoch 463/500\n",
      " - 1s - loss: 0.4443 - acc: 0.8508 - val_loss: 0.3026 - val_acc: 0.9068\n",
      "Epoch 464/500\n",
      " - 1s - loss: 0.4322 - acc: 0.8618 - val_loss: 0.3004 - val_acc: 0.9082\n",
      "Epoch 465/500\n",
      " - 0s - loss: 0.3957 - acc: 0.8788 - val_loss: 0.3226 - val_acc: 0.8980\n",
      "Epoch 466/500\n",
      " - 1s - loss: 0.3757 - acc: 0.8717 - val_loss: 0.3234 - val_acc: 0.8994\n",
      "Epoch 467/500\n",
      " - 1s - loss: 0.4313 - acc: 0.8558 - val_loss: 0.3080 - val_acc: 0.9028\n",
      "Epoch 468/500\n",
      " - 1s - loss: 0.3907 - acc: 0.8805 - val_loss: 0.3153 - val_acc: 0.8990\n",
      "Epoch 469/500\n",
      " - 1s - loss: 0.3595 - acc: 0.8817 - val_loss: 0.3130 - val_acc: 0.8994\n",
      "Epoch 470/500\n",
      " - 1s - loss: 0.3716 - acc: 0.8679 - val_loss: 0.3140 - val_acc: 0.9030\n",
      "Epoch 471/500\n",
      " - 1s - loss: 0.3939 - acc: 0.8680 - val_loss: 0.3052 - val_acc: 0.9044\n",
      "Epoch 472/500\n",
      " - 1s - loss: 0.3640 - acc: 0.8777 - val_loss: 0.3065 - val_acc: 0.9042\n",
      "Epoch 473/500\n",
      " - 1s - loss: 0.3966 - acc: 0.8481 - val_loss: 0.3289 - val_acc: 0.8972\n",
      "Epoch 474/500\n",
      " - 1s - loss: 0.4814 - acc: 0.8449 - val_loss: 0.3882 - val_acc: 0.8784\n",
      "Epoch 475/500\n",
      " - 1s - loss: 0.3821 - acc: 0.8761 - val_loss: 0.3105 - val_acc: 0.9022\n",
      "Epoch 476/500\n",
      " - 1s - loss: 0.3652 - acc: 0.8882 - val_loss: 0.3881 - val_acc: 0.8764\n",
      "Epoch 477/500\n",
      " - 1s - loss: 0.4015 - acc: 0.8564 - val_loss: 0.3427 - val_acc: 0.8956\n",
      "Epoch 478/500\n",
      " - 1s - loss: 0.3309 - acc: 0.8991 - val_loss: 0.3140 - val_acc: 0.9032\n",
      "Epoch 479/500\n",
      " - 1s - loss: 0.4076 - acc: 0.8684 - val_loss: 0.4567 - val_acc: 0.8570\n",
      "Epoch 480/500\n",
      " - 1s - loss: 0.3430 - acc: 0.8859 - val_loss: 0.2948 - val_acc: 0.9094\n",
      "Epoch 481/500\n",
      " - 1s - loss: 0.4081 - acc: 0.8727 - val_loss: 0.3096 - val_acc: 0.9030\n"
     ]
    },
    {
     "name": "stdout",
     "output_type": "stream",
     "text": [
      "Epoch 482/500\n",
      " - 1s - loss: 0.3464 - acc: 0.8887 - val_loss: 0.3450 - val_acc: 0.8900\n",
      "Epoch 483/500\n",
      " - 0s - loss: 0.3975 - acc: 0.8487 - val_loss: 0.3231 - val_acc: 0.9036\n",
      "Epoch 484/500\n",
      " - 1s - loss: 0.3817 - acc: 0.8701 - val_loss: 0.3130 - val_acc: 0.9040\n",
      "Epoch 485/500\n",
      " - 1s - loss: 0.4089 - acc: 0.8618 - val_loss: 0.3596 - val_acc: 0.8848\n",
      "Epoch 486/500\n",
      " - 1s - loss: 0.4094 - acc: 0.8760 - val_loss: 0.3072 - val_acc: 0.9048\n",
      "Epoch 487/500\n",
      " - 1s - loss: 0.3466 - acc: 0.8888 - val_loss: 0.3223 - val_acc: 0.9000\n",
      "Epoch 488/500\n",
      " - 1s - loss: 0.3813 - acc: 0.8755 - val_loss: 0.3013 - val_acc: 0.9060\n",
      "Epoch 489/500\n",
      " - 1s - loss: 0.4558 - acc: 0.8553 - val_loss: 0.3006 - val_acc: 0.9058\n",
      "Epoch 490/500\n",
      " - 1s - loss: 0.3773 - acc: 0.8826 - val_loss: 0.2976 - val_acc: 0.9056\n",
      "Epoch 491/500\n",
      " - 1s - loss: 0.3973 - acc: 0.8662 - val_loss: 0.3468 - val_acc: 0.8932\n",
      "Epoch 492/500\n",
      " - 0s - loss: 0.3646 - acc: 0.8773 - val_loss: 0.3084 - val_acc: 0.9034\n",
      "Epoch 493/500\n",
      " - 1s - loss: 0.3960 - acc: 0.8630 - val_loss: 0.3460 - val_acc: 0.8944\n",
      "Epoch 494/500\n",
      " - 1s - loss: 0.4340 - acc: 0.8455 - val_loss: 0.2998 - val_acc: 0.9048\n",
      "Epoch 495/500\n",
      " - 1s - loss: 0.4094 - acc: 0.8608 - val_loss: 0.2896 - val_acc: 0.9102\n",
      "Epoch 496/500\n",
      " - 1s - loss: 0.3812 - acc: 0.8739 - val_loss: 0.3166 - val_acc: 0.8980\n",
      "Epoch 497/500\n",
      " - 1s - loss: 0.3800 - acc: 0.8778 - val_loss: 0.3045 - val_acc: 0.9036\n",
      "Epoch 498/500\n",
      " - 1s - loss: 0.3934 - acc: 0.8591 - val_loss: 0.3090 - val_acc: 0.9026\n",
      "Epoch 499/500\n",
      " - 1s - loss: 0.3327 - acc: 0.9002 - val_loss: 0.3275 - val_acc: 0.8952\n",
      "Epoch 500/500\n",
      " - 1s - loss: 0.3904 - acc: 0.8876 - val_loss: 0.3159 - val_acc: 0.9010\n"
     ]
    }
   ],
   "source": [
    "# fits the model on batches with real-time data augmentation:\n",
    "# the accuracy continues to (slowly) rise, due to the augmentation\n",
    "history = cnnmodel.fit_generator(datagen.flow(x_train, y_train, batch_size=batch_size), \n",
    "                                 epochs=10*epochs,\n",
    "                                 verbose=2,\n",
    "                                 validation_data=(x_test, y_test))"
   ]
  },
  {
   "cell_type": "code",
   "execution_count": 40,
   "metadata": {
    "scrolled": true,
    "slideshow": {
     "slide_type": "subslide"
    }
   },
   "outputs": [
    {
     "data": {
      "image/png": "[encoded data removed]",
      "text/plain": [
       "<Figure size 1080x360 with 2 Axes>"
      ]
     },
     "metadata": {
      "needs_background": "light"
     },
     "output_type": "display_data"
    }
   ],
   "source": [
    "histplot(history)"
   ]
  }
 ],
 "metadata": {
  "anaconda-cloud": {},
  "celltoolbar": "Slideshow",
  "hide_input": false,
  "kernelspec": {
   "display_name": "Python [conda env:keras_demo]",
   "language": "python",
   "name": "conda-env-keras_demo-py"
  },
  "language_info": {
   "codemirror_mode": {
    "name": "ipython",
    "version": 3
   },
   "file_extension": ".py",
   "mimetype": "text/x-python",
   "name": "python",
   "nbconvert_exporter": "python",
   "pygments_lexer": "ipython3",
   "version": "3.6.6"
  },
  "latex_envs": {
   "LaTeX_envs_menu_present": true,
   "autocomplete": true,
   "bibliofile": "biblio.bib",
   "cite_by": "apalike",
   "current_citInitial": 1,
   "eqLabelWithNumbers": true,
   "eqNumInitial": 1,
   "hotkeys": {
    "equation": "Ctrl-E",
    "itemize": "Ctrl-I"
   },
   "labels_anchors": false,
   "latex_user_defs": false,
   "report_style_numbering": false,
   "user_envs_cfg": false
  }
 },
 "nbformat": 4,
 "nbformat_minor": 2
}
